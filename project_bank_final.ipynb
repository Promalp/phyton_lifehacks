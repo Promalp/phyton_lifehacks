{
 "cells": [
  {
   "cell_type": "markdown",
   "metadata": {},
   "source": [
    "<div style=\"border:solid purple 2px; padding: 20px\"> \n",
    "\n",
    "Тимур, привет! 👋 Поздравляю с первым выполненным проектом 🙂\n",
    "\n",
    "Меня зовут Рустам Муртазин, и я буду делать ревью проектной работы по предобработке данных. Давай будем общаться на **«ты»**. Если это неприемлемо, обязательно напиши мне в комментариях — мы перейдем на **«вы»**.\n",
    "\n",
    "Ты проделал большую работу над проектом, однако в любом деле всегда можно можно что-то улучшить. Моя основная цель — не показать, что где-то совершены какие-либо ошибки, а поделиться своим опытом, который поможет тебе в дальнейших работах. Далее в файле ты сможешь увидеть мои комментарии, постарайся учесть их при выполнении следующих заданий.\n",
    "\n",
    "Обрати внимание в первую очередь на те, что помечаны <span style=\"color:red\">красным цветом</span>. После их доработки проект будет принят. <span style=\"color:green\">Зеленым цветом</span> отмечены удачные и элегантные решения, на которые можно опираться в будущих проектах. <span style=\"color:orange\">Оранжевым цветом</span> выделено то, что в следующий раз можно сделать по-другому. Ты можешь учесть эти комментарии при выполнении будущих заданий или доработать проект сейчас (однако это не обязательно). Также в проекте могут быть небольшие «лайфхаки» по Python, не относящиеся к проекту, их я выделил в фиолетовую рамку)\n",
    "\n",
    "Давай работать над проектом в диалоге: если ты **что-то меняешь** в проекте по моим рекомендациям — **пиши об этом**. Выбери для своих комментариев какой-то заметный цвет, так мне будет легче отследить изменения. Пожалуйста, **не перемещай, не изменяй и не удаляй мои комментарии**. Всё это поможет выполнить повторную проверку твоего проекта оперативнее».\n",
    "\n",
    "В целом работа хорошая, видно, что ты старался. Дорабатывай комментарии и отправляй работу на повторное ревью, я буду ждать 😉\n"
   ]
  },
  {
   "cell_type": "markdown",
   "metadata": {},
   "source": [
    "<div class=\"alert alert-success\">\n",
    "<h2> Комментарий ревьюера v2 <a class=\"tocSkip\"> </h2>\n",
    "\n",
    "Спасибо за быструю и качественную доработку комментариев! Все моменты были исправлены, так что работу я принимаю. Надеюсь ты учтешь мои комментарии в последующих работах. Благодарю за старания и интерес и желаю успехов в дальнейших проектах 😊\n",
    "\n",
    "</div>"
   ]
  },
  {
   "cell_type": "markdown",
   "metadata": {},
   "source": [
    "# Исследование надёжности заёмщиков\n",
    "\n",
    "Заказчик — кредитный отдел банка. Нужно разобраться, влияет ли семейное положение и количество детей клиента на факт погашения кредита в срок. Входные данные от банка — статистика о платёжеспособности клиентов.\n",
    "\n",
    "Результаты исследования будут учтены при построении модели **кредитного скоринга** — специальной системы, которая оценивает способность потенциального заёмщика вернуть кредит банку."
   ]
  },
  {
   "cell_type": "markdown",
   "metadata": {},
   "source": [
    "## Шаг 1. Общая информация о входных данных\n",
    "<a class=\"anchor\" id=\"1\"></a>"
   ]
  },
  {
   "cell_type": "markdown",
   "metadata": {},
   "source": [
    "<div class=\"alert alert-success\"> \n",
    "<h2> Комментарий ревьюера <a class=\"tocSkip\"> </h2>\n",
    "\n",
    "Ты уже наверное заметил, недавно добавили плагин `toc` для Jupyter, позволяющий сделать [автоматическое оглавление](https://jupyter-contrib-nbextensions.readthedocs.io/en/latest/nbextensions/toc2/README.html). Так вот, если тебе не нравится автоматическая нумерация с `toc`, то ее можно убрать. Для этого нужно сделать следующее:\n",
    "\n",
    "- выведи оглавление, для этого нажми на значок списка (находится справа от `Validate`)\n",
    "- слева выйдет само оглаление, нажми на шестиренку\n",
    "- и убери галку с функции автоматической нумерации `Automatically number headings`\n"
   ]
  },
  {
   "cell_type": "markdown",
   "metadata": {},
   "source": [
    "Изучим данные, для этого импортируем библиотеку, прочитаем файл и выведем первые 10 строк таблицы."
   ]
  },
  {
   "cell_type": "code",
   "execution_count": 1,
   "metadata": {
    "scrolled": true
   },
   "outputs": [
    {
     "data": {
      "text/html": [
       "<div>\n",
       "<style scoped>\n",
       "    .dataframe tbody tr th:only-of-type {\n",
       "        vertical-align: middle;\n",
       "    }\n",
       "\n",
       "    .dataframe tbody tr th {\n",
       "        vertical-align: top;\n",
       "    }\n",
       "\n",
       "    .dataframe thead th {\n",
       "        text-align: right;\n",
       "    }\n",
       "</style>\n",
       "<table border=\"1\" class=\"dataframe\">\n",
       "  <thead>\n",
       "    <tr style=\"text-align: right;\">\n",
       "      <th></th>\n",
       "      <th>children</th>\n",
       "      <th>days_employed</th>\n",
       "      <th>dob_years</th>\n",
       "      <th>education</th>\n",
       "      <th>education_id</th>\n",
       "      <th>family_status</th>\n",
       "      <th>family_status_id</th>\n",
       "      <th>gender</th>\n",
       "      <th>income_type</th>\n",
       "      <th>debt</th>\n",
       "      <th>total_income</th>\n",
       "      <th>purpose</th>\n",
       "    </tr>\n",
       "  </thead>\n",
       "  <tbody>\n",
       "    <tr>\n",
       "      <td>0</td>\n",
       "      <td>1</td>\n",
       "      <td>-8437.673028</td>\n",
       "      <td>42</td>\n",
       "      <td>высшее</td>\n",
       "      <td>0</td>\n",
       "      <td>женат / замужем</td>\n",
       "      <td>0</td>\n",
       "      <td>F</td>\n",
       "      <td>сотрудник</td>\n",
       "      <td>0</td>\n",
       "      <td>253875.639453</td>\n",
       "      <td>покупка жилья</td>\n",
       "    </tr>\n",
       "    <tr>\n",
       "      <td>1</td>\n",
       "      <td>1</td>\n",
       "      <td>-4024.803754</td>\n",
       "      <td>36</td>\n",
       "      <td>среднее</td>\n",
       "      <td>1</td>\n",
       "      <td>женат / замужем</td>\n",
       "      <td>0</td>\n",
       "      <td>F</td>\n",
       "      <td>сотрудник</td>\n",
       "      <td>0</td>\n",
       "      <td>112080.014102</td>\n",
       "      <td>приобретение автомобиля</td>\n",
       "    </tr>\n",
       "    <tr>\n",
       "      <td>2</td>\n",
       "      <td>0</td>\n",
       "      <td>-5623.422610</td>\n",
       "      <td>33</td>\n",
       "      <td>Среднее</td>\n",
       "      <td>1</td>\n",
       "      <td>женат / замужем</td>\n",
       "      <td>0</td>\n",
       "      <td>M</td>\n",
       "      <td>сотрудник</td>\n",
       "      <td>0</td>\n",
       "      <td>145885.952297</td>\n",
       "      <td>покупка жилья</td>\n",
       "    </tr>\n",
       "    <tr>\n",
       "      <td>3</td>\n",
       "      <td>3</td>\n",
       "      <td>-4124.747207</td>\n",
       "      <td>32</td>\n",
       "      <td>среднее</td>\n",
       "      <td>1</td>\n",
       "      <td>женат / замужем</td>\n",
       "      <td>0</td>\n",
       "      <td>M</td>\n",
       "      <td>сотрудник</td>\n",
       "      <td>0</td>\n",
       "      <td>267628.550329</td>\n",
       "      <td>дополнительное образование</td>\n",
       "    </tr>\n",
       "    <tr>\n",
       "      <td>4</td>\n",
       "      <td>0</td>\n",
       "      <td>340266.072047</td>\n",
       "      <td>53</td>\n",
       "      <td>среднее</td>\n",
       "      <td>1</td>\n",
       "      <td>гражданский брак</td>\n",
       "      <td>1</td>\n",
       "      <td>F</td>\n",
       "      <td>пенсионер</td>\n",
       "      <td>0</td>\n",
       "      <td>158616.077870</td>\n",
       "      <td>сыграть свадьбу</td>\n",
       "    </tr>\n",
       "    <tr>\n",
       "      <td>5</td>\n",
       "      <td>0</td>\n",
       "      <td>-926.185831</td>\n",
       "      <td>27</td>\n",
       "      <td>высшее</td>\n",
       "      <td>0</td>\n",
       "      <td>гражданский брак</td>\n",
       "      <td>1</td>\n",
       "      <td>M</td>\n",
       "      <td>компаньон</td>\n",
       "      <td>0</td>\n",
       "      <td>255763.565419</td>\n",
       "      <td>покупка жилья</td>\n",
       "    </tr>\n",
       "    <tr>\n",
       "      <td>6</td>\n",
       "      <td>0</td>\n",
       "      <td>-2879.202052</td>\n",
       "      <td>43</td>\n",
       "      <td>высшее</td>\n",
       "      <td>0</td>\n",
       "      <td>женат / замужем</td>\n",
       "      <td>0</td>\n",
       "      <td>F</td>\n",
       "      <td>компаньон</td>\n",
       "      <td>0</td>\n",
       "      <td>240525.971920</td>\n",
       "      <td>операции с жильем</td>\n",
       "    </tr>\n",
       "    <tr>\n",
       "      <td>7</td>\n",
       "      <td>0</td>\n",
       "      <td>-152.779569</td>\n",
       "      <td>50</td>\n",
       "      <td>СРЕДНЕЕ</td>\n",
       "      <td>1</td>\n",
       "      <td>женат / замужем</td>\n",
       "      <td>0</td>\n",
       "      <td>M</td>\n",
       "      <td>сотрудник</td>\n",
       "      <td>0</td>\n",
       "      <td>135823.934197</td>\n",
       "      <td>образование</td>\n",
       "    </tr>\n",
       "    <tr>\n",
       "      <td>8</td>\n",
       "      <td>2</td>\n",
       "      <td>-6929.865299</td>\n",
       "      <td>35</td>\n",
       "      <td>ВЫСШЕЕ</td>\n",
       "      <td>0</td>\n",
       "      <td>гражданский брак</td>\n",
       "      <td>1</td>\n",
       "      <td>F</td>\n",
       "      <td>сотрудник</td>\n",
       "      <td>0</td>\n",
       "      <td>95856.832424</td>\n",
       "      <td>на проведение свадьбы</td>\n",
       "    </tr>\n",
       "    <tr>\n",
       "      <td>9</td>\n",
       "      <td>0</td>\n",
       "      <td>-2188.756445</td>\n",
       "      <td>41</td>\n",
       "      <td>среднее</td>\n",
       "      <td>1</td>\n",
       "      <td>женат / замужем</td>\n",
       "      <td>0</td>\n",
       "      <td>M</td>\n",
       "      <td>сотрудник</td>\n",
       "      <td>0</td>\n",
       "      <td>144425.938277</td>\n",
       "      <td>покупка жилья для семьи</td>\n",
       "    </tr>\n",
       "  </tbody>\n",
       "</table>\n",
       "</div>"
      ],
      "text/plain": [
       "   children  days_employed  dob_years education  education_id  \\\n",
       "0         1   -8437.673028         42    высшее             0   \n",
       "1         1   -4024.803754         36   среднее             1   \n",
       "2         0   -5623.422610         33   Среднее             1   \n",
       "3         3   -4124.747207         32   среднее             1   \n",
       "4         0  340266.072047         53   среднее             1   \n",
       "5         0    -926.185831         27    высшее             0   \n",
       "6         0   -2879.202052         43    высшее             0   \n",
       "7         0    -152.779569         50   СРЕДНЕЕ             1   \n",
       "8         2   -6929.865299         35    ВЫСШЕЕ             0   \n",
       "9         0   -2188.756445         41   среднее             1   \n",
       "\n",
       "      family_status  family_status_id gender income_type  debt   total_income  \\\n",
       "0   женат / замужем                 0      F   сотрудник     0  253875.639453   \n",
       "1   женат / замужем                 0      F   сотрудник     0  112080.014102   \n",
       "2   женат / замужем                 0      M   сотрудник     0  145885.952297   \n",
       "3   женат / замужем                 0      M   сотрудник     0  267628.550329   \n",
       "4  гражданский брак                 1      F   пенсионер     0  158616.077870   \n",
       "5  гражданский брак                 1      M   компаньон     0  255763.565419   \n",
       "6   женат / замужем                 0      F   компаньон     0  240525.971920   \n",
       "7   женат / замужем                 0      M   сотрудник     0  135823.934197   \n",
       "8  гражданский брак                 1      F   сотрудник     0   95856.832424   \n",
       "9   женат / замужем                 0      M   сотрудник     0  144425.938277   \n",
       "\n",
       "                      purpose  \n",
       "0               покупка жилья  \n",
       "1     приобретение автомобиля  \n",
       "2               покупка жилья  \n",
       "3  дополнительное образование  \n",
       "4             сыграть свадьбу  \n",
       "5               покупка жилья  \n",
       "6           операции с жильем  \n",
       "7                 образование  \n",
       "8       на проведение свадьбы  \n",
       "9     покупка жилья для семьи  "
      ]
     },
     "execution_count": 1,
     "metadata": {},
     "output_type": "execute_result"
    }
   ],
   "source": [
    "import pandas as pd\n",
    "df = pd.read_csv('/datasets/data.csv')\n",
    "df.head(10)"
   ]
  },
  {
   "cell_type": "markdown",
   "metadata": {},
   "source": [
    "Наблюдаем следующие проблемы:\n",
    "+ столбец 'days_employed' содержит отрицательные значения, очевидно из-за ошибки при вводе;\n",
    "+ одинаковые данные в столбце 'education' содержат разные регистры;\n",
    "+ данные в столбцах 'days_employed' и 'total_income' было бы удобнее привести к целым числам;\n",
    "+ данные в столбце 'purpose' не приведены к ограниченному набору категорий, что затруднит их обработку;\n",
    "\n",
    "Выведем общую информацию о таблице."
   ]
  },
  {
   "cell_type": "code",
   "execution_count": 2,
   "metadata": {},
   "outputs": [
    {
     "name": "stdout",
     "output_type": "stream",
     "text": [
      "<class 'pandas.core.frame.DataFrame'>\n",
      "RangeIndex: 21525 entries, 0 to 21524\n",
      "Data columns (total 12 columns):\n",
      "children            21525 non-null int64\n",
      "days_employed       19351 non-null float64\n",
      "dob_years           21525 non-null int64\n",
      "education           21525 non-null object\n",
      "education_id        21525 non-null int64\n",
      "family_status       21525 non-null object\n",
      "family_status_id    21525 non-null int64\n",
      "gender              21525 non-null object\n",
      "income_type         21525 non-null object\n",
      "debt                21525 non-null int64\n",
      "total_income        19351 non-null float64\n",
      "purpose             21525 non-null object\n",
      "dtypes: float64(2), int64(5), object(5)\n",
      "memory usage: 2.0+ MB\n"
     ]
    }
   ],
   "source": [
    "df.info()"
   ]
  },
  {
   "cell_type": "markdown",
   "metadata": {},
   "source": [
    "Рассмотрим полученную информацию.\n",
    "\n",
    "Таблица содержит 12 столбцов с различными типами данных.\n",
    "Разберем подробнее, какие имеются столбцы, и какую информацию они содержат:\n",
    "\n",
    "+ children — количество детей в семье\n",
    "+ days_employed — общий трудовой стаж в днях\n",
    "+ dob_years — возраст клиента в годах\n",
    "+ education — уровень образования клиента\n",
    "+ education_id — идентификатор уровня образования\n",
    "+ family_status — семейное положение\n",
    "+ family_status_id — идентификатор семейного положения\n",
    "+ gender — пол клиента\n",
    "+ income_type — тип занятости\n",
    "+ debt — имел ли задолженность по возврату кредитов\n",
    "+ total_income — ежемесячный доход\n",
    "+ purpose — цель получения кредита\n",
    "\n",
    "Количество значений в столбцах различается. Это говорит о том, что в данных есть пропущенные значения."
   ]
  },
  {
   "cell_type": "markdown",
   "metadata": {},
   "source": [
    "**Вывод**"
   ]
  },
  {
   "cell_type": "markdown",
   "metadata": {},
   "source": [
    "Каждая строка таблицы содержит данные о клиенте банка. Для нашего исследования прежде всего интересны столбцы 'children', 'family_status', 'debt', 'total_income', 'purpose'. \n",
    "\n",
    "Необходимо решить следующие проблемы:\n",
    "+ обработать пропуски, попутно выяснив их причину;\n",
    "+ обработать некорректно введенные данные в столбце 'days_employed';\n",
    "+ изменить тип данных столбцов 'days_employed' и 'total_income';\n",
    "+ привести данные в столбце 'education' к одному регистру;\n",
    "+ лемматизировать данные в столбце 'purpose';"
   ]
  },
  {
   "cell_type": "markdown",
   "metadata": {},
   "source": [
    "<div class=\"alert alert-success\">\n",
    "<h2> Комментарий ревьюера <a class=\"tocSkip\"> </h2>\n",
    "\n",
    "Хорошее начало"
   ]
  },
  {
   "cell_type": "markdown",
   "metadata": {},
   "source": [
    "<a class=\"anchor\" id=\"2\"></a>\n",
    "## Шаг 2. Предобработка данных "
   ]
  },
  {
   "cell_type": "markdown",
   "metadata": {},
   "source": [
    "<a class=\"anchor\" id=\"2.1\"></a>\n",
    "### Обработка пропусков"
   ]
  },
  {
   "cell_type": "markdown",
   "metadata": {},
   "source": [
    "Проверим данные на наличие пропусков."
   ]
  },
  {
   "cell_type": "code",
   "execution_count": 3,
   "metadata": {
    "scrolled": true
   },
   "outputs": [
    {
     "data": {
      "text/plain": [
       "children               0\n",
       "days_employed       2174\n",
       "dob_years              0\n",
       "education              0\n",
       "education_id           0\n",
       "family_status          0\n",
       "family_status_id       0\n",
       "gender                 0\n",
       "income_type            0\n",
       "debt                   0\n",
       "total_income        2174\n",
       "purpose                0\n",
       "dtype: int64"
      ]
     },
     "execution_count": 3,
     "metadata": {},
     "output_type": "execute_result"
    }
   ],
   "source": [
    "df.isnull().sum()"
   ]
  },
  {
   "cell_type": "markdown",
   "metadata": {},
   "source": [
    "Как видим, примерно для 10% клиентов отсутствует информация о трудовом стаже и доходах. Это может быть связано как с отсутствием данных, так и с фактическим отсутствием трудового стажа и доходов. Чтобы это выяснить, рассмотрим эти случаи внимательнее."
   ]
  },
  {
   "cell_type": "code",
   "execution_count": 4,
   "metadata": {},
   "outputs": [
    {
     "data": {
      "text/html": [
       "<div>\n",
       "<style scoped>\n",
       "    .dataframe tbody tr th:only-of-type {\n",
       "        vertical-align: middle;\n",
       "    }\n",
       "\n",
       "    .dataframe tbody tr th {\n",
       "        vertical-align: top;\n",
       "    }\n",
       "\n",
       "    .dataframe thead th {\n",
       "        text-align: right;\n",
       "    }\n",
       "</style>\n",
       "<table border=\"1\" class=\"dataframe\">\n",
       "  <thead>\n",
       "    <tr style=\"text-align: right;\">\n",
       "      <th></th>\n",
       "      <th>children</th>\n",
       "      <th>days_employed</th>\n",
       "      <th>dob_years</th>\n",
       "      <th>education</th>\n",
       "      <th>education_id</th>\n",
       "      <th>family_status</th>\n",
       "      <th>family_status_id</th>\n",
       "      <th>gender</th>\n",
       "      <th>income_type</th>\n",
       "      <th>debt</th>\n",
       "      <th>total_income</th>\n",
       "      <th>purpose</th>\n",
       "    </tr>\n",
       "  </thead>\n",
       "  <tbody>\n",
       "    <tr>\n",
       "      <td>12</td>\n",
       "      <td>0</td>\n",
       "      <td>NaN</td>\n",
       "      <td>65</td>\n",
       "      <td>среднее</td>\n",
       "      <td>1</td>\n",
       "      <td>гражданский брак</td>\n",
       "      <td>1</td>\n",
       "      <td>M</td>\n",
       "      <td>пенсионер</td>\n",
       "      <td>0</td>\n",
       "      <td>NaN</td>\n",
       "      <td>сыграть свадьбу</td>\n",
       "    </tr>\n",
       "    <tr>\n",
       "      <td>26</td>\n",
       "      <td>0</td>\n",
       "      <td>NaN</td>\n",
       "      <td>41</td>\n",
       "      <td>среднее</td>\n",
       "      <td>1</td>\n",
       "      <td>женат / замужем</td>\n",
       "      <td>0</td>\n",
       "      <td>M</td>\n",
       "      <td>госслужащий</td>\n",
       "      <td>0</td>\n",
       "      <td>NaN</td>\n",
       "      <td>образование</td>\n",
       "    </tr>\n",
       "    <tr>\n",
       "      <td>29</td>\n",
       "      <td>0</td>\n",
       "      <td>NaN</td>\n",
       "      <td>63</td>\n",
       "      <td>среднее</td>\n",
       "      <td>1</td>\n",
       "      <td>Не женат / не замужем</td>\n",
       "      <td>4</td>\n",
       "      <td>F</td>\n",
       "      <td>пенсионер</td>\n",
       "      <td>0</td>\n",
       "      <td>NaN</td>\n",
       "      <td>строительство жилой недвижимости</td>\n",
       "    </tr>\n",
       "    <tr>\n",
       "      <td>41</td>\n",
       "      <td>0</td>\n",
       "      <td>NaN</td>\n",
       "      <td>50</td>\n",
       "      <td>среднее</td>\n",
       "      <td>1</td>\n",
       "      <td>женат / замужем</td>\n",
       "      <td>0</td>\n",
       "      <td>F</td>\n",
       "      <td>госслужащий</td>\n",
       "      <td>0</td>\n",
       "      <td>NaN</td>\n",
       "      <td>сделка с подержанным автомобилем</td>\n",
       "    </tr>\n",
       "    <tr>\n",
       "      <td>55</td>\n",
       "      <td>0</td>\n",
       "      <td>NaN</td>\n",
       "      <td>54</td>\n",
       "      <td>среднее</td>\n",
       "      <td>1</td>\n",
       "      <td>гражданский брак</td>\n",
       "      <td>1</td>\n",
       "      <td>F</td>\n",
       "      <td>пенсионер</td>\n",
       "      <td>1</td>\n",
       "      <td>NaN</td>\n",
       "      <td>сыграть свадьбу</td>\n",
       "    </tr>\n",
       "    <tr>\n",
       "      <td>65</td>\n",
       "      <td>0</td>\n",
       "      <td>NaN</td>\n",
       "      <td>21</td>\n",
       "      <td>среднее</td>\n",
       "      <td>1</td>\n",
       "      <td>Не женат / не замужем</td>\n",
       "      <td>4</td>\n",
       "      <td>M</td>\n",
       "      <td>компаньон</td>\n",
       "      <td>0</td>\n",
       "      <td>NaN</td>\n",
       "      <td>операции с коммерческой недвижимостью</td>\n",
       "    </tr>\n",
       "    <tr>\n",
       "      <td>67</td>\n",
       "      <td>0</td>\n",
       "      <td>NaN</td>\n",
       "      <td>52</td>\n",
       "      <td>высшее</td>\n",
       "      <td>0</td>\n",
       "      <td>женат / замужем</td>\n",
       "      <td>0</td>\n",
       "      <td>F</td>\n",
       "      <td>пенсионер</td>\n",
       "      <td>0</td>\n",
       "      <td>NaN</td>\n",
       "      <td>покупка жилья для семьи</td>\n",
       "    </tr>\n",
       "    <tr>\n",
       "      <td>72</td>\n",
       "      <td>1</td>\n",
       "      <td>NaN</td>\n",
       "      <td>32</td>\n",
       "      <td>высшее</td>\n",
       "      <td>0</td>\n",
       "      <td>женат / замужем</td>\n",
       "      <td>0</td>\n",
       "      <td>M</td>\n",
       "      <td>госслужащий</td>\n",
       "      <td>0</td>\n",
       "      <td>NaN</td>\n",
       "      <td>операции с коммерческой недвижимостью</td>\n",
       "    </tr>\n",
       "    <tr>\n",
       "      <td>82</td>\n",
       "      <td>2</td>\n",
       "      <td>NaN</td>\n",
       "      <td>50</td>\n",
       "      <td>высшее</td>\n",
       "      <td>0</td>\n",
       "      <td>женат / замужем</td>\n",
       "      <td>0</td>\n",
       "      <td>F</td>\n",
       "      <td>сотрудник</td>\n",
       "      <td>0</td>\n",
       "      <td>NaN</td>\n",
       "      <td>жилье</td>\n",
       "    </tr>\n",
       "    <tr>\n",
       "      <td>83</td>\n",
       "      <td>0</td>\n",
       "      <td>NaN</td>\n",
       "      <td>52</td>\n",
       "      <td>среднее</td>\n",
       "      <td>1</td>\n",
       "      <td>женат / замужем</td>\n",
       "      <td>0</td>\n",
       "      <td>M</td>\n",
       "      <td>сотрудник</td>\n",
       "      <td>0</td>\n",
       "      <td>NaN</td>\n",
       "      <td>жилье</td>\n",
       "    </tr>\n",
       "  </tbody>\n",
       "</table>\n",
       "</div>"
      ],
      "text/plain": [
       "    children  days_employed  dob_years education  education_id  \\\n",
       "12         0            NaN         65   среднее             1   \n",
       "26         0            NaN         41   среднее             1   \n",
       "29         0            NaN         63   среднее             1   \n",
       "41         0            NaN         50   среднее             1   \n",
       "55         0            NaN         54   среднее             1   \n",
       "65         0            NaN         21   среднее             1   \n",
       "67         0            NaN         52    высшее             0   \n",
       "72         1            NaN         32    высшее             0   \n",
       "82         2            NaN         50    высшее             0   \n",
       "83         0            NaN         52   среднее             1   \n",
       "\n",
       "            family_status  family_status_id gender  income_type  debt  \\\n",
       "12       гражданский брак                 1      M    пенсионер     0   \n",
       "26        женат / замужем                 0      M  госслужащий     0   \n",
       "29  Не женат / не замужем                 4      F    пенсионер     0   \n",
       "41        женат / замужем                 0      F  госслужащий     0   \n",
       "55       гражданский брак                 1      F    пенсионер     1   \n",
       "65  Не женат / не замужем                 4      M    компаньон     0   \n",
       "67        женат / замужем                 0      F    пенсионер     0   \n",
       "72        женат / замужем                 0      M  госслужащий     0   \n",
       "82        женат / замужем                 0      F    сотрудник     0   \n",
       "83        женат / замужем                 0      M    сотрудник     0   \n",
       "\n",
       "    total_income                                purpose  \n",
       "12           NaN                        сыграть свадьбу  \n",
       "26           NaN                            образование  \n",
       "29           NaN       строительство жилой недвижимости  \n",
       "41           NaN       сделка с подержанным автомобилем  \n",
       "55           NaN                        сыграть свадьбу  \n",
       "65           NaN  операции с коммерческой недвижимостью  \n",
       "67           NaN                покупка жилья для семьи  \n",
       "72           NaN  операции с коммерческой недвижимостью  \n",
       "82           NaN                                  жилье  \n",
       "83           NaN                                  жилье  "
      ]
     },
     "execution_count": 4,
     "metadata": {},
     "output_type": "execute_result"
    }
   ],
   "source": [
    "df[df['days_employed'].isnull()].head(10)"
   ]
  },
  {
   "cell_type": "markdown",
   "metadata": {},
   "source": [
    "Как видим по столбцу 'income_type' (тип занятости), пропуски связаны с отсутсвием данных, а не с фактическим отсутсвием стажа и дохода. Чтобы пропущенные значения не повлияли на результаты исследования, заменим их на медианные значения.\n",
    "\n",
    "Как мы помним, в некоторых строках трудовой стаж записан как отрицательное число, очевидно из-за ошибки при вводе данных. Чтобы корректно посчитать медианы, переведём стаж в положительные числа."
   ]
  },
  {
   "cell_type": "code",
   "execution_count": 5,
   "metadata": {
    "scrolled": true
   },
   "outputs": [
    {
     "data": {
      "text/html": [
       "<div>\n",
       "<style scoped>\n",
       "    .dataframe tbody tr th:only-of-type {\n",
       "        vertical-align: middle;\n",
       "    }\n",
       "\n",
       "    .dataframe tbody tr th {\n",
       "        vertical-align: top;\n",
       "    }\n",
       "\n",
       "    .dataframe thead th {\n",
       "        text-align: right;\n",
       "    }\n",
       "</style>\n",
       "<table border=\"1\" class=\"dataframe\">\n",
       "  <thead>\n",
       "    <tr style=\"text-align: right;\">\n",
       "      <th></th>\n",
       "      <th>children</th>\n",
       "      <th>days_employed</th>\n",
       "      <th>dob_years</th>\n",
       "      <th>education</th>\n",
       "      <th>education_id</th>\n",
       "      <th>family_status</th>\n",
       "      <th>family_status_id</th>\n",
       "      <th>gender</th>\n",
       "      <th>income_type</th>\n",
       "      <th>debt</th>\n",
       "      <th>total_income</th>\n",
       "      <th>purpose</th>\n",
       "    </tr>\n",
       "  </thead>\n",
       "  <tbody>\n",
       "    <tr>\n",
       "      <td>0</td>\n",
       "      <td>1</td>\n",
       "      <td>8437.673028</td>\n",
       "      <td>42</td>\n",
       "      <td>высшее</td>\n",
       "      <td>0</td>\n",
       "      <td>женат / замужем</td>\n",
       "      <td>0</td>\n",
       "      <td>F</td>\n",
       "      <td>сотрудник</td>\n",
       "      <td>0</td>\n",
       "      <td>253875.639453</td>\n",
       "      <td>покупка жилья</td>\n",
       "    </tr>\n",
       "    <tr>\n",
       "      <td>1</td>\n",
       "      <td>1</td>\n",
       "      <td>4024.803754</td>\n",
       "      <td>36</td>\n",
       "      <td>среднее</td>\n",
       "      <td>1</td>\n",
       "      <td>женат / замужем</td>\n",
       "      <td>0</td>\n",
       "      <td>F</td>\n",
       "      <td>сотрудник</td>\n",
       "      <td>0</td>\n",
       "      <td>112080.014102</td>\n",
       "      <td>приобретение автомобиля</td>\n",
       "    </tr>\n",
       "    <tr>\n",
       "      <td>2</td>\n",
       "      <td>0</td>\n",
       "      <td>5623.422610</td>\n",
       "      <td>33</td>\n",
       "      <td>Среднее</td>\n",
       "      <td>1</td>\n",
       "      <td>женат / замужем</td>\n",
       "      <td>0</td>\n",
       "      <td>M</td>\n",
       "      <td>сотрудник</td>\n",
       "      <td>0</td>\n",
       "      <td>145885.952297</td>\n",
       "      <td>покупка жилья</td>\n",
       "    </tr>\n",
       "    <tr>\n",
       "      <td>3</td>\n",
       "      <td>3</td>\n",
       "      <td>4124.747207</td>\n",
       "      <td>32</td>\n",
       "      <td>среднее</td>\n",
       "      <td>1</td>\n",
       "      <td>женат / замужем</td>\n",
       "      <td>0</td>\n",
       "      <td>M</td>\n",
       "      <td>сотрудник</td>\n",
       "      <td>0</td>\n",
       "      <td>267628.550329</td>\n",
       "      <td>дополнительное образование</td>\n",
       "    </tr>\n",
       "    <tr>\n",
       "      <td>4</td>\n",
       "      <td>0</td>\n",
       "      <td>340266.072047</td>\n",
       "      <td>53</td>\n",
       "      <td>среднее</td>\n",
       "      <td>1</td>\n",
       "      <td>гражданский брак</td>\n",
       "      <td>1</td>\n",
       "      <td>F</td>\n",
       "      <td>пенсионер</td>\n",
       "      <td>0</td>\n",
       "      <td>158616.077870</td>\n",
       "      <td>сыграть свадьбу</td>\n",
       "    </tr>\n",
       "  </tbody>\n",
       "</table>\n",
       "</div>"
      ],
      "text/plain": [
       "   children  days_employed  dob_years education  education_id  \\\n",
       "0         1    8437.673028         42    высшее             0   \n",
       "1         1    4024.803754         36   среднее             1   \n",
       "2         0    5623.422610         33   Среднее             1   \n",
       "3         3    4124.747207         32   среднее             1   \n",
       "4         0  340266.072047         53   среднее             1   \n",
       "\n",
       "      family_status  family_status_id gender income_type  debt   total_income  \\\n",
       "0   женат / замужем                 0      F   сотрудник     0  253875.639453   \n",
       "1   женат / замужем                 0      F   сотрудник     0  112080.014102   \n",
       "2   женат / замужем                 0      M   сотрудник     0  145885.952297   \n",
       "3   женат / замужем                 0      M   сотрудник     0  267628.550329   \n",
       "4  гражданский брак                 1      F   пенсионер     0  158616.077870   \n",
       "\n",
       "                      purpose  \n",
       "0               покупка жилья  \n",
       "1     приобретение автомобиля  \n",
       "2               покупка жилья  \n",
       "3  дополнительное образование  \n",
       "4             сыграть свадьбу  "
      ]
     },
     "execution_count": 5,
     "metadata": {},
     "output_type": "execute_result"
    }
   ],
   "source": [
    "df['days_employed'] = df['days_employed'].abs()\n",
    "df.head(5)"
   ]
  },
  {
   "cell_type": "markdown",
   "metadata": {},
   "source": [
    "Заменим пропущенные значения на медианы и проверим результат."
   ]
  },
  {
   "cell_type": "code",
   "execution_count": 6,
   "metadata": {
    "scrolled": true
   },
   "outputs": [
    {
     "name": "stdout",
     "output_type": "stream",
     "text": [
      "<class 'pandas.core.frame.DataFrame'>\n",
      "RangeIndex: 21525 entries, 0 to 21524\n",
      "Data columns (total 12 columns):\n",
      "children            21525 non-null int64\n",
      "days_employed       19351 non-null float64\n",
      "dob_years           21525 non-null int64\n",
      "education           21525 non-null object\n",
      "education_id        21525 non-null int64\n",
      "family_status       21525 non-null object\n",
      "family_status_id    21525 non-null int64\n",
      "gender              21525 non-null object\n",
      "income_type         21525 non-null object\n",
      "debt                21525 non-null int64\n",
      "total_income        19351 non-null float64\n",
      "purpose             21525 non-null object\n",
      "dtypes: float64(2), int64(5), object(5)\n",
      "memory usage: 2.0+ MB\n"
     ]
    }
   ],
   "source": [
    "days_employed_median = df['days_employed'].median(skipna=True)\n",
    "total_income_median = df['total_income'].median(skipna=True)\n",
    "# Заменим пропуски на медианные значения для отдельных категорий ниже по тексту!\n",
    "#df['days_employed'] = df['days_employed'].fillna(days_employed_median)\n",
    "#df['total_income'] = df['total_income'].fillna(total_income_median)\n",
    "df.info()"
   ]
  },
  {
   "cell_type": "markdown",
   "metadata": {},
   "source": [
    "<div class=\"alert alert-warning\">\n",
    "<h2> Комментарий ревюьера <a class=\"tocSkip\"> </h2> \n",
    "\n",
    "Может стоить попробовать заменить пропуски более детально, например заменяя на медианное значение по группам (для `total_income` например группируя по `income_type`). Данный навык точно пригодится в последующих проектах 😉 \n",
    "\n",
    "</div>"
   ]
  },
  {
   "cell_type": "markdown",
   "metadata": {},
   "source": [
    "<font color='blue'>\n",
    " Сейчас попробуем)\n",
    "<font>"
   ]
  },
  {
   "cell_type": "markdown",
   "metadata": {},
   "source": [
    "<div class=\"alert alert-success\">\n",
    "<h2> Комментарий ревьюера v2 <a class=\"tocSkip\"> </h2>\n",
    "\n",
    "Шикарно, лучше не придумаешь)"
   ]
  },
  {
   "cell_type": "code",
   "execution_count": 7,
   "metadata": {},
   "outputs": [
    {
     "name": "stdout",
     "output_type": "stream",
     "text": [
      "<class 'pandas.core.frame.DataFrame'>\n",
      "RangeIndex: 21525 entries, 0 to 21524\n",
      "Data columns (total 13 columns):\n",
      "children            21525 non-null int64\n",
      "days_employed       21525 non-null float64\n",
      "dob_years           21525 non-null int64\n",
      "education           21525 non-null object\n",
      "education_id        21525 non-null int64\n",
      "family_status       21525 non-null object\n",
      "family_status_id    21525 non-null int64\n",
      "gender              21525 non-null object\n",
      "income_type         21525 non-null object\n",
      "debt                21525 non-null int64\n",
      "total_income        21525 non-null float64\n",
      "purpose             21525 non-null object\n",
      "age_category        21525 non-null object\n",
      "dtypes: float64(2), int64(5), object(6)\n",
      "memory usage: 2.1+ MB\n"
     ]
    }
   ],
   "source": [
    "df['total_income'] = df.groupby('income_type')['total_income'].transform(lambda x: x.fillna(x.median()))\n",
    "# а для трудового стажа заменим пропуски на медианы для разных возрастных категорий\n",
    "# правда сначала нужно эти категории создать)\n",
    "def age(years):\n",
    "    if years <= 35:\n",
    "        return 'молодежь'\n",
    "    if years <= 65:\n",
    "        return 'взрослый'\n",
    "    return 'пенсионер'\n",
    "# чтобы не было неточностей, проверим столбец 'dob_years' на пропуски\n",
    "df['dob_years'].value_counts() \n",
    "# 101 значение 0! Заменим медианой\n",
    "df['dob_years'] = df['dob_years'].replace(0, df['dob_years'].median())\n",
    "# теперь можно применять функцию\n",
    "df['age_category'] = df['dob_years'].apply(age)\n",
    "\n",
    "df['days_employed'] = df.groupby('age_category')['days_employed'].transform(lambda x: x.fillna(x.median()))\n",
    "df.info()"
   ]
  },
  {
   "cell_type": "markdown",
   "metadata": {},
   "source": [
    "Ради интереса оценим медианный стаж и медианный доход клиентов."
   ]
  },
  {
   "cell_type": "code",
   "execution_count": 8,
   "metadata": {},
   "outputs": [
    {
     "name": "stdout",
     "output_type": "stream",
     "text": [
      "Медианный трудовой стаж составляет 6 лет.\n",
      "Медианный ежемесячный доход составляет 145018 рублей.\n"
     ]
    }
   ],
   "source": [
    "print('Медианный трудовой стаж составляет {:.0f} лет.'.format(days_employed_median / 365))\n",
    "print('Медианный ежемесячный доход составляет {:.0f} рублей.'.format(total_income_median))\n"
   ]
  },
  {
   "cell_type": "markdown",
   "metadata": {},
   "source": [
    "**Вывод**"
   ]
  },
  {
   "cell_type": "markdown",
   "metadata": {},
   "source": [
    "На этапе предобработки данных обнаружились пропуски и некорректно введённые данные. Мы исправили часть данных и обработали пропуски таким образом, чтобы это не повлияло на результаты исследования."
   ]
  },
  {
   "cell_type": "markdown",
   "metadata": {},
   "source": [
    "<div class=\"alert alert-warning\">\n",
    "<h2> Комментарий ревьюера <a class=\"tocSkip\"> </h2>\n",
    "\n",
    "Для нашей задачи твоих действий по предобработке данных достаточно, однако в реальном бизнесе важно смотреть на весь датафрейм, анализировать каждый столбец, ведь в них могут быть неявные пропущенные значения (замененные значениями по умолчанию) или ошибки. Так, например, в нашем случае, в столбце `gender` встречается непонятное значение `XNA`, и с ним надо что-то решать\n",
    "\n",
    "</div>"
   ]
  },
  {
   "cell_type": "markdown",
   "metadata": {},
   "source": [
    "<font color = 'blue'>\n",
    "Так и сделаем! Проверим незатронутые в исследовании столбцы с категориальными значениями.\n",
    "<font>"
   ]
  },
  {
   "cell_type": "code",
   "execution_count": 9,
   "metadata": {},
   "outputs": [
    {
     "data": {
      "text/plain": [
       "F    14237\n",
       "M     7288\n",
       "Name: gender, dtype: int64"
      ]
     },
     "execution_count": 9,
     "metadata": {},
     "output_type": "execute_result"
    }
   ],
   "source": [
    "# 'dob_years' уже обработали) \n",
    "\n",
    "df['education'].value_counts() \n",
    "# все пристойно\n",
    "\n",
    "df['gender'].value_counts() \n",
    "# 1 значение XNA.. как правильнее будет поступить в таком случае? Заменить на F, т.к.эта категория больше?\n",
    "df['gender'] = df['gender'].replace('XNA', 'F')\n",
    "df['gender'].value_counts()"
   ]
  },
  {
   "cell_type": "markdown",
   "metadata": {},
   "source": [
    "<div class=\"alert alert-success\">\n",
    "<h2> Комментарий ревьюера v2 <a class=\"tocSkip\"> </h2>\n",
    "\n",
    "По категориальным данным вот как можно было кстати посмотреть уникальные значения)\n",
    "    \n",
    "Да, как вариант, или можно было удалить"
   ]
  },
  {
   "cell_type": "code",
   "execution_count": 10,
   "metadata": {},
   "outputs": [
    {
     "name": "stdout",
     "output_type": "stream",
     "text": [
      "Уникальные значения столбца education\n",
      "['высшее' 'среднее' 'Среднее' 'СРЕДНЕЕ' 'ВЫСШЕЕ' 'неоконченное высшее'\n",
      " 'начальное' 'Высшее' 'НЕОКОНЧЕННОЕ ВЫСШЕЕ' 'Неоконченное высшее'\n",
      " 'НАЧАЛЬНОЕ' 'Начальное' 'Ученая степень' 'УЧЕНАЯ СТЕПЕНЬ'\n",
      " 'ученая степень'] \n",
      "\n",
      "Уникальные значения столбца family_status\n",
      "['женат / замужем' 'гражданский брак' 'вдовец / вдова' 'в разводе'\n",
      " 'Не женат / не замужем'] \n",
      "\n",
      "Уникальные значения столбца gender\n",
      "['F' 'M'] \n",
      "\n",
      "Уникальные значения столбца income_type\n",
      "['сотрудник' 'пенсионер' 'компаньон' 'госслужащий' 'безработный'\n",
      " 'предприниматель' 'студент' 'в декрете'] \n",
      "\n",
      "Уникальные значения столбца purpose\n",
      "['покупка жилья' 'приобретение автомобиля' 'дополнительное образование'\n",
      " 'сыграть свадьбу' 'операции с жильем' 'образование'\n",
      " 'на проведение свадьбы' 'покупка жилья для семьи' 'покупка недвижимости'\n",
      " 'покупка коммерческой недвижимости' 'покупка жилой недвижимости'\n",
      " 'строительство собственной недвижимости' 'недвижимость'\n",
      " 'строительство недвижимости' 'на покупку подержанного автомобиля'\n",
      " 'на покупку своего автомобиля' 'операции с коммерческой недвижимостью'\n",
      " 'строительство жилой недвижимости' 'жилье'\n",
      " 'операции со своей недвижимостью' 'автомобили' 'заняться образованием'\n",
      " 'сделка с подержанным автомобилем' 'получение образования' 'автомобиль'\n",
      " 'свадьба' 'получение дополнительного образования' 'покупка своего жилья'\n",
      " 'операции с недвижимостью' 'получение высшего образования'\n",
      " 'свой автомобиль' 'сделка с автомобилем' 'профильное образование'\n",
      " 'высшее образование' 'покупка жилья для сдачи' 'на покупку автомобиля'\n",
      " 'ремонт жилью' 'заняться высшим образованием'] \n",
      "\n",
      "Уникальные значения столбца age_category\n",
      "['взрослый' 'молодежь' 'пенсионер'] \n",
      "\n"
     ]
    }
   ],
   "source": [
    "for col in df.select_dtypes(include='object').columns:\n",
    "    print('Уникальные значения столбца', col)\n",
    "    print(df[col].unique(), '\\n')"
   ]
  },
  {
   "cell_type": "markdown",
   "metadata": {},
   "source": [
    "<a class=\"anchor\" id=\"2.2\"></a>\n",
    "### Замена типа данных"
   ]
  },
  {
   "cell_type": "markdown",
   "metadata": {},
   "source": [
    "Для более удобного восприятия данных заменим вещественные числа в столбцах 'days_employed' (трудовой стаж в днях) и 'total_income' (ежемесячный доход) на целые. Применим метод astype(); он универсален и подходит для нашей задачи. Метод astype() округляет все значения в меньшую сторону, поэтому предварительно применим метод round() и округлим значения до целых чисел."
   ]
  },
  {
   "cell_type": "code",
   "execution_count": 11,
   "metadata": {},
   "outputs": [],
   "source": [
    "df['days_employed'] = df['days_employed'].round().astype('int')\n",
    "df['total_income'] = df['total_income'].round().astype('int')"
   ]
  },
  {
   "cell_type": "markdown",
   "metadata": {},
   "source": [
    "Выведем общую информацию о таблице, чтобы проверить типы данных."
   ]
  },
  {
   "cell_type": "code",
   "execution_count": 12,
   "metadata": {
    "scrolled": true
   },
   "outputs": [
    {
     "name": "stdout",
     "output_type": "stream",
     "text": [
      "<class 'pandas.core.frame.DataFrame'>\n",
      "RangeIndex: 21525 entries, 0 to 21524\n",
      "Data columns (total 13 columns):\n",
      "children            21525 non-null int64\n",
      "days_employed       21525 non-null int64\n",
      "dob_years           21525 non-null int64\n",
      "education           21525 non-null object\n",
      "education_id        21525 non-null int64\n",
      "family_status       21525 non-null object\n",
      "family_status_id    21525 non-null int64\n",
      "gender              21525 non-null object\n",
      "income_type         21525 non-null object\n",
      "debt                21525 non-null int64\n",
      "total_income        21525 non-null int64\n",
      "purpose             21525 non-null object\n",
      "age_category        21525 non-null object\n",
      "dtypes: int64(7), object(6)\n",
      "memory usage: 2.1+ MB\n"
     ]
    }
   ],
   "source": [
    "df.info()"
   ]
  },
  {
   "cell_type": "markdown",
   "metadata": {},
   "source": [
    "<div style=\"border:solid purple 5px; padding: 20px\"> \n",
    "<h2 align=\"center\"> Рубрика «Питонячий лайфхакер» <a class=\"tocSkip\"> </h2>\n",
    "\n",
    "<h3> PEP 8 - руководство по написанию кода на Python  <a class=\"tocSkip\"> </h3>\n",
    "\n",
    "В python есть своя философия. Именно отсюда берутся определенные правила и стандарты. В пайтон такое соглашение назвали PEP 8. PEP 8 создан на основе рекомендаций Гуидо ван Россума (создатель языка Python) с добавлениями от Барри Уорсо (соратник).\n",
    "\n",
    "Единый стиль оформления делает код понятным для самого программиста и его коллег с разным уровнем подготовки. В идеале наиболее сложный фрагмент кода должен быть понятен с первого прочтения. Это упрощает командную разработку и обучение новичков, позволяет вам быстро возвращаться к собственным давним проектам.\n",
    "\n",
    "Каждый уважающий себя питонист обязан знать этот стандарт. Читайте [оригинал](https://www.python.org/dev/peps/pep-0008/) или [перевод](https://pythonworld.ru/osnovy/pep-8-rukovodstvo-po-napisaniyu-koda-na-python.html), главное  —  вдумчиво!\n",
    "\n",
    "Когда проект небольшой, несложно следить за качеством кода, но вот когда проект принимает маштабы ... часто это становиться проблемой. В этом случае выручат скрипты автоматической проверки кода. Кстати, PyCharm проверяет написанное «на лету». А если вы привыкли работать в Jupyter, то на GitHub есть целый раздел [Python Code Quality Authority](https://github.com/PyCQA/), где хранятся утилиты для повышения качества кода, в том числе для проверки стиля на соответствие PEP 8: flake8, pycodestyle, pep8-naming.\n",
    "\n",
    "![](https://i.ibb.co/Gv0PvHQ/mini-magick20171220-84-vtyy26.png)"
   ]
  },
  {
   "cell_type": "markdown",
   "metadata": {},
   "source": [
    "Выведем первые 5 строк таблицы, чтобы оценить изменения визуально."
   ]
  },
  {
   "cell_type": "code",
   "execution_count": 13,
   "metadata": {},
   "outputs": [
    {
     "data": {
      "text/html": [
       "<div>\n",
       "<style scoped>\n",
       "    .dataframe tbody tr th:only-of-type {\n",
       "        vertical-align: middle;\n",
       "    }\n",
       "\n",
       "    .dataframe tbody tr th {\n",
       "        vertical-align: top;\n",
       "    }\n",
       "\n",
       "    .dataframe thead th {\n",
       "        text-align: right;\n",
       "    }\n",
       "</style>\n",
       "<table border=\"1\" class=\"dataframe\">\n",
       "  <thead>\n",
       "    <tr style=\"text-align: right;\">\n",
       "      <th></th>\n",
       "      <th>children</th>\n",
       "      <th>days_employed</th>\n",
       "      <th>dob_years</th>\n",
       "      <th>education</th>\n",
       "      <th>education_id</th>\n",
       "      <th>family_status</th>\n",
       "      <th>family_status_id</th>\n",
       "      <th>gender</th>\n",
       "      <th>income_type</th>\n",
       "      <th>debt</th>\n",
       "      <th>total_income</th>\n",
       "      <th>purpose</th>\n",
       "      <th>age_category</th>\n",
       "    </tr>\n",
       "  </thead>\n",
       "  <tbody>\n",
       "    <tr>\n",
       "      <td>0</td>\n",
       "      <td>1</td>\n",
       "      <td>8438</td>\n",
       "      <td>42</td>\n",
       "      <td>высшее</td>\n",
       "      <td>0</td>\n",
       "      <td>женат / замужем</td>\n",
       "      <td>0</td>\n",
       "      <td>F</td>\n",
       "      <td>сотрудник</td>\n",
       "      <td>0</td>\n",
       "      <td>253876</td>\n",
       "      <td>покупка жилья</td>\n",
       "      <td>взрослый</td>\n",
       "    </tr>\n",
       "    <tr>\n",
       "      <td>1</td>\n",
       "      <td>1</td>\n",
       "      <td>4025</td>\n",
       "      <td>36</td>\n",
       "      <td>среднее</td>\n",
       "      <td>1</td>\n",
       "      <td>женат / замужем</td>\n",
       "      <td>0</td>\n",
       "      <td>F</td>\n",
       "      <td>сотрудник</td>\n",
       "      <td>0</td>\n",
       "      <td>112080</td>\n",
       "      <td>приобретение автомобиля</td>\n",
       "      <td>взрослый</td>\n",
       "    </tr>\n",
       "    <tr>\n",
       "      <td>2</td>\n",
       "      <td>0</td>\n",
       "      <td>5623</td>\n",
       "      <td>33</td>\n",
       "      <td>Среднее</td>\n",
       "      <td>1</td>\n",
       "      <td>женат / замужем</td>\n",
       "      <td>0</td>\n",
       "      <td>M</td>\n",
       "      <td>сотрудник</td>\n",
       "      <td>0</td>\n",
       "      <td>145886</td>\n",
       "      <td>покупка жилья</td>\n",
       "      <td>молодежь</td>\n",
       "    </tr>\n",
       "    <tr>\n",
       "      <td>3</td>\n",
       "      <td>3</td>\n",
       "      <td>4125</td>\n",
       "      <td>32</td>\n",
       "      <td>среднее</td>\n",
       "      <td>1</td>\n",
       "      <td>женат / замужем</td>\n",
       "      <td>0</td>\n",
       "      <td>M</td>\n",
       "      <td>сотрудник</td>\n",
       "      <td>0</td>\n",
       "      <td>267629</td>\n",
       "      <td>дополнительное образование</td>\n",
       "      <td>молодежь</td>\n",
       "    </tr>\n",
       "    <tr>\n",
       "      <td>4</td>\n",
       "      <td>0</td>\n",
       "      <td>340266</td>\n",
       "      <td>53</td>\n",
       "      <td>среднее</td>\n",
       "      <td>1</td>\n",
       "      <td>гражданский брак</td>\n",
       "      <td>1</td>\n",
       "      <td>F</td>\n",
       "      <td>пенсионер</td>\n",
       "      <td>0</td>\n",
       "      <td>158616</td>\n",
       "      <td>сыграть свадьбу</td>\n",
       "      <td>взрослый</td>\n",
       "    </tr>\n",
       "  </tbody>\n",
       "</table>\n",
       "</div>"
      ],
      "text/plain": [
       "   children  days_employed  dob_years education  education_id  \\\n",
       "0         1           8438         42    высшее             0   \n",
       "1         1           4025         36   среднее             1   \n",
       "2         0           5623         33   Среднее             1   \n",
       "3         3           4125         32   среднее             1   \n",
       "4         0         340266         53   среднее             1   \n",
       "\n",
       "      family_status  family_status_id gender income_type  debt  total_income  \\\n",
       "0   женат / замужем                 0      F   сотрудник     0        253876   \n",
       "1   женат / замужем                 0      F   сотрудник     0        112080   \n",
       "2   женат / замужем                 0      M   сотрудник     0        145886   \n",
       "3   женат / замужем                 0      M   сотрудник     0        267629   \n",
       "4  гражданский брак                 1      F   пенсионер     0        158616   \n",
       "\n",
       "                      purpose age_category  \n",
       "0               покупка жилья     взрослый  \n",
       "1     приобретение автомобиля     взрослый  \n",
       "2               покупка жилья     молодежь  \n",
       "3  дополнительное образование     молодежь  \n",
       "4             сыграть свадьбу     взрослый  "
      ]
     },
     "execution_count": 13,
     "metadata": {},
     "output_type": "execute_result"
    }
   ],
   "source": [
    "df.head()"
   ]
  },
  {
   "cell_type": "markdown",
   "metadata": {},
   "source": [
    "**Вывод**"
   ]
  },
  {
   "cell_type": "markdown",
   "metadata": {},
   "source": [
    "После того, как мы изменили тип данных для двух столбцов, информация стала восприниматься гораздо удобнее, при этом изменеия не повлияют на результаты исследования."
   ]
  },
  {
   "cell_type": "markdown",
   "metadata": {},
   "source": [
    "<a class=\"anchor\" id=\"2.3\"></a>\n",
    "### Обработка дубликатов"
   ]
  },
  {
   "cell_type": "markdown",
   "metadata": {},
   "source": [
    "Для корректной обработки дубликатов в таблице приведем данные в столбце 'education' (образование) к одинаковому регистру и проверим результат."
   ]
  },
  {
   "cell_type": "code",
   "execution_count": 14,
   "metadata": {
    "scrolled": true
   },
   "outputs": [
    {
     "data": {
      "text/html": [
       "<div>\n",
       "<style scoped>\n",
       "    .dataframe tbody tr th:only-of-type {\n",
       "        vertical-align: middle;\n",
       "    }\n",
       "\n",
       "    .dataframe tbody tr th {\n",
       "        vertical-align: top;\n",
       "    }\n",
       "\n",
       "    .dataframe thead th {\n",
       "        text-align: right;\n",
       "    }\n",
       "</style>\n",
       "<table border=\"1\" class=\"dataframe\">\n",
       "  <thead>\n",
       "    <tr style=\"text-align: right;\">\n",
       "      <th></th>\n",
       "      <th>children</th>\n",
       "      <th>days_employed</th>\n",
       "      <th>dob_years</th>\n",
       "      <th>education</th>\n",
       "      <th>education_id</th>\n",
       "      <th>family_status</th>\n",
       "      <th>family_status_id</th>\n",
       "      <th>gender</th>\n",
       "      <th>income_type</th>\n",
       "      <th>debt</th>\n",
       "      <th>total_income</th>\n",
       "      <th>purpose</th>\n",
       "      <th>age_category</th>\n",
       "    </tr>\n",
       "  </thead>\n",
       "  <tbody>\n",
       "    <tr>\n",
       "      <td>0</td>\n",
       "      <td>1</td>\n",
       "      <td>8438</td>\n",
       "      <td>42</td>\n",
       "      <td>высшее</td>\n",
       "      <td>0</td>\n",
       "      <td>женат / замужем</td>\n",
       "      <td>0</td>\n",
       "      <td>F</td>\n",
       "      <td>сотрудник</td>\n",
       "      <td>0</td>\n",
       "      <td>253876</td>\n",
       "      <td>покупка жилья</td>\n",
       "      <td>взрослый</td>\n",
       "    </tr>\n",
       "    <tr>\n",
       "      <td>1</td>\n",
       "      <td>1</td>\n",
       "      <td>4025</td>\n",
       "      <td>36</td>\n",
       "      <td>среднее</td>\n",
       "      <td>1</td>\n",
       "      <td>женат / замужем</td>\n",
       "      <td>0</td>\n",
       "      <td>F</td>\n",
       "      <td>сотрудник</td>\n",
       "      <td>0</td>\n",
       "      <td>112080</td>\n",
       "      <td>приобретение автомобиля</td>\n",
       "      <td>взрослый</td>\n",
       "    </tr>\n",
       "    <tr>\n",
       "      <td>2</td>\n",
       "      <td>0</td>\n",
       "      <td>5623</td>\n",
       "      <td>33</td>\n",
       "      <td>среднее</td>\n",
       "      <td>1</td>\n",
       "      <td>женат / замужем</td>\n",
       "      <td>0</td>\n",
       "      <td>M</td>\n",
       "      <td>сотрудник</td>\n",
       "      <td>0</td>\n",
       "      <td>145886</td>\n",
       "      <td>покупка жилья</td>\n",
       "      <td>молодежь</td>\n",
       "    </tr>\n",
       "    <tr>\n",
       "      <td>3</td>\n",
       "      <td>3</td>\n",
       "      <td>4125</td>\n",
       "      <td>32</td>\n",
       "      <td>среднее</td>\n",
       "      <td>1</td>\n",
       "      <td>женат / замужем</td>\n",
       "      <td>0</td>\n",
       "      <td>M</td>\n",
       "      <td>сотрудник</td>\n",
       "      <td>0</td>\n",
       "      <td>267629</td>\n",
       "      <td>дополнительное образование</td>\n",
       "      <td>молодежь</td>\n",
       "    </tr>\n",
       "    <tr>\n",
       "      <td>4</td>\n",
       "      <td>0</td>\n",
       "      <td>340266</td>\n",
       "      <td>53</td>\n",
       "      <td>среднее</td>\n",
       "      <td>1</td>\n",
       "      <td>гражданский брак</td>\n",
       "      <td>1</td>\n",
       "      <td>F</td>\n",
       "      <td>пенсионер</td>\n",
       "      <td>0</td>\n",
       "      <td>158616</td>\n",
       "      <td>сыграть свадьбу</td>\n",
       "      <td>взрослый</td>\n",
       "    </tr>\n",
       "  </tbody>\n",
       "</table>\n",
       "</div>"
      ],
      "text/plain": [
       "   children  days_employed  dob_years education  education_id  \\\n",
       "0         1           8438         42    высшее             0   \n",
       "1         1           4025         36   среднее             1   \n",
       "2         0           5623         33   среднее             1   \n",
       "3         3           4125         32   среднее             1   \n",
       "4         0         340266         53   среднее             1   \n",
       "\n",
       "      family_status  family_status_id gender income_type  debt  total_income  \\\n",
       "0   женат / замужем                 0      F   сотрудник     0        253876   \n",
       "1   женат / замужем                 0      F   сотрудник     0        112080   \n",
       "2   женат / замужем                 0      M   сотрудник     0        145886   \n",
       "3   женат / замужем                 0      M   сотрудник     0        267629   \n",
       "4  гражданский брак                 1      F   пенсионер     0        158616   \n",
       "\n",
       "                      purpose age_category  \n",
       "0               покупка жилья     взрослый  \n",
       "1     приобретение автомобиля     взрослый  \n",
       "2               покупка жилья     молодежь  \n",
       "3  дополнительное образование     молодежь  \n",
       "4             сыграть свадьбу     взрослый  "
      ]
     },
     "execution_count": 14,
     "metadata": {},
     "output_type": "execute_result"
    }
   ],
   "source": [
    "df['education'] = df['education'].str.lower()\n",
    "df.head()"
   ]
  },
  {
   "cell_type": "markdown",
   "metadata": {},
   "source": [
    "Установим наличие дубликатов в таблице. В данных отсутствует уникальный идентификационный номер клиента, но полное совпадение данных настолько маловероятно, что в случае нахождения дубликата можно утверждать, что данные дублированы из-за ошибки при вводе. Используем метод duplicated(), он находит полностью идентичные строки, это как раз то, что нам требуется."
   ]
  },
  {
   "cell_type": "code",
   "execution_count": 15,
   "metadata": {
    "scrolled": true
   },
   "outputs": [
    {
     "data": {
      "text/plain": [
       "72"
      ]
     },
     "execution_count": 15,
     "metadata": {},
     "output_type": "execute_result"
    }
   ],
   "source": [
    "df.duplicated().sum()"
   ]
  },
  {
   "cell_type": "markdown",
   "metadata": {},
   "source": [
    "Удалим все дубликаты из таблицы и проверим результат. "
   ]
  },
  {
   "cell_type": "code",
   "execution_count": 16,
   "metadata": {},
   "outputs": [
    {
     "data": {
      "text/plain": [
       "0"
      ]
     },
     "execution_count": 16,
     "metadata": {},
     "output_type": "execute_result"
    }
   ],
   "source": [
    "df = df.drop_duplicates().reset_index(drop=True)\n",
    "df.duplicated().sum()"
   ]
  },
  {
   "cell_type": "markdown",
   "metadata": {},
   "source": [
    "<div class=\"alert alert-success\">\n",
    "<h2> Комментарий ревьюера <a class=\"tocSkip\"> </h2>\n",
    "\n",
    "Мне нечего добавить, все круто"
   ]
  },
  {
   "cell_type": "markdown",
   "metadata": {},
   "source": [
    "**Вывод**"
   ]
  },
  {
   "cell_type": "markdown",
   "metadata": {},
   "source": [
    "На этапе предобработки данных выявлено наличие дубликатов и установлена причина их появления. Их удаление позволит провести анализ данных более точно."
   ]
  },
  {
   "cell_type": "markdown",
   "metadata": {},
   "source": [
    "<a class=\"anchor\" id=\"2.4\"></a>\n",
    "### Лемматизация"
   ]
  },
  {
   "cell_type": "markdown",
   "metadata": {},
   "source": [
    "Данные в столбце 'purpose' (цель получения кредита) не имеют единого стандарта и, судя по всему, записывались со слов клиентов. Это значит, что одна и та же цель получения кредита может быть записана совершенно разными словами, а это затрудняет анализ данных.\n",
    "Лемматизируем столбец 'purpose' и оценим изменения. Для этого напишем функцию, которая лемматизирует слова в строке, а затем соединяет их в новую строку без разделителей."
   ]
  },
  {
   "cell_type": "code",
   "execution_count": 17,
   "metadata": {
    "scrolled": true
   },
   "outputs": [
    {
     "data": {
      "text/html": [
       "<div>\n",
       "<style scoped>\n",
       "    .dataframe tbody tr th:only-of-type {\n",
       "        vertical-align: middle;\n",
       "    }\n",
       "\n",
       "    .dataframe tbody tr th {\n",
       "        vertical-align: top;\n",
       "    }\n",
       "\n",
       "    .dataframe thead th {\n",
       "        text-align: right;\n",
       "    }\n",
       "</style>\n",
       "<table border=\"1\" class=\"dataframe\">\n",
       "  <thead>\n",
       "    <tr style=\"text-align: right;\">\n",
       "      <th></th>\n",
       "      <th>children</th>\n",
       "      <th>days_employed</th>\n",
       "      <th>dob_years</th>\n",
       "      <th>education</th>\n",
       "      <th>education_id</th>\n",
       "      <th>family_status</th>\n",
       "      <th>family_status_id</th>\n",
       "      <th>gender</th>\n",
       "      <th>income_type</th>\n",
       "      <th>debt</th>\n",
       "      <th>total_income</th>\n",
       "      <th>purpose</th>\n",
       "      <th>age_category</th>\n",
       "    </tr>\n",
       "  </thead>\n",
       "  <tbody>\n",
       "    <tr>\n",
       "      <td>0</td>\n",
       "      <td>1</td>\n",
       "      <td>8438</td>\n",
       "      <td>42</td>\n",
       "      <td>высшее</td>\n",
       "      <td>0</td>\n",
       "      <td>женат / замужем</td>\n",
       "      <td>0</td>\n",
       "      <td>F</td>\n",
       "      <td>сотрудник</td>\n",
       "      <td>0</td>\n",
       "      <td>253876</td>\n",
       "      <td>покупка жилье</td>\n",
       "      <td>взрослый</td>\n",
       "    </tr>\n",
       "    <tr>\n",
       "      <td>1</td>\n",
       "      <td>1</td>\n",
       "      <td>4025</td>\n",
       "      <td>36</td>\n",
       "      <td>среднее</td>\n",
       "      <td>1</td>\n",
       "      <td>женат / замужем</td>\n",
       "      <td>0</td>\n",
       "      <td>F</td>\n",
       "      <td>сотрудник</td>\n",
       "      <td>0</td>\n",
       "      <td>112080</td>\n",
       "      <td>приобретение автомобиль</td>\n",
       "      <td>взрослый</td>\n",
       "    </tr>\n",
       "    <tr>\n",
       "      <td>2</td>\n",
       "      <td>0</td>\n",
       "      <td>5623</td>\n",
       "      <td>33</td>\n",
       "      <td>среднее</td>\n",
       "      <td>1</td>\n",
       "      <td>женат / замужем</td>\n",
       "      <td>0</td>\n",
       "      <td>M</td>\n",
       "      <td>сотрудник</td>\n",
       "      <td>0</td>\n",
       "      <td>145886</td>\n",
       "      <td>покупка жилье</td>\n",
       "      <td>молодежь</td>\n",
       "    </tr>\n",
       "    <tr>\n",
       "      <td>3</td>\n",
       "      <td>3</td>\n",
       "      <td>4125</td>\n",
       "      <td>32</td>\n",
       "      <td>среднее</td>\n",
       "      <td>1</td>\n",
       "      <td>женат / замужем</td>\n",
       "      <td>0</td>\n",
       "      <td>M</td>\n",
       "      <td>сотрудник</td>\n",
       "      <td>0</td>\n",
       "      <td>267629</td>\n",
       "      <td>дополнительный образование</td>\n",
       "      <td>молодежь</td>\n",
       "    </tr>\n",
       "    <tr>\n",
       "      <td>4</td>\n",
       "      <td>0</td>\n",
       "      <td>340266</td>\n",
       "      <td>53</td>\n",
       "      <td>среднее</td>\n",
       "      <td>1</td>\n",
       "      <td>гражданский брак</td>\n",
       "      <td>1</td>\n",
       "      <td>F</td>\n",
       "      <td>пенсионер</td>\n",
       "      <td>0</td>\n",
       "      <td>158616</td>\n",
       "      <td>сыграть свадьба</td>\n",
       "      <td>взрослый</td>\n",
       "    </tr>\n",
       "  </tbody>\n",
       "</table>\n",
       "</div>"
      ],
      "text/plain": [
       "   children  days_employed  dob_years education  education_id  \\\n",
       "0         1           8438         42    высшее             0   \n",
       "1         1           4025         36   среднее             1   \n",
       "2         0           5623         33   среднее             1   \n",
       "3         3           4125         32   среднее             1   \n",
       "4         0         340266         53   среднее             1   \n",
       "\n",
       "      family_status  family_status_id gender income_type  debt  total_income  \\\n",
       "0   женат / замужем                 0      F   сотрудник     0        253876   \n",
       "1   женат / замужем                 0      F   сотрудник     0        112080   \n",
       "2   женат / замужем                 0      M   сотрудник     0        145886   \n",
       "3   женат / замужем                 0      M   сотрудник     0        267629   \n",
       "4  гражданский брак                 1      F   пенсионер     0        158616   \n",
       "\n",
       "                      purpose age_category  \n",
       "0               покупка жилье     взрослый  \n",
       "1     приобретение автомобиль     взрослый  \n",
       "2               покупка жилье     молодежь  \n",
       "3  дополнительный образование     молодежь  \n",
       "4             сыграть свадьба     взрослый  "
      ]
     },
     "execution_count": 17,
     "metadata": {},
     "output_type": "execute_result"
    }
   ],
   "source": [
    "from pymystem3 import Mystem\n",
    "m = Mystem()\n",
    "\n",
    "def lemmatize_text(text):\n",
    "    lemmas = m.lemmatize(text)\n",
    "    return \"\".join(lemmas).strip()\n",
    "\n",
    "df['purpose'] = df['purpose'].apply(lemmatize_text)\n",
    "df.head()"
   ]
  },
  {
   "cell_type": "markdown",
   "metadata": {},
   "source": [
    "**Вывод**"
   ]
  },
  {
   "cell_type": "markdown",
   "metadata": {},
   "source": [
    "Мы лемматизировали столбец 'purpose' (цель получения кредита), что существенно облегчит анализ данных в этом столбце."
   ]
  },
  {
   "cell_type": "markdown",
   "metadata": {},
   "source": [
    "<div class=\"alert alert-success\"> \n",
    "<h2> Комментарий ревьюера <a class=\"tocSkip\"> </h2>\n",
    "\n",
    "Можно было также посмотреть, как часто отдельно взятая лемма встречается в датафрейме, вот пример как\n",
    "\n",
    "    lemmas = m.lemmatize(' '.join(df['purpose']))\n",
    "    print(Counter(lemmas))\n",
    "\n",
    "</div>"
   ]
  },
  {
   "cell_type": "markdown",
   "metadata": {},
   "source": [
    "<a class=\"anchor\" id=\"2.5\"></a>\n",
    "### Категоризация данных"
   ]
  },
  {
   "cell_type": "markdown",
   "metadata": {},
   "source": [
    "Категоризация - это объединение данных в группы по заданному критерию. Для нашего исследования в первую очередь интересные следующие столбцы:\n",
    "+ children — количество детей в семье\n",
    "+ family_status — семейное положение\n",
    "+ debt — имел ли задолженность по возврату кредитов\n",
    "+ total_income — ежемесячный доход\n",
    "+ purpose — цель получения кредита\n",
    "\n",
    "Первые 3 столбца содержат категориальные данные, т.е. данные с ограниченным числом уникальных значений. Оставшиеся два столбца нам необходимо категоризовать."
   ]
  },
  {
   "cell_type": "markdown",
   "metadata": {},
   "source": [
    "Разобъем данные о доходах клиентов на 4 группы, условно \"низкий доход\", \"средний доход\", \"высокий доход\" и \"очень высокий доход\". Для этого нам нужно определить границы этих групп. \n",
    "Квантиль - это значение, которое заданная случайная величина не превышает с фиксированной вероятностью. Простыми словами, это как раз граница, которая делит наблюдения на части. Например квантиль (0,5) это значение, которое делит наблюдения на две равные части, т.е. медиана. Для данных о доходах найдем квантили (0,25), (0,5) и (0,75) что примерно даст нам границы наших групп."
   ]
  },
  {
   "cell_type": "code",
   "execution_count": 18,
   "metadata": {},
   "outputs": [],
   "source": [
    "quant_025 = df['total_income'].quantile(.25)\n",
    "quant_05 = df['total_income'].median()\n",
    "quant_075 = df['total_income'].quantile(.75)\n",
    "\n",
    "# пытаюсь разобраться, почему группы получаются неравными\n",
    "# судя по всему, из-за наличия дубликатов в столбце 'total_income'\n",
    "# пробовал проводить вычисления до округления данных в этом столбце - ситуация не меняется\n",
    "# не придумал, как решить эту проблему(\n",
    "\n",
    "# print(df[quant_025 > df['total_income']]['children'].count())\n",
    "# print(df[(quant_025 <= df['total_income']) & (quant_05 >= df['total_income'])]['children'].count())\n",
    "# print(df[(quant_05 < df['total_income']) & (quant_075 >= df['total_income'])]['children'].count())\n",
    "# print(df[quant_075 < df['total_income']]['children'].count())\n",
    "\n",
    "# print(df['total_income'].duplicated().sum())"
   ]
  },
  {
   "cell_type": "markdown",
   "metadata": {},
   "source": [
    "<div class=\"alert alert-success\">\n",
    "<h2> Комментарий ревьюера <a class=\"tocSkip\"> </h2>\n",
    "\n",
    "Да, все верно, дело все в дубликатах. Если их удалять, то группы делятся поровну"
   ]
  },
  {
   "cell_type": "code",
   "execution_count": 19,
   "metadata": {},
   "outputs": [
    {
     "data": {
      "text/plain": [
       "(205294.5, 2265604.0]    4648\n",
       "(103104.5, 145905.0]     4648\n",
       "(20666.999, 103104.5]    4648\n",
       "(145905.0, 205294.5]     4647\n",
       "Name: total_income, dtype: int64"
      ]
     },
     "execution_count": 19,
     "metadata": {},
     "output_type": "execute_result"
    }
   ],
   "source": [
    "pd.qcut(df['total_income'].drop_duplicates(), 4).value_counts()"
   ]
  },
  {
   "cell_type": "markdown",
   "metadata": {},
   "source": [
    "Зная границы групп, разобъем данные на категории. Напишем функцию, которая принимает на вход ежемесячный доход клиента и возвращает категорию дохода. Затем с помощью этой функции добавим столбец с категорией дохода в таблицу."
   ]
  },
  {
   "cell_type": "code",
   "execution_count": 20,
   "metadata": {
    "scrolled": true
   },
   "outputs": [
    {
     "data": {
      "text/html": [
       "<div>\n",
       "<style scoped>\n",
       "    .dataframe tbody tr th:only-of-type {\n",
       "        vertical-align: middle;\n",
       "    }\n",
       "\n",
       "    .dataframe tbody tr th {\n",
       "        vertical-align: top;\n",
       "    }\n",
       "\n",
       "    .dataframe thead th {\n",
       "        text-align: right;\n",
       "    }\n",
       "</style>\n",
       "<table border=\"1\" class=\"dataframe\">\n",
       "  <thead>\n",
       "    <tr style=\"text-align: right;\">\n",
       "      <th></th>\n",
       "      <th>children</th>\n",
       "      <th>days_employed</th>\n",
       "      <th>dob_years</th>\n",
       "      <th>education</th>\n",
       "      <th>education_id</th>\n",
       "      <th>family_status</th>\n",
       "      <th>family_status_id</th>\n",
       "      <th>gender</th>\n",
       "      <th>income_type</th>\n",
       "      <th>debt</th>\n",
       "      <th>total_income</th>\n",
       "      <th>purpose</th>\n",
       "      <th>age_category</th>\n",
       "      <th>income_group</th>\n",
       "    </tr>\n",
       "  </thead>\n",
       "  <tbody>\n",
       "    <tr>\n",
       "      <td>0</td>\n",
       "      <td>1</td>\n",
       "      <td>8438</td>\n",
       "      <td>42</td>\n",
       "      <td>высшее</td>\n",
       "      <td>0</td>\n",
       "      <td>женат / замужем</td>\n",
       "      <td>0</td>\n",
       "      <td>F</td>\n",
       "      <td>сотрудник</td>\n",
       "      <td>0</td>\n",
       "      <td>253876</td>\n",
       "      <td>покупка жилье</td>\n",
       "      <td>взрослый</td>\n",
       "      <td>очень высокий</td>\n",
       "    </tr>\n",
       "    <tr>\n",
       "      <td>1</td>\n",
       "      <td>1</td>\n",
       "      <td>4025</td>\n",
       "      <td>36</td>\n",
       "      <td>среднее</td>\n",
       "      <td>1</td>\n",
       "      <td>женат / замужем</td>\n",
       "      <td>0</td>\n",
       "      <td>F</td>\n",
       "      <td>сотрудник</td>\n",
       "      <td>0</td>\n",
       "      <td>112080</td>\n",
       "      <td>приобретение автомобиль</td>\n",
       "      <td>взрослый</td>\n",
       "      <td>средний</td>\n",
       "    </tr>\n",
       "    <tr>\n",
       "      <td>2</td>\n",
       "      <td>0</td>\n",
       "      <td>5623</td>\n",
       "      <td>33</td>\n",
       "      <td>среднее</td>\n",
       "      <td>1</td>\n",
       "      <td>женат / замужем</td>\n",
       "      <td>0</td>\n",
       "      <td>M</td>\n",
       "      <td>сотрудник</td>\n",
       "      <td>0</td>\n",
       "      <td>145886</td>\n",
       "      <td>покупка жилье</td>\n",
       "      <td>молодежь</td>\n",
       "      <td>высокий</td>\n",
       "    </tr>\n",
       "    <tr>\n",
       "      <td>3</td>\n",
       "      <td>3</td>\n",
       "      <td>4125</td>\n",
       "      <td>32</td>\n",
       "      <td>среднее</td>\n",
       "      <td>1</td>\n",
       "      <td>женат / замужем</td>\n",
       "      <td>0</td>\n",
       "      <td>M</td>\n",
       "      <td>сотрудник</td>\n",
       "      <td>0</td>\n",
       "      <td>267629</td>\n",
       "      <td>дополнительный образование</td>\n",
       "      <td>молодежь</td>\n",
       "      <td>очень высокий</td>\n",
       "    </tr>\n",
       "    <tr>\n",
       "      <td>4</td>\n",
       "      <td>0</td>\n",
       "      <td>340266</td>\n",
       "      <td>53</td>\n",
       "      <td>среднее</td>\n",
       "      <td>1</td>\n",
       "      <td>гражданский брак</td>\n",
       "      <td>1</td>\n",
       "      <td>F</td>\n",
       "      <td>пенсионер</td>\n",
       "      <td>0</td>\n",
       "      <td>158616</td>\n",
       "      <td>сыграть свадьба</td>\n",
       "      <td>взрослый</td>\n",
       "      <td>высокий</td>\n",
       "    </tr>\n",
       "  </tbody>\n",
       "</table>\n",
       "</div>"
      ],
      "text/plain": [
       "   children  days_employed  dob_years education  education_id  \\\n",
       "0         1           8438         42    высшее             0   \n",
       "1         1           4025         36   среднее             1   \n",
       "2         0           5623         33   среднее             1   \n",
       "3         3           4125         32   среднее             1   \n",
       "4         0         340266         53   среднее             1   \n",
       "\n",
       "      family_status  family_status_id gender income_type  debt  total_income  \\\n",
       "0   женат / замужем                 0      F   сотрудник     0        253876   \n",
       "1   женат / замужем                 0      F   сотрудник     0        112080   \n",
       "2   женат / замужем                 0      M   сотрудник     0        145886   \n",
       "3   женат / замужем                 0      M   сотрудник     0        267629   \n",
       "4  гражданский брак                 1      F   пенсионер     0        158616   \n",
       "\n",
       "                      purpose age_category   income_group  \n",
       "0               покупка жилье     взрослый  очень высокий  \n",
       "1     приобретение автомобиль     взрослый        средний  \n",
       "2               покупка жилье     молодежь        высокий  \n",
       "3  дополнительный образование     молодежь  очень высокий  \n",
       "4             сыграть свадьба     взрослый        высокий  "
      ]
     },
     "execution_count": 20,
     "metadata": {},
     "output_type": "execute_result"
    }
   ],
   "source": [
    "def income_group(income):\n",
    "    if income <= quant_025:\n",
    "        return 'низкий'\n",
    "    if (income <= quant_05) & (income > quant_025):\n",
    "        return 'средний'\n",
    "    if (income <= quant_075) & (income > quant_05):\n",
    "        return 'высокий'\n",
    "    return 'очень высокий'\n",
    "#print(income_group(196000))\n",
    "df['income_group'] = df['total_income'].apply(income_group)\n",
    "df.head()"
   ]
  },
  {
   "cell_type": "markdown",
   "metadata": {},
   "source": [
    "<div class=\"alert alert-success\">\n",
    "<h2> Комментарий ревьюера <a class=\"tocSkip\"> </h2>\n",
    "\n",
    "Здесь, кстати для деления по доходу можно было применить метод [cut](https://pandas.pydata.org/pandas-docs/stable/reference/api/pandas.cut.html) или [qcut](https://pandas.pydata.org/pandas-docs/stable/reference/api/pandas.qcut.html)(в этом случае деление будет проводиться по проценилям). Обрати внимание, у данного метода есть параметр `labels`, так можно оформить группы красивее 😊\n",
    "\n",
    "</div>"
   ]
  },
  {
   "cell_type": "markdown",
   "metadata": {},
   "source": [
    "<font color='blue'>\n",
    " Надо пробовать!\n",
    " <font>"
   ]
  },
  {
   "cell_type": "code",
   "execution_count": 21,
   "metadata": {},
   "outputs": [
    {
     "data": {
      "text/html": [
       "<div>\n",
       "<style scoped>\n",
       "    .dataframe tbody tr th:only-of-type {\n",
       "        vertical-align: middle;\n",
       "    }\n",
       "\n",
       "    .dataframe tbody tr th {\n",
       "        vertical-align: top;\n",
       "    }\n",
       "\n",
       "    .dataframe thead th {\n",
       "        text-align: right;\n",
       "    }\n",
       "</style>\n",
       "<table border=\"1\" class=\"dataframe\">\n",
       "  <thead>\n",
       "    <tr style=\"text-align: right;\">\n",
       "      <th></th>\n",
       "      <th>children</th>\n",
       "      <th>days_employed</th>\n",
       "      <th>dob_years</th>\n",
       "      <th>education</th>\n",
       "      <th>education_id</th>\n",
       "      <th>family_status</th>\n",
       "      <th>family_status_id</th>\n",
       "      <th>gender</th>\n",
       "      <th>income_type</th>\n",
       "      <th>debt</th>\n",
       "      <th>total_income</th>\n",
       "      <th>purpose</th>\n",
       "      <th>age_category</th>\n",
       "      <th>income_group</th>\n",
       "      <th>income_group_2</th>\n",
       "    </tr>\n",
       "  </thead>\n",
       "  <tbody>\n",
       "    <tr>\n",
       "      <td>0</td>\n",
       "      <td>1</td>\n",
       "      <td>8438</td>\n",
       "      <td>42</td>\n",
       "      <td>высшее</td>\n",
       "      <td>0</td>\n",
       "      <td>женат / замужем</td>\n",
       "      <td>0</td>\n",
       "      <td>F</td>\n",
       "      <td>сотрудник</td>\n",
       "      <td>0</td>\n",
       "      <td>253876</td>\n",
       "      <td>покупка жилье</td>\n",
       "      <td>взрослый</td>\n",
       "      <td>очень высокий</td>\n",
       "      <td>очень высокий</td>\n",
       "    </tr>\n",
       "    <tr>\n",
       "      <td>1</td>\n",
       "      <td>1</td>\n",
       "      <td>4025</td>\n",
       "      <td>36</td>\n",
       "      <td>среднее</td>\n",
       "      <td>1</td>\n",
       "      <td>женат / замужем</td>\n",
       "      <td>0</td>\n",
       "      <td>F</td>\n",
       "      <td>сотрудник</td>\n",
       "      <td>0</td>\n",
       "      <td>112080</td>\n",
       "      <td>приобретение автомобиль</td>\n",
       "      <td>взрослый</td>\n",
       "      <td>средний</td>\n",
       "      <td>средний</td>\n",
       "    </tr>\n",
       "    <tr>\n",
       "      <td>2</td>\n",
       "      <td>0</td>\n",
       "      <td>5623</td>\n",
       "      <td>33</td>\n",
       "      <td>среднее</td>\n",
       "      <td>1</td>\n",
       "      <td>женат / замужем</td>\n",
       "      <td>0</td>\n",
       "      <td>M</td>\n",
       "      <td>сотрудник</td>\n",
       "      <td>0</td>\n",
       "      <td>145886</td>\n",
       "      <td>покупка жилье</td>\n",
       "      <td>молодежь</td>\n",
       "      <td>высокий</td>\n",
       "      <td>высокий</td>\n",
       "    </tr>\n",
       "    <tr>\n",
       "      <td>3</td>\n",
       "      <td>3</td>\n",
       "      <td>4125</td>\n",
       "      <td>32</td>\n",
       "      <td>среднее</td>\n",
       "      <td>1</td>\n",
       "      <td>женат / замужем</td>\n",
       "      <td>0</td>\n",
       "      <td>M</td>\n",
       "      <td>сотрудник</td>\n",
       "      <td>0</td>\n",
       "      <td>267629</td>\n",
       "      <td>дополнительный образование</td>\n",
       "      <td>молодежь</td>\n",
       "      <td>очень высокий</td>\n",
       "      <td>очень высокий</td>\n",
       "    </tr>\n",
       "    <tr>\n",
       "      <td>4</td>\n",
       "      <td>0</td>\n",
       "      <td>340266</td>\n",
       "      <td>53</td>\n",
       "      <td>среднее</td>\n",
       "      <td>1</td>\n",
       "      <td>гражданский брак</td>\n",
       "      <td>1</td>\n",
       "      <td>F</td>\n",
       "      <td>пенсионер</td>\n",
       "      <td>0</td>\n",
       "      <td>158616</td>\n",
       "      <td>сыграть свадьба</td>\n",
       "      <td>взрослый</td>\n",
       "      <td>высокий</td>\n",
       "      <td>высокий</td>\n",
       "    </tr>\n",
       "  </tbody>\n",
       "</table>\n",
       "</div>"
      ],
      "text/plain": [
       "   children  days_employed  dob_years education  education_id  \\\n",
       "0         1           8438         42    высшее             0   \n",
       "1         1           4025         36   среднее             1   \n",
       "2         0           5623         33   среднее             1   \n",
       "3         3           4125         32   среднее             1   \n",
       "4         0         340266         53   среднее             1   \n",
       "\n",
       "      family_status  family_status_id gender income_type  debt  total_income  \\\n",
       "0   женат / замужем                 0      F   сотрудник     0        253876   \n",
       "1   женат / замужем                 0      F   сотрудник     0        112080   \n",
       "2   женат / замужем                 0      M   сотрудник     0        145886   \n",
       "3   женат / замужем                 0      M   сотрудник     0        267629   \n",
       "4  гражданский брак                 1      F   пенсионер     0        158616   \n",
       "\n",
       "                      purpose age_category   income_group income_group_2  \n",
       "0               покупка жилье     взрослый  очень высокий  очень высокий  \n",
       "1     приобретение автомобиль     взрослый        средний        средний  \n",
       "2               покупка жилье     молодежь        высокий        высокий  \n",
       "3  дополнительный образование     молодежь  очень высокий  очень высокий  \n",
       "4             сыграть свадьба     взрослый        высокий        высокий  "
      ]
     },
     "execution_count": 21,
     "metadata": {},
     "output_type": "execute_result"
    }
   ],
   "source": [
    "income_labels =['низкий', 'средний', 'высокий', 'очень высокий']\n",
    "df['income_group_2'] = pd.qcut(df['total_income'], q=[0, .25, .5, .75, 1], labels=income_labels)\n",
    "df.head()\n",
    "#Бомба!"
   ]
  },
  {
   "cell_type": "markdown",
   "metadata": {},
   "source": [
    "<div class=\"alert alert-success\">\n",
    "<h2> Комментарий ревьюера v2 <a class=\"tocSkip\"> </h2>\n",
    "\n",
    "Согласен))"
   ]
  },
  {
   "cell_type": "markdown",
   "metadata": {},
   "source": [
    "Теперь категоризируем столбец 'purpose' (цель кредита). На данный момент данные в нем лемматизированны, но одни и те же категории описаны разными словами. Посмотрим, какие цели лидируют на данный момент."
   ]
  },
  {
   "cell_type": "code",
   "execution_count": 22,
   "metadata": {
    "scrolled": true
   },
   "outputs": [
    {
     "data": {
      "text/plain": [
       "автомобиль                                972\n",
       "свадьба                                   791\n",
       "на проведение свадьба                     767\n",
       "сыграть свадьба                           765\n",
       "операция с недвижимость                   675\n",
       "покупка коммерческий недвижимость         661\n",
       "операция с жилье                          652\n",
       "покупка жилье для сдача                   651\n",
       "операция с коммерческий недвижимость      650\n",
       "жилье                                     646\n",
       "покупка жилье                             646\n",
       "покупка жилье для семья                   638\n",
       "строительство собственный недвижимость    635\n",
       "недвижимость                              633\n",
       "операция со свой недвижимость             627\n",
       "строительство жилой недвижимость          624\n",
       "покупка недвижимость                      621\n",
       "покупка свой жилье                        620\n",
       "строительство недвижимость                619\n",
       "ремонт жилье                              607\n",
       "покупка жилой недвижимость                606\n",
       "на покупка свой автомобиль                505\n",
       "заниматься высокий образование            496\n",
       "сделка с подержанный автомобиль           486\n",
       "на покупка подержать автомобиль           478\n",
       "свой автомобиль                           478\n",
       "на покупка автомобиль                     471\n",
       "приобретение автомобиль                   461\n",
       "дополнительный образование                460\n",
       "сделка с автомобиль                       455\n",
       "Name: purpose, dtype: int64"
      ]
     },
     "execution_count": 22,
     "metadata": {},
     "output_type": "execute_result"
    }
   ],
   "source": [
    "df['purpose'].value_counts().head(30)"
   ]
  },
  {
   "cell_type": "markdown",
   "metadata": {},
   "source": [
    "Как видим, цели получения кредита можно разделить на следующие категории:\n",
    "+ недвижимость\n",
    "+ автомобиль\n",
    "+ свадьба\n",
    "+ образование\n",
    "\n",
    "Заменим строки в столбце 'purpose' на название категории, при условии что строка содержит одно из ключевых слов."
   ]
  },
  {
   "cell_type": "code",
   "execution_count": 23,
   "metadata": {
    "scrolled": true
   },
   "outputs": [],
   "source": [
    "#n=0 #сделаем счетчик успешных замен, чтобы понять, все ли значения мы заменили\n",
    "\n",
    "#for i in range(len(df['purpose'])):\n",
    "     \n",
    "#    if ('жилье' in df.loc[i,'purpose']) or ('недвижимость' in df.loc[i,'purpose']) or ('дом' in df.loc[i,'purpose']):\n",
    "#            df.loc[i,'purpose'] = 'недвижимость'\n",
    "#            n += 1\n",
    "#    if ('автомобиль' in df.loc[i,'purpose']) or ('машина' in df.loc[i,'purpose']):\n",
    "#            df.loc[i,'purpose'] = 'автомобиль'\n",
    "#           n += 1\n",
    "#  if ('свадьба' in df.loc[i,'purpose']) or ('женитьба' in df.loc[i,'purpose']):\n",
    "#            df.loc[i,'purpose'] = 'свадьба'\n",
    "#            n += 1\n",
    "#    if ('образование' in df.loc[i,'purpose']) or ('учеба' in df.loc[i,'purpose']):\n",
    "#            df.loc[i,'purpose'] = 'образование'\n",
    "#            n += 1\n",
    "\n",
    "#print('Заменено {:.1%} значений'.format(n / (len(df['purpose']))))            \n",
    "#df.head()\n"
   ]
  },
  {
   "cell_type": "markdown",
   "metadata": {},
   "source": [
    "<div class=\"alert alert-success\">\n",
    "<h2> Комментарий ревьюера <a class=\"tocSkip\"> </h2>\n",
    "\n",
    "Классное решение в целом, но я бы обернул его в функцию - более практично и красиво"
   ]
  },
  {
   "cell_type": "markdown",
   "metadata": {},
   "source": [
    "<font color='blue'>\n",
    "Cогласен!\n",
    "<font>"
   ]
  },
  {
   "cell_type": "markdown",
   "metadata": {},
   "source": [
    "<div class=\"alert alert-success\">\n",
    "<h2> Комментарий ревьюера v2 <a class=\"tocSkip\"> </h2>\n",
    "\n",
    "👍👍👍"
   ]
  },
  {
   "cell_type": "code",
   "execution_count": 24,
   "metadata": {},
   "outputs": [
    {
     "data": {
      "text/html": [
       "<div>\n",
       "<style scoped>\n",
       "    .dataframe tbody tr th:only-of-type {\n",
       "        vertical-align: middle;\n",
       "    }\n",
       "\n",
       "    .dataframe tbody tr th {\n",
       "        vertical-align: top;\n",
       "    }\n",
       "\n",
       "    .dataframe thead th {\n",
       "        text-align: right;\n",
       "    }\n",
       "</style>\n",
       "<table border=\"1\" class=\"dataframe\">\n",
       "  <thead>\n",
       "    <tr style=\"text-align: right;\">\n",
       "      <th></th>\n",
       "      <th>children</th>\n",
       "      <th>days_employed</th>\n",
       "      <th>dob_years</th>\n",
       "      <th>education</th>\n",
       "      <th>education_id</th>\n",
       "      <th>family_status</th>\n",
       "      <th>family_status_id</th>\n",
       "      <th>gender</th>\n",
       "      <th>income_type</th>\n",
       "      <th>debt</th>\n",
       "      <th>total_income</th>\n",
       "      <th>purpose</th>\n",
       "      <th>age_category</th>\n",
       "      <th>income_group</th>\n",
       "      <th>income_group_2</th>\n",
       "    </tr>\n",
       "  </thead>\n",
       "  <tbody>\n",
       "    <tr>\n",
       "      <td>0</td>\n",
       "      <td>1</td>\n",
       "      <td>8438</td>\n",
       "      <td>42</td>\n",
       "      <td>высшее</td>\n",
       "      <td>0</td>\n",
       "      <td>женат / замужем</td>\n",
       "      <td>0</td>\n",
       "      <td>F</td>\n",
       "      <td>сотрудник</td>\n",
       "      <td>0</td>\n",
       "      <td>253876</td>\n",
       "      <td>недвижимость</td>\n",
       "      <td>взрослый</td>\n",
       "      <td>очень высокий</td>\n",
       "      <td>очень высокий</td>\n",
       "    </tr>\n",
       "    <tr>\n",
       "      <td>1</td>\n",
       "      <td>1</td>\n",
       "      <td>4025</td>\n",
       "      <td>36</td>\n",
       "      <td>среднее</td>\n",
       "      <td>1</td>\n",
       "      <td>женат / замужем</td>\n",
       "      <td>0</td>\n",
       "      <td>F</td>\n",
       "      <td>сотрудник</td>\n",
       "      <td>0</td>\n",
       "      <td>112080</td>\n",
       "      <td>автомобиль</td>\n",
       "      <td>взрослый</td>\n",
       "      <td>средний</td>\n",
       "      <td>средний</td>\n",
       "    </tr>\n",
       "    <tr>\n",
       "      <td>2</td>\n",
       "      <td>0</td>\n",
       "      <td>5623</td>\n",
       "      <td>33</td>\n",
       "      <td>среднее</td>\n",
       "      <td>1</td>\n",
       "      <td>женат / замужем</td>\n",
       "      <td>0</td>\n",
       "      <td>M</td>\n",
       "      <td>сотрудник</td>\n",
       "      <td>0</td>\n",
       "      <td>145886</td>\n",
       "      <td>недвижимость</td>\n",
       "      <td>молодежь</td>\n",
       "      <td>высокий</td>\n",
       "      <td>высокий</td>\n",
       "    </tr>\n",
       "    <tr>\n",
       "      <td>3</td>\n",
       "      <td>3</td>\n",
       "      <td>4125</td>\n",
       "      <td>32</td>\n",
       "      <td>среднее</td>\n",
       "      <td>1</td>\n",
       "      <td>женат / замужем</td>\n",
       "      <td>0</td>\n",
       "      <td>M</td>\n",
       "      <td>сотрудник</td>\n",
       "      <td>0</td>\n",
       "      <td>267629</td>\n",
       "      <td>образование</td>\n",
       "      <td>молодежь</td>\n",
       "      <td>очень высокий</td>\n",
       "      <td>очень высокий</td>\n",
       "    </tr>\n",
       "    <tr>\n",
       "      <td>4</td>\n",
       "      <td>0</td>\n",
       "      <td>340266</td>\n",
       "      <td>53</td>\n",
       "      <td>среднее</td>\n",
       "      <td>1</td>\n",
       "      <td>гражданский брак</td>\n",
       "      <td>1</td>\n",
       "      <td>F</td>\n",
       "      <td>пенсионер</td>\n",
       "      <td>0</td>\n",
       "      <td>158616</td>\n",
       "      <td>свадьба</td>\n",
       "      <td>взрослый</td>\n",
       "      <td>высокий</td>\n",
       "      <td>высокий</td>\n",
       "    </tr>\n",
       "  </tbody>\n",
       "</table>\n",
       "</div>"
      ],
      "text/plain": [
       "   children  days_employed  dob_years education  education_id  \\\n",
       "0         1           8438         42    высшее             0   \n",
       "1         1           4025         36   среднее             1   \n",
       "2         0           5623         33   среднее             1   \n",
       "3         3           4125         32   среднее             1   \n",
       "4         0         340266         53   среднее             1   \n",
       "\n",
       "      family_status  family_status_id gender income_type  debt  total_income  \\\n",
       "0   женат / замужем                 0      F   сотрудник     0        253876   \n",
       "1   женат / замужем                 0      F   сотрудник     0        112080   \n",
       "2   женат / замужем                 0      M   сотрудник     0        145886   \n",
       "3   женат / замужем                 0      M   сотрудник     0        267629   \n",
       "4  гражданский брак                 1      F   пенсионер     0        158616   \n",
       "\n",
       "        purpose age_category   income_group income_group_2  \n",
       "0  недвижимость     взрослый  очень высокий  очень высокий  \n",
       "1    автомобиль     взрослый        средний        средний  \n",
       "2  недвижимость     молодежь        высокий        высокий  \n",
       "3   образование     молодежь  очень высокий  очень высокий  \n",
       "4       свадьба     взрослый        высокий        высокий  "
      ]
     },
     "execution_count": 24,
     "metadata": {},
     "output_type": "execute_result"
    }
   ],
   "source": [
    "def purp_replace(purpose):\n",
    "    if ('жилье'in purpose) or ('недвижимость' in purpose):\n",
    "        return 'недвижимость'\n",
    "    if ('автомобиль'in purpose) or ('машина' in purpose):\n",
    "        return 'автомобиль'\n",
    "    if ('свадьба'in purpose) or ('женитьба' in purpose):\n",
    "        return 'свадьба'\n",
    "    if ('учеба'in purpose) or ('образование' in purpose):\n",
    "        return 'образование'\n",
    "    \n",
    "df['purpose'] = df['purpose'].apply(purp_replace)\n",
    "df.head()"
   ]
  },
  {
   "cell_type": "markdown",
   "metadata": {},
   "source": [
    "Наше исследование затрагивает семейное положение клиента. В таблице имеется столбец 'family_status_id', который содержит идентификаторы семейного положения. Идентификатор будет удобнее использовать при работе с данными, т.к. он представляет собой однозначное число, в то время как статус описывается символами и разделителями. Составим \"словарь\" для  идентификаторов семейного положения."
   ]
  },
  {
   "cell_type": "code",
   "execution_count": 25,
   "metadata": {},
   "outputs": [
    {
     "data": {
      "text/html": [
       "<div>\n",
       "<style scoped>\n",
       "    .dataframe tbody tr th:only-of-type {\n",
       "        vertical-align: middle;\n",
       "    }\n",
       "\n",
       "    .dataframe tbody tr th {\n",
       "        vertical-align: top;\n",
       "    }\n",
       "\n",
       "    .dataframe thead th {\n",
       "        text-align: right;\n",
       "    }\n",
       "</style>\n",
       "<table border=\"1\" class=\"dataframe\">\n",
       "  <thead>\n",
       "    <tr style=\"text-align: right;\">\n",
       "      <th></th>\n",
       "      <th>family_status_id</th>\n",
       "      <th>family_status</th>\n",
       "    </tr>\n",
       "  </thead>\n",
       "  <tbody>\n",
       "    <tr>\n",
       "      <td>0</td>\n",
       "      <td>0</td>\n",
       "      <td>женат / замужем</td>\n",
       "    </tr>\n",
       "    <tr>\n",
       "      <td>1</td>\n",
       "      <td>1</td>\n",
       "      <td>гражданский брак</td>\n",
       "    </tr>\n",
       "    <tr>\n",
       "      <td>2</td>\n",
       "      <td>2</td>\n",
       "      <td>вдовец / вдова</td>\n",
       "    </tr>\n",
       "    <tr>\n",
       "      <td>3</td>\n",
       "      <td>3</td>\n",
       "      <td>в разводе</td>\n",
       "    </tr>\n",
       "    <tr>\n",
       "      <td>4</td>\n",
       "      <td>4</td>\n",
       "      <td>Не женат / не замужем</td>\n",
       "    </tr>\n",
       "  </tbody>\n",
       "</table>\n",
       "</div>"
      ],
      "text/plain": [
       "   family_status_id          family_status\n",
       "0                 0        женат / замужем\n",
       "1                 1       гражданский брак\n",
       "2                 2         вдовец / вдова\n",
       "3                 3              в разводе\n",
       "4                 4  Не женат / не замужем"
      ]
     },
     "execution_count": 25,
     "metadata": {},
     "output_type": "execute_result"
    }
   ],
   "source": [
    "family_dict = df[['family_status_id', 'family_status']]\n",
    "family_dict = family_dict.drop_duplicates().reset_index(drop=True)\n",
    "family_dict"
   ]
  },
  {
   "cell_type": "markdown",
   "metadata": {},
   "source": [
    "**Вывод**"
   ]
  },
  {
   "cell_type": "markdown",
   "metadata": {},
   "source": [
    "На этапе категоризации данных мы разделили данные о доходе клиентов на 4 условные группы, также мы определили 4 категории для целей кредита и присвоили соответствующие значения всем строкам столбца 'purpose' (цель кредита). Кроме этого, мы составили \"словарь\" для идентификаторов семейного положения. Вышеперечисленные действия позволяют нам перейти непосредственно к ответам на вопросы исследования."
   ]
  },
  {
   "cell_type": "markdown",
   "metadata": {},
   "source": [
    "<div style=\"border:solid purple 5px; padding: 20px\"> \n",
    "<h2 align=\"center\"> Рубрика «Питонячий лайфхакер» <a class=\"tocSkip\"> </h2>\n",
    "\n",
    "<h3> Функция zip <a class=\"tocSkip\"> </h3>\n",
    "\n",
    "Функция zip создаёт итератор, который комбинирует элементы нескольких списков. Это позволяет осуществлять параллельный обход списков в циклах for или, например, выполнять параллельную сортировку.\n",
    "\n",
    "![](https://i.ibb.co/MPPZ6TL/image.png)"
   ]
  },
  {
   "cell_type": "markdown",
   "metadata": {},
   "source": [
    "<a class=\"anchor\" id=\"3\"></a>\n",
    "## Шаг 3. Ответьте на вопросы"
   ]
  },
  {
   "cell_type": "markdown",
   "metadata": {},
   "source": [
    "- Есть ли зависимость между наличием детей и возвратом кредита в срок?"
   ]
  },
  {
   "cell_type": "markdown",
   "metadata": {},
   "source": [
    "Визуально оценим статистику по количеству детей у клиентов."
   ]
  },
  {
   "cell_type": "code",
   "execution_count": 26,
   "metadata": {
    "scrolled": true
   },
   "outputs": [
    {
     "data": {
      "text/plain": [
       " 0     14090\n",
       " 1      4808\n",
       " 2      2052\n",
       " 3       330\n",
       " 20       76\n",
       "-1        47\n",
       " 4        41\n",
       " 5         9\n",
       "Name: children, dtype: int64"
      ]
     },
     "execution_count": 26,
     "metadata": {},
     "output_type": "execute_result"
    }
   ],
   "source": [
    "df['children'].value_counts()\n"
   ]
  },
  {
   "cell_type": "markdown",
   "metadata": {},
   "source": [
    "Очевидно, данные содержат ошибки. На данный момент в России зарегистрирована только одна семья с двадцатью детьми, а отрицательного количества детей быть не может. Заменим ошибочные данные на медианные."
   ]
  },
  {
   "cell_type": "code",
   "execution_count": 27,
   "metadata": {
    "scrolled": true
   },
   "outputs": [
    {
     "data": {
      "text/plain": [
       "0    14213\n",
       "1     4808\n",
       "2     2052\n",
       "3      330\n",
       "4       41\n",
       "5        9\n",
       "Name: children, dtype: int64"
      ]
     },
     "execution_count": 27,
     "metadata": {},
     "output_type": "execute_result"
    }
   ],
   "source": [
    "children_true = df[(df['children'] != 20) & (df['children'] != -1)]['children'] # создадим столбец без ошибочных данных\n",
    "children_median = children_true.median().astype('int') # посчитаем медиану\n",
    "df['children'] = df['children'].replace([20, -1], children_median) #заменим значения на медианные\n",
    "df['children'].value_counts()"
   ]
  },
  {
   "cell_type": "markdown",
   "metadata": {},
   "source": [
    "Оценим зависимость между количеством детей и возвратом кредита в срок. Для этого в каждой категории посчитаем отношения клиентов, не вернувших кредит в срок, к общему количеству клиентов в этой категории."
   ]
  },
  {
   "cell_type": "code",
   "execution_count": 28,
   "metadata": {
    "scrolled": true
   },
   "outputs": [
    {
     "name": "stdout",
     "output_type": "stream",
     "text": [
      "14213 4808 2052 380\n",
      "1072 444 194 31\n",
      "Доля клиентов без детей, не вернувших кредит в срок составляет          7.5%\n",
      "Доля клиентов c 1 ребенком, не вернувших кредит в срок составляет       9.2%\n",
      "Доля клиентов с 2 детьми, не вернувших кредит в срок составляет         9.5%\n",
      "Доля клиентов с 3 и более детьми, не вернувших кредит в срок составляет 8.2%\n"
     ]
    }
   ],
   "source": [
    "child_0 = df[df['children'] == 0]['children'].count() # все клиенты без детей\n",
    "debt_0 = df[(df['children'] == 0) & (df['debt'] == 1)]['children'].count() # клиенты без детей, просрочившие выплату кредита\n",
    "conv_0 = debt_0 / child_0 # доля неплательщиков среди бездетных\n",
    "\n",
    "child_1 = df[df['children'] == 1]['children'].count()\n",
    "debt_1 = df[(df['children'] == 1) & (df['debt'] == 1)]['children'].count()\n",
    "conv_1 = debt_1 / child_1\n",
    "\n",
    "child_2 = df[df['children'] == 2]['children'].count()\n",
    "debt_2 = df[(df['children'] == 2) & (df['debt'] == 1)]['children'].count()\n",
    "conv_2 = debt_2 / child_2\n",
    "\n",
    "child_345 = df[df['children'] >= 3]['children'].count() # для трех и более детей \n",
    "debt_345 = df[(df['children'] >= 3) & (df['debt'] == 1)]['children'].count()\n",
    "conv_345 = debt_345 / child_345\n",
    "print(child_0, child_1, child_2, child_345)\n",
    "print(debt_0, debt_1, debt_2, debt_345)\n",
    "\n",
    "print('Доля клиентов без детей, не вернувших кредит в срок составляет          {:.1%}'.format(conv_0))\n",
    "print('Доля клиентов c 1 ребенком, не вернувших кредит в срок составляет       {:.1%}'.format(conv_1))\n",
    "print('Доля клиентов с 2 детьми, не вернувших кредит в срок составляет         {:.1%}'.format(conv_2))\n",
    "print('Доля клиентов с 3 и более детьми, не вернувших кредит в срок составляет {:.1%}'.format(conv_345))"
   ]
  },
  {
   "cell_type": "markdown",
   "metadata": {},
   "source": [
    "<div class=\"alert alert-danger\">\n",
    "<h2> Комментарий ревьюера <a class=\"tocSkip\"> </h2>\n",
    "\n",
    "Такая реализация будет сложной, если в данных, по которым ты проводишь категоризацию, уникальных значений не 5, а, например, 50. Придется очень долго прописывать каждое условие.\n",
    "    \n",
    "Предлагаю здесь воспользоваться сводными таблицами и использовать [pivot_table](https://pandas.pydata.org/pandas-docs/stable/reference/api/pandas.pivot_table.html) или [groupby](https://pandas.pydata.org/pandas-docs/stable/reference/api/pandas.DataFrame.groupby.html). Посчитай общее кол-во клиентов (count) в каждой группе, кол-во должников (sum), и подели второе на первое"
   ]
  },
  {
   "cell_type": "markdown",
   "metadata": {},
   "source": [
    "<font color='blue'>\n",
    "    Оценим зависимость между количеством детей и возвратом кредита в срок. Для этого сгрупируем данные по количеству детей, посчитаем общее количество клиентов для каждой группы и количество должников, далее разделим второе на первое.\n",
    "</font>"
   ]
  },
  {
   "cell_type": "code",
   "execution_count": 29,
   "metadata": {},
   "outputs": [
    {
     "name": "stdout",
     "output_type": "stream",
     "text": [
      "Доля клиентов, не вернувших кредит вовремя\n",
      "\n",
      "children\n",
      "0    0.075424\n",
      "1    0.092346\n",
      "2    0.094542\n",
      "3    0.081818\n",
      "4    0.097561\n",
      "5    0.000000\n",
      "Name: debt, dtype: float64\n"
     ]
    }
   ],
   "source": [
    "children_count = df.groupby('children')['debt'].count()\n",
    "debt_sums_child = df.groupby('children')['debt'].sum()\n",
    "child_conv = debt_sums_child / children_count\n",
    "print('Доля клиентов, не вернувших кредит вовремя')\n",
    "print()\n",
    "print(child_conv)\n",
    "# Настолько проще! Круто! Спасибо!"
   ]
  },
  {
   "cell_type": "markdown",
   "metadata": {},
   "source": [
    "<div class=\"alert alert-success\">\n",
    "<h2> Комментарий ревьюера v2 <a class=\"tocSkip\"> </h2>\n",
    "\n",
    "А вот варант еще проше) Обрати внимание на [style](https://pandas.pydata.org/pandas-docs/stable/user_guide/style.html) библиотеки `pandas`. Там много прикольных штук для того, чтобы сделать датафрейм красивее 😊"
   ]
  },
  {
   "cell_type": "code",
   "execution_count": 38,
   "metadata": {},
   "outputs": [
    {
     "data": {
      "text/html": [
       "<style  type=\"text/css\" >\n",
       "</style><table id=\"T_3ca13fac_ea54_11eb_9083_02420a39dfe2\" ><thead>    <tr>        <th class=\"blank level0\" ></th>        <th class=\"col_heading level0 col0\" >count</th>        <th class=\"col_heading level0 col1\" >sum</th>        <th class=\"col_heading level0 col2\" >mean</th>    </tr>    <tr>        <th class=\"index_name level0\" >children</th>        <th class=\"blank\" ></th>        <th class=\"blank\" ></th>        <th class=\"blank\" ></th>    </tr></thead><tbody>\n",
       "                <tr>\n",
       "                        <th id=\"T_3ca13fac_ea54_11eb_9083_02420a39dfe2level0_row0\" class=\"row_heading level0 row0\" >0</th>\n",
       "                        <td id=\"T_3ca13fac_ea54_11eb_9083_02420a39dfe2row0_col0\" class=\"data row0 col0\" >14213</td>\n",
       "                        <td id=\"T_3ca13fac_ea54_11eb_9083_02420a39dfe2row0_col1\" class=\"data row0 col1\" >1072</td>\n",
       "                        <td id=\"T_3ca13fac_ea54_11eb_9083_02420a39dfe2row0_col2\" class=\"data row0 col2\" >7.54%</td>\n",
       "            </tr>\n",
       "            <tr>\n",
       "                        <th id=\"T_3ca13fac_ea54_11eb_9083_02420a39dfe2level0_row1\" class=\"row_heading level0 row1\" >1</th>\n",
       "                        <td id=\"T_3ca13fac_ea54_11eb_9083_02420a39dfe2row1_col0\" class=\"data row1 col0\" >4808</td>\n",
       "                        <td id=\"T_3ca13fac_ea54_11eb_9083_02420a39dfe2row1_col1\" class=\"data row1 col1\" >444</td>\n",
       "                        <td id=\"T_3ca13fac_ea54_11eb_9083_02420a39dfe2row1_col2\" class=\"data row1 col2\" >9.23%</td>\n",
       "            </tr>\n",
       "            <tr>\n",
       "                        <th id=\"T_3ca13fac_ea54_11eb_9083_02420a39dfe2level0_row2\" class=\"row_heading level0 row2\" >2</th>\n",
       "                        <td id=\"T_3ca13fac_ea54_11eb_9083_02420a39dfe2row2_col0\" class=\"data row2 col0\" >2052</td>\n",
       "                        <td id=\"T_3ca13fac_ea54_11eb_9083_02420a39dfe2row2_col1\" class=\"data row2 col1\" >194</td>\n",
       "                        <td id=\"T_3ca13fac_ea54_11eb_9083_02420a39dfe2row2_col2\" class=\"data row2 col2\" >9.45%</td>\n",
       "            </tr>\n",
       "            <tr>\n",
       "                        <th id=\"T_3ca13fac_ea54_11eb_9083_02420a39dfe2level0_row3\" class=\"row_heading level0 row3\" >3</th>\n",
       "                        <td id=\"T_3ca13fac_ea54_11eb_9083_02420a39dfe2row3_col0\" class=\"data row3 col0\" >330</td>\n",
       "                        <td id=\"T_3ca13fac_ea54_11eb_9083_02420a39dfe2row3_col1\" class=\"data row3 col1\" >27</td>\n",
       "                        <td id=\"T_3ca13fac_ea54_11eb_9083_02420a39dfe2row3_col2\" class=\"data row3 col2\" >8.18%</td>\n",
       "            </tr>\n",
       "            <tr>\n",
       "                        <th id=\"T_3ca13fac_ea54_11eb_9083_02420a39dfe2level0_row4\" class=\"row_heading level0 row4\" >4</th>\n",
       "                        <td id=\"T_3ca13fac_ea54_11eb_9083_02420a39dfe2row4_col0\" class=\"data row4 col0\" >41</td>\n",
       "                        <td id=\"T_3ca13fac_ea54_11eb_9083_02420a39dfe2row4_col1\" class=\"data row4 col1\" >4</td>\n",
       "                        <td id=\"T_3ca13fac_ea54_11eb_9083_02420a39dfe2row4_col2\" class=\"data row4 col2\" >9.76%</td>\n",
       "            </tr>\n",
       "            <tr>\n",
       "                        <th id=\"T_3ca13fac_ea54_11eb_9083_02420a39dfe2level0_row5\" class=\"row_heading level0 row5\" >5</th>\n",
       "                        <td id=\"T_3ca13fac_ea54_11eb_9083_02420a39dfe2row5_col0\" class=\"data row5 col0\" >9</td>\n",
       "                        <td id=\"T_3ca13fac_ea54_11eb_9083_02420a39dfe2row5_col1\" class=\"data row5 col1\" >0</td>\n",
       "                        <td id=\"T_3ca13fac_ea54_11eb_9083_02420a39dfe2row5_col2\" class=\"data row5 col2\" >0.00%</td>\n",
       "            </tr>\n",
       "    </tbody></table>"
      ],
      "text/plain": [
       "<pandas.io.formats.style.Styler at 0x7f646af3a290>"
      ]
     },
     "execution_count": 38,
     "metadata": {},
     "output_type": "execute_result"
    }
   ],
   "source": [
    "df.groupby('children')['debt'].agg(['count', 'sum', 'mean']).style.format({'mean': '{:.2%}'})"
   ]
  },
  {
   "cell_type": "markdown",
   "metadata": {},
   "source": [
    "Доля клиентов, не вернувших кредит вовремя увеличивается с количеством детей, если рассматривать количество детей от 0 до 2. Клиенты с тремя и более детьми возвращают кредит вовремя чаще, чем клиенты с 1 и 2 детьми, но реже чем бездетные, хотя на результат для этой выборки могла повлиять ее относительно маленькая величина. Одно можно сказать точно: клиенты без детей чаще возвращают кредит вовремя."
   ]
  },
  {
   "cell_type": "markdown",
   "metadata": {},
   "source": [
    "**Вывод**"
   ]
  },
  {
   "cell_type": "markdown",
   "metadata": {},
   "source": [
    "Клиенты без детей реже задерживают выплату кредита."
   ]
  },
  {
   "cell_type": "markdown",
   "metadata": {},
   "source": [
    "- Есть ли зависимость между семейным положением и возвратом кредита в срок?"
   ]
  },
  {
   "cell_type": "markdown",
   "metadata": {},
   "source": [
    "Визуально оценим статистику семейного положения клиентов."
   ]
  },
  {
   "cell_type": "code",
   "execution_count": 30,
   "metadata": {},
   "outputs": [
    {
     "data": {
      "text/plain": [
       "женат / замужем          12339\n",
       "гражданский брак          4150\n",
       "Не женат / не замужем     2810\n",
       "в разводе                 1195\n",
       "вдовец / вдова             959\n",
       "Name: family_status, dtype: int64"
      ]
     },
     "execution_count": 30,
     "metadata": {},
     "output_type": "execute_result"
    }
   ],
   "source": [
    "df['family_status'].value_counts()"
   ]
  },
  {
   "cell_type": "markdown",
   "metadata": {},
   "source": [
    "Выведем \"словарь\" с идентификаторами семейного положения."
   ]
  },
  {
   "cell_type": "code",
   "execution_count": 31,
   "metadata": {
    "scrolled": true
   },
   "outputs": [
    {
     "data": {
      "text/html": [
       "<div>\n",
       "<style scoped>\n",
       "    .dataframe tbody tr th:only-of-type {\n",
       "        vertical-align: middle;\n",
       "    }\n",
       "\n",
       "    .dataframe tbody tr th {\n",
       "        vertical-align: top;\n",
       "    }\n",
       "\n",
       "    .dataframe thead th {\n",
       "        text-align: right;\n",
       "    }\n",
       "</style>\n",
       "<table border=\"1\" class=\"dataframe\">\n",
       "  <thead>\n",
       "    <tr style=\"text-align: right;\">\n",
       "      <th></th>\n",
       "      <th>family_status_id</th>\n",
       "      <th>family_status</th>\n",
       "    </tr>\n",
       "  </thead>\n",
       "  <tbody>\n",
       "    <tr>\n",
       "      <td>0</td>\n",
       "      <td>0</td>\n",
       "      <td>женат / замужем</td>\n",
       "    </tr>\n",
       "    <tr>\n",
       "      <td>1</td>\n",
       "      <td>1</td>\n",
       "      <td>гражданский брак</td>\n",
       "    </tr>\n",
       "    <tr>\n",
       "      <td>2</td>\n",
       "      <td>2</td>\n",
       "      <td>вдовец / вдова</td>\n",
       "    </tr>\n",
       "    <tr>\n",
       "      <td>3</td>\n",
       "      <td>3</td>\n",
       "      <td>в разводе</td>\n",
       "    </tr>\n",
       "    <tr>\n",
       "      <td>4</td>\n",
       "      <td>4</td>\n",
       "      <td>Не женат / не замужем</td>\n",
       "    </tr>\n",
       "  </tbody>\n",
       "</table>\n",
       "</div>"
      ],
      "text/plain": [
       "   family_status_id          family_status\n",
       "0                 0        женат / замужем\n",
       "1                 1       гражданский брак\n",
       "2                 2         вдовец / вдова\n",
       "3                 3              в разводе\n",
       "4                 4  Не женат / не замужем"
      ]
     },
     "execution_count": 31,
     "metadata": {},
     "output_type": "execute_result"
    }
   ],
   "source": [
    "family_dict"
   ]
  },
  {
   "cell_type": "markdown",
   "metadata": {},
   "source": [
    "Оценим зависимость между семейным положением и возвратом кредита в срок. Для этого в каждой категории посчитаем отношения клиентов, не вернувших кредит в срок, к общему количеству клиентов в этой категории."
   ]
  },
  {
   "cell_type": "code",
   "execution_count": 32,
   "metadata": {},
   "outputs": [
    {
     "name": "stdout",
     "output_type": "stream",
     "text": [
      "Доля клиентов, не вернувших кредит вовремя:\n",
      "\n",
      "женат / замужем        7.5%\n",
      "гражданский брак       9.3%\n",
      "вдовец / вдова         6.6%\n",
      "в разводе              7.1%\n",
      "Не женат / не замужем  9.8%\n"
     ]
    }
   ],
   "source": [
    "fam_0 = df[df['family_status_id'] == 0]['family_status_id'].count() # женат / замужем\n",
    "debt_fam_0 = df[(df['family_status_id'] == 0) & (df['debt'] == 1)]['family_status_id'].count()\n",
    "conv_fam_0 = debt_fam_0 / fam_0\n",
    "\n",
    "fam_1 = df[df['family_status_id'] == 1]['family_status_id'].count() # гражданский брак\n",
    "debt_fam_1 = df[(df['family_status_id'] == 1) & (df['debt'] == 1)]['family_status_id'].count()\n",
    "conv_fam_1 = debt_fam_1 / fam_1\n",
    "\n",
    "fam_2 = df[df['family_status_id'] == 2]['family_status_id'].count() # вдовец / вдова\n",
    "debt_fam_2 = df[(df['family_status_id'] == 2) & (df['debt'] == 1)]['family_status_id'].count()\n",
    "conv_fam_2 = debt_fam_2 / fam_2\n",
    "\n",
    "fam_3 = df[df['family_status_id'] == 3]['family_status_id'].count() # в разводе\n",
    "debt_fam_3 = df[(df['family_status_id'] == 3) & (df['debt'] == 1)]['family_status_id'].count()\n",
    "conv_fam_3 = debt_fam_3 / fam_3\n",
    "\n",
    "fam_4 = df[df['family_status_id'] == 4]['family_status_id'].count() # Не женат / не замужем\n",
    "debt_fam_4 = df[(df['family_status_id'] == 4) & (df['debt'] == 1)]['family_status_id'].count()\n",
    "conv_fam_4 = debt_fam_4 / fam_4\n",
    "\n",
    "print('Доля клиентов, не вернувших кредит вовремя:')\n",
    "print()\n",
    "print(family_dict.loc[0, 'family_status'], '       {:.1%}'.format(conv_fam_0))\n",
    "print(family_dict.loc[1, 'family_status'], '      {:.1%}'.format(conv_fam_1))\n",
    "print(family_dict.loc[2, 'family_status'], '        {:.1%}'.format(conv_fam_2))\n",
    "print(family_dict.loc[3, 'family_status'], '             {:.1%}'.format(conv_fam_3))\n",
    "print(family_dict.loc[4, 'family_status'], ' {:.1%}'.format(conv_fam_4))"
   ]
  },
  {
   "cell_type": "markdown",
   "metadata": {},
   "source": [
    "**Вывод**"
   ]
  },
  {
   "cell_type": "markdown",
   "metadata": {},
   "source": [
    "Клиенты, не состоящие в браке, либо состоящие в гражданском браке, задерживают выплату кредита чаще клиентов c другим семейным положением."
   ]
  },
  {
   "cell_type": "markdown",
   "metadata": {},
   "source": [
    "- Есть ли зависимость между уровнем дохода и возвратом кредита в срок?"
   ]
  },
  {
   "cell_type": "markdown",
   "metadata": {},
   "source": [
    "Оценим зависимость между уровнем дохода и возвратом кредита в срок. Для этого в каждой категории посчитаем отношения клиентов, не вернувших кредит в срок, к общему количеству клиентов в этой категории."
   ]
  },
  {
   "cell_type": "code",
   "execution_count": 33,
   "metadata": {},
   "outputs": [
    {
     "name": "stdout",
     "output_type": "stream",
     "text": [
      "Доля клиентов с низким доходом, не вернувших кредит в срок, составляет        8.0%\n",
      "Доля клиентов cо средним доходом, не вернувших кредит в срок, составляет      8.8%\n",
      "Доля клиентов с высоким доходом, не вернувших кредит в срок, составляет       8.5%\n",
      "Доля клиентов с очень высоким доходом, не вернувших кредит в срок, составляет 7.1%\n"
     ]
    }
   ],
   "source": [
    "income_low = df[df['income_group'] == 'низкий']['income_group'].count()\n",
    "debt_income_low = df[(df['income_group'] == 'низкий') & (df['debt'] == 1)]['income_group'].count()\n",
    "conv_income_low = debt_income_low / income_low\n",
    "\n",
    "income_mid = df[df['income_group'] == 'средний']['income_group'].count()\n",
    "debt_income_mid = df[(df['income_group'] == 'средний') & (df['debt'] == 1)]['income_group'].count()\n",
    "conv_income_mid = debt_income_mid / income_mid\n",
    "\n",
    "income_high = df[df['income_group'] == 'высокий']['income_group'].count()\n",
    "debt_income_high = df[(df['income_group'] == 'высокий') & (df['debt'] == 1)]['income_group'].count()\n",
    "conv_income_high = debt_income_high / income_high\n",
    "\n",
    "income_vhigh = df[df['income_group'] == 'очень высокий']['income_group'].count()\n",
    "debt_income_vhigh = df[(df['income_group'] == 'очень высокий') & (df['debt'] == 1)]['income_group'].count()\n",
    "conv_income_vhigh = debt_income_vhigh / income_vhigh\n",
    "\n",
    "print('Доля клиентов с низким доходом, не вернувших кредит в срок, составляет        {:.1%}'.format(conv_income_low))\n",
    "print('Доля клиентов cо средним доходом, не вернувших кредит в срок, составляет      {:.1%}'.format(conv_income_mid))\n",
    "print('Доля клиентов с высоким доходом, не вернувших кредит в срок, составляет       {:.1%}'.format(conv_income_high))\n",
    "print('Доля клиентов с очень высоким доходом, не вернувших кредит в срок, составляет {:.1%}'.format(conv_income_vhigh))"
   ]
  },
  {
   "cell_type": "markdown",
   "metadata": {},
   "source": [
    "<div style=\"border:solid purple 5px; padding: 20px\"> \n",
    "<h2 align=\"center\"> Рубрика «Питонячий лайфхакер» <a class=\"tocSkip\"> </h2>\n",
    "\n",
    "<h3> Встроенные функции all() и any() <a class=\"tocSkip\"> </h3>\n",
    "\n",
    "Полезные функции, которые помогут узнать есть ли определенные значения в объекте.\n",
    "\n",
    "`all` возвращает **True**, если все объекты равны **True** или удовлетворяют условию\n",
    "\n",
    "![](https://i.ibb.co/NKs2yWq/image.png)\n",
    "\n",
    "`any` в свою очередь делает то же самое, но возвращает **True**,если хотя бы один равен **True**\n",
    "\n",
    "![](https://i.ibb.co/4tq8TmV/image.png)"
   ]
  },
  {
   "cell_type": "markdown",
   "metadata": {},
   "source": [
    "**Вывод**"
   ]
  },
  {
   "cell_type": "markdown",
   "metadata": {},
   "source": [
    "В целом, вероятность задержки выплаты растет с уровнем дохода клиента, за исключением клиентов с очень высоким доходом; вероятность задержки с их стороны ниже чем у клиентов из любой другой категории."
   ]
  },
  {
   "cell_type": "markdown",
   "metadata": {},
   "source": [
    "- Как разные цели кредита влияют на его возврат в срок?"
   ]
  },
  {
   "cell_type": "markdown",
   "metadata": {},
   "source": [
    "Визуально оценим статистику по цели кредита."
   ]
  },
  {
   "cell_type": "code",
   "execution_count": 34,
   "metadata": {},
   "outputs": [
    {
     "data": {
      "text/plain": [
       "недвижимость    10811\n",
       "автомобиль       4306\n",
       "образование      4013\n",
       "свадьба          2323\n",
       "Name: purpose, dtype: int64"
      ]
     },
     "execution_count": 34,
     "metadata": {},
     "output_type": "execute_result"
    }
   ],
   "source": [
    "df['purpose'].value_counts()"
   ]
  },
  {
   "cell_type": "markdown",
   "metadata": {},
   "source": [
    "Оценим зависимость между целью кредита и его возвратом в срок. Для этого в каждой категории посчитаем отношения клиентов, не вернувших кредит в срок, к общему количеству клиентов в этой категории."
   ]
  },
  {
   "cell_type": "code",
   "execution_count": 35,
   "metadata": {},
   "outputs": [
    {
     "name": "stdout",
     "output_type": "stream",
     "text": [
      "Доля клиентов, задержавших выплату, в зависимости от цели кредита\n",
      "\n",
      "Недвижимость 7.2%\n",
      "Автомобиль   9.4%\n",
      "Образование  9.2%\n",
      "Свадьба      8.0%\n"
     ]
    }
   ],
   "source": [
    "estate = df[df['purpose'] == 'недвижимость']['purpose'].count()\n",
    "estate_debt = df[(df['purpose'] == 'недвижимость') & (df['debt'] == 1)]['purpose'].count()\n",
    "conv_estate = estate_debt / estate\n",
    "\n",
    "vehicle = df[df['purpose'] == 'автомобиль']['purpose'].count()\n",
    "vehicle_debt = df[(df['purpose'] == 'автомобиль') & (df['debt'] == 1)]['purpose'].count()\n",
    "conv_vehicle = vehicle_debt / vehicle\n",
    "\n",
    "edu = df[df['purpose'] == 'образование']['purpose'].count()\n",
    "edu_debt = df[(df['purpose'] == 'образование') & (df['debt'] == 1)]['purpose'].count()\n",
    "conv_edu = edu_debt / edu\n",
    "\n",
    "wed = df[df['purpose'] == 'свадьба']['purpose'].count()\n",
    "wed_debt = df[(df['purpose'] == 'свадьба') & (df['debt'] == 1)]['purpose'].count()\n",
    "conv_wed = wed_debt / wed\n",
    "\n",
    "print('Доля клиентов, задержавших выплату, в зависимости от цели кредита')\n",
    "print()\n",
    "print('Недвижимость {:.1%}'.format(conv_estate))\n",
    "print('Автомобиль   {:.1%}'.format(conv_vehicle))\n",
    "print('Образование  {:.1%}'.format(conv_edu))\n",
    "print('Свадьба      {:.1%}'.format(conv_wed))"
   ]
  },
  {
   "cell_type": "markdown",
   "metadata": {},
   "source": [
    "**Вывод**"
   ]
  },
  {
   "cell_type": "markdown",
   "metadata": {},
   "source": [
    "Клиенты, собирающиеся преобрести недвижимость, самые дисциплинированные, на втором месте идут клиенты, планирующе свадьбу."
   ]
  },
  {
   "cell_type": "markdown",
   "metadata": {},
   "source": [
    "<font color = 'blue'>\n",
    "Раз уж мы разбили клиентов на категории по возрасту, нужно обязательно проверить кто из них самый дисциплинированный!    \n",
    "<font>"
   ]
  },
  {
   "cell_type": "code",
   "execution_count": 36,
   "metadata": {},
   "outputs": [
    {
     "data": {
      "text/plain": [
       "age_category\n",
       "взрослый     0.071146\n",
       "молодежь     0.106031\n",
       "пенсионер    0.049858\n",
       "Name: debt, dtype: float64"
      ]
     },
     "execution_count": 36,
     "metadata": {},
     "output_type": "execute_result"
    }
   ],
   "source": [
    "age_count = df.groupby('age_category')['debt'].count()\n",
    "debt_sums_age = df.groupby('age_category')['debt'].sum()\n",
    "conv_age = debt_sums_age / age_count\n",
    "conv_age"
   ]
  },
  {
   "cell_type": "markdown",
   "metadata": {},
   "source": [
    "**Вывод**"
   ]
  },
  {
   "cell_type": "markdown",
   "metadata": {},
   "source": [
    "<font color = 'blue'>\n",
    "Чем старше клиент, тем ниже вероятность просрочки выплаты кредита. Пенсионеры - самая дисциплинированная категория, из всех рассмотренных в нашем исследовании, и лидируют они с большим отрывом.\n",
    "<font>"
   ]
  },
  {
   "cell_type": "markdown",
   "metadata": {},
   "source": [
    "<a class=\"anchor\" id=\"4\"></a>\n",
    "## Шаг 4. Общий вывод"
   ]
  },
  {
   "cell_type": "markdown",
   "metadata": {},
   "source": [
    "В рамках нашего исследования мы провели предобработку данных:\n",
    "\n",
    "+ обработали пропуски;\n",
    "+ изменили тип данных там, где это требовалось;\n",
    "+ провели работу с дублированными данными;\n",
    "+ лемматизировали данные;\n",
    "+ разбили данные на категории, составили \"словарь\";\n",
    "\n",
    "Были получены ответы на вопросы исследования:\n",
    "\n",
    "1. Клиенты без детей реже задерживают выплату кредита.\n",
    "2. Клиенты, не состоящие в браке, либо состоящие в гражданском браке, задерживают выплату кредита чаще клиентов с другим семейным положением.\n",
    "3. Вероятность задержки выплаты растет с уровнем дохода клиента, за исключением клиентов с очень высоким доходом; вероятность задержки с их стороны ниже чем у клиентов из любой другой категории.\n",
    "4. Клиенты, собирающиеся приобрести недвижимость или сыграть свадьбу задерживают выплату кредита реже других.\n",
    "\n",
    "Для получения более точных результатов, рекомендуется исследовать зависимость своевременной выплаты кредита от возраста, образования и типа занятости."
   ]
  },
  {
   "cell_type": "markdown",
   "metadata": {},
   "source": [
    "<div class=\"alert alert-success\">\n",
    "<h2> Комментарий ревьюера <a class=\"tocSkip\"> </h2>\n",
    "\n",
    "Вывод хороший, мне нравится"
   ]
  },
  {
   "cell_type": "markdown",
   "metadata": {},
   "source": [
    "<div style=\"border:solid purple 2px; padding: 20px\"> \n",
    "\n",
    "У тебя получилась очень хорошая работа! Многие моменты сделаны просто прекрасно. Ты показываешь отличное владение изучаемым материалом: уверенно пользуешься pandas, умеешь подготавливать, очищать, обогощать данные. На протяжении всей работы чувствуется глубина проработки задачи и это безусловный плюс для нас.\n",
    "\n",
    "Остались небольшие доработки:\n",
    "\n",
    "- В шаге 3 необходимо получить результаты с помощью сводных таблиц\n",
    "\n",
    "Жду твоих исправлений, у тебя все получится 😊\n",
    "\n",
    "</div>"
   ]
  },
  {
   "cell_type": "markdown",
   "metadata": {},
   "source": [
    "<a class=\"anchor\" id=\"5\"></a>\n",
    "## Чек-лист готовности проекта\n",
    "\n",
    "Поставьте 'x' в выполненных пунктах. Далее нажмите Shift+Enter."
   ]
  },
  {
   "cell_type": "markdown",
   "metadata": {},
   "source": [
    "- [x]  открыт файл;\n",
    "- [x]  файл изучен;\n",
    "- [x]  определены пропущенные значения;\n",
    "- [x]  заполнены пропущенные значения;\n",
    "- [x]  есть пояснение, какие пропущенные значения обнаружены;\n",
    "- [x]  описаны возможные причины появления пропусков в данных;\n",
    "- [x]  объяснено, по какому принципу заполнены пропуски;\n",
    "- [x]  заменен вещественный тип данных на целочисленный;\n",
    "- [x]  есть пояснение, какой метод используется для изменения типа данных и почему;\n",
    "- [x]  удалены дубликаты;\n",
    "- [x]  есть пояснение, какой метод используется для поиска и удаления дубликатов;\n",
    "- [x]  описаны возможные причины появления дубликатов в данных;\n",
    "- [x]  выделены леммы в значениях столбца с целями получения кредита;\n",
    "- [x]  описан процесс лемматизации;\n",
    "- [x]  данные категоризированы;\n",
    "- [x]  есть объяснение принципа категоризации данных;\n",
    "- [x]  есть ответ на вопрос: \"Есть ли зависимость между наличием детей и возвратом кредита в срок?\";\n",
    "- [x]  есть ответ на вопрос: \"Есть ли зависимость между семейным положением и возвратом кредита в срок?\";\n",
    "- [x]  есть ответ на вопрос: \"Есть ли зависимость между уровнем дохода и возвратом кредита в срок?\";\n",
    "- [x]  есть ответ на вопрос: \"Как разные цели кредита влияют на его возврат в срок?\";\n",
    "- [x]  в каждом этапе есть выводы;\n",
    "- [x]  есть общий вывод."
   ]
  }
 ],
 "metadata": {
  "ExecuteTimeLog": [
   {
    "duration": 779,
    "start_time": "2021-07-15T20:03:59.203Z"
   },
   {
    "duration": 15,
    "start_time": "2021-07-15T20:06:01.911Z"
   },
   {
    "duration": 13,
    "start_time": "2021-07-15T20:29:10.810Z"
   },
   {
    "duration": 13,
    "start_time": "2021-07-15T20:49:19.869Z"
   },
   {
    "duration": 12,
    "start_time": "2021-07-15T20:49:49.475Z"
   },
   {
    "duration": 518,
    "start_time": "2021-07-15T21:06:18.543Z"
   },
   {
    "duration": 553,
    "start_time": "2021-07-15T21:08:05.246Z"
   },
   {
    "duration": 278,
    "start_time": "2021-07-15T21:08:21.133Z"
   },
   {
    "duration": 274,
    "start_time": "2021-07-15T21:08:28.380Z"
   },
   {
    "duration": 394,
    "start_time": "2021-07-15T21:08:46.058Z"
   },
   {
    "duration": 288,
    "start_time": "2021-07-15T21:10:56.173Z"
   },
   {
    "duration": 284,
    "start_time": "2021-07-15T21:11:08.727Z"
   },
   {
    "duration": 12,
    "start_time": "2021-07-15T21:14:47.292Z"
   },
   {
    "duration": 6464,
    "start_time": "2021-07-15T21:15:34.633Z"
   },
   {
    "duration": 353,
    "start_time": "2021-07-15T21:16:19.306Z"
   },
   {
    "duration": 306,
    "start_time": "2021-07-15T21:16:38.192Z"
   },
   {
    "duration": 4,
    "start_time": "2021-07-15T21:23:17.795Z"
   },
   {
    "duration": 32,
    "start_time": "2021-07-15T21:23:33.847Z"
   },
   {
    "duration": 18,
    "start_time": "2021-07-15T21:24:39.485Z"
   },
   {
    "duration": 5,
    "start_time": "2021-07-15T21:30:56.397Z"
   },
   {
    "duration": 6,
    "start_time": "2021-07-15T21:31:04.319Z"
   },
   {
    "duration": 260,
    "start_time": "2021-07-15T21:41:56.279Z"
   },
   {
    "duration": 296,
    "start_time": "2021-07-15T21:42:16.142Z"
   },
   {
    "duration": 12,
    "start_time": "2021-07-15T21:42:44.524Z"
   },
   {
    "duration": 8,
    "start_time": "2021-07-15T21:49:07.658Z"
   },
   {
    "duration": 16,
    "start_time": "2021-07-15T21:53:40.685Z"
   },
   {
    "duration": 7,
    "start_time": "2021-07-15T21:59:21.795Z"
   },
   {
    "duration": 8,
    "start_time": "2021-07-15T22:02:40.081Z"
   },
   {
    "duration": 17,
    "start_time": "2021-07-15T22:02:56.635Z"
   },
   {
    "duration": 73,
    "start_time": "2021-07-15T22:03:14.141Z"
   },
   {
    "duration": 13,
    "start_time": "2021-07-15T22:03:14.216Z"
   },
   {
    "duration": 32,
    "start_time": "2021-07-15T22:03:14.232Z"
   },
   {
    "duration": 20,
    "start_time": "2021-07-15T22:03:14.266Z"
   },
   {
    "duration": 17,
    "start_time": "2021-07-15T22:03:14.289Z"
   },
   {
    "duration": 4,
    "start_time": "2021-07-15T22:13:13.581Z"
   },
   {
    "duration": 5,
    "start_time": "2021-07-15T22:13:31.756Z"
   },
   {
    "duration": 4,
    "start_time": "2021-07-15T22:14:38.981Z"
   },
   {
    "duration": 5,
    "start_time": "2021-07-15T22:15:04.200Z"
   },
   {
    "duration": 6,
    "start_time": "2021-07-15T22:15:32.372Z"
   },
   {
    "duration": 5,
    "start_time": "2021-07-15T22:18:09.183Z"
   },
   {
    "duration": 5,
    "start_time": "2021-07-15T22:18:38.506Z"
   },
   {
    "duration": 5,
    "start_time": "2021-07-15T22:18:46.421Z"
   },
   {
    "duration": 276,
    "start_time": "2021-07-15T22:18:53.909Z"
   },
   {
    "duration": 5,
    "start_time": "2021-07-15T22:19:03.953Z"
   },
   {
    "duration": 6,
    "start_time": "2021-07-15T22:21:40.265Z"
   },
   {
    "duration": 279,
    "start_time": "2021-07-15T22:21:55.204Z"
   },
   {
    "duration": 5,
    "start_time": "2021-07-15T22:22:08.178Z"
   },
   {
    "duration": 5,
    "start_time": "2021-07-15T22:22:22.689Z"
   },
   {
    "duration": 5,
    "start_time": "2021-07-15T22:23:00.249Z"
   },
   {
    "duration": 5,
    "start_time": "2021-07-15T22:23:19.258Z"
   },
   {
    "duration": 6,
    "start_time": "2021-07-15T22:24:51.788Z"
   },
   {
    "duration": 274,
    "start_time": "2021-07-15T22:25:28.567Z"
   },
   {
    "duration": 6,
    "start_time": "2021-07-15T22:25:43.480Z"
   },
   {
    "duration": 6,
    "start_time": "2021-07-15T22:25:59.461Z"
   },
   {
    "duration": 5,
    "start_time": "2021-07-15T22:26:30.352Z"
   },
   {
    "duration": 106,
    "start_time": "2021-07-15T22:36:22.525Z"
   },
   {
    "duration": 24,
    "start_time": "2021-07-15T22:36:34.344Z"
   },
   {
    "duration": 12,
    "start_time": "2021-07-15T22:39:40.351Z"
   },
   {
    "duration": 79,
    "start_time": "2021-07-15T22:40:04.161Z"
   },
   {
    "duration": 14,
    "start_time": "2021-07-15T22:40:04.242Z"
   },
   {
    "duration": 12,
    "start_time": "2021-07-15T22:40:04.259Z"
   },
   {
    "duration": 22,
    "start_time": "2021-07-15T22:40:04.274Z"
   },
   {
    "duration": 56,
    "start_time": "2021-07-15T22:40:04.299Z"
   },
   {
    "duration": 18,
    "start_time": "2021-07-15T22:40:04.358Z"
   },
   {
    "duration": 4,
    "start_time": "2021-07-15T22:40:04.379Z"
   },
   {
    "duration": 14,
    "start_time": "2021-07-15T22:41:19.731Z"
   },
   {
    "duration": 73,
    "start_time": "2021-07-15T22:41:33.921Z"
   },
   {
    "duration": 13,
    "start_time": "2021-07-15T22:41:33.997Z"
   },
   {
    "duration": 11,
    "start_time": "2021-07-15T22:41:34.013Z"
   },
   {
    "duration": 50,
    "start_time": "2021-07-15T22:41:34.026Z"
   },
   {
    "duration": 17,
    "start_time": "2021-07-15T22:41:34.078Z"
   },
   {
    "duration": 20,
    "start_time": "2021-07-15T22:41:34.097Z"
   },
   {
    "duration": 4,
    "start_time": "2021-07-15T22:41:34.119Z"
   },
   {
    "duration": 77,
    "start_time": "2021-07-15T22:41:55.346Z"
   },
   {
    "duration": 13,
    "start_time": "2021-07-15T22:41:55.425Z"
   },
   {
    "duration": 13,
    "start_time": "2021-07-15T22:41:55.456Z"
   },
   {
    "duration": 20,
    "start_time": "2021-07-15T22:41:55.473Z"
   },
   {
    "duration": 24,
    "start_time": "2021-07-15T22:41:55.495Z"
   },
   {
    "duration": 45,
    "start_time": "2021-07-15T22:41:55.522Z"
   },
   {
    "duration": 4,
    "start_time": "2021-07-15T22:41:55.569Z"
   },
   {
    "duration": 4,
    "start_time": "2021-07-15T22:48:09.219Z"
   },
   {
    "duration": 4,
    "start_time": "2021-07-15T22:48:24.241Z"
   },
   {
    "duration": 4,
    "start_time": "2021-07-15T22:48:33.712Z"
   },
   {
    "duration": 73,
    "start_time": "2021-07-15T23:06:26.415Z"
   },
   {
    "duration": 15,
    "start_time": "2021-07-15T23:06:26.490Z"
   },
   {
    "duration": 11,
    "start_time": "2021-07-15T23:06:26.508Z"
   },
   {
    "duration": 47,
    "start_time": "2021-07-15T23:06:26.522Z"
   },
   {
    "duration": 18,
    "start_time": "2021-07-15T23:06:26.572Z"
   },
   {
    "duration": 21,
    "start_time": "2021-07-15T23:06:26.592Z"
   },
   {
    "duration": 5,
    "start_time": "2021-07-15T23:06:26.616Z"
   },
   {
    "duration": 626,
    "start_time": "2021-07-16T20:35:50.654Z"
   },
   {
    "duration": 10,
    "start_time": "2021-07-16T20:35:51.282Z"
   },
   {
    "duration": 8,
    "start_time": "2021-07-16T20:35:51.294Z"
   },
   {
    "duration": 15,
    "start_time": "2021-07-16T20:35:51.303Z"
   },
   {
    "duration": 11,
    "start_time": "2021-07-16T20:35:51.319Z"
   },
   {
    "duration": 13,
    "start_time": "2021-07-16T20:35:51.331Z"
   },
   {
    "duration": 2,
    "start_time": "2021-07-16T20:35:51.346Z"
   },
   {
    "duration": 15,
    "start_time": "2021-07-16T20:37:09.565Z"
   },
   {
    "duration": 4,
    "start_time": "2021-07-16T20:37:57.954Z"
   },
   {
    "duration": 12,
    "start_time": "2021-07-16T20:39:08.333Z"
   },
   {
    "duration": 10,
    "start_time": "2021-07-16T20:39:53.054Z"
   },
   {
    "duration": 13,
    "start_time": "2021-07-16T20:40:15.442Z"
   },
   {
    "duration": 10,
    "start_time": "2021-07-16T20:40:55.676Z"
   },
   {
    "duration": 12,
    "start_time": "2021-07-16T20:43:08.224Z"
   },
   {
    "duration": 251,
    "start_time": "2021-07-16T20:53:32.522Z"
   },
   {
    "duration": 10,
    "start_time": "2021-07-16T20:54:09.012Z"
   },
   {
    "duration": 20,
    "start_time": "2021-07-16T20:55:06.582Z"
   },
   {
    "duration": 179,
    "start_time": "2021-07-16T21:02:03.830Z"
   },
   {
    "duration": 17,
    "start_time": "2021-07-16T21:02:40.766Z"
   },
   {
    "duration": 31,
    "start_time": "2021-07-16T21:04:54.270Z"
   },
   {
    "duration": 30,
    "start_time": "2021-07-16T21:05:09.507Z"
   },
   {
    "duration": 193,
    "start_time": "2021-07-16T21:22:57.565Z"
   },
   {
    "duration": 180,
    "start_time": "2021-07-16T21:26:56.278Z"
   },
   {
    "duration": 4281,
    "start_time": "2021-07-16T21:27:16.861Z"
   },
   {
    "duration": 175,
    "start_time": "2021-07-16T21:30:45.115Z"
   },
   {
    "duration": 3,
    "start_time": "2021-07-16T21:35:52.654Z"
   },
   {
    "duration": 188,
    "start_time": "2021-07-16T21:43:56.317Z"
   },
   {
    "duration": 3291,
    "start_time": "2021-07-16T21:47:28.113Z"
   },
   {
    "duration": 3355,
    "start_time": "2021-07-16T21:47:51.035Z"
   },
   {
    "duration": 3326,
    "start_time": "2021-07-16T21:48:43.834Z"
   },
   {
    "duration": 3348,
    "start_time": "2021-07-16T21:49:20.439Z"
   },
   {
    "duration": 7192,
    "start_time": "2021-07-16T21:56:56.951Z"
   },
   {
    "duration": 4130,
    "start_time": "2021-07-16T21:57:25.457Z"
   },
   {
    "duration": 9,
    "start_time": "2021-07-16T22:11:27.575Z"
   },
   {
    "duration": 9,
    "start_time": "2021-07-16T22:12:22.050Z"
   },
   {
    "duration": 10,
    "start_time": "2021-07-16T22:22:29.800Z"
   },
   {
    "duration": 309,
    "start_time": "2021-07-16T22:46:10.492Z"
   },
   {
    "duration": 333,
    "start_time": "2021-07-16T22:46:36.969Z"
   },
   {
    "duration": 186,
    "start_time": "2021-07-16T22:48:27.232Z"
   },
   {
    "duration": 1506,
    "start_time": "2021-07-16T22:49:16.303Z"
   },
   {
    "duration": 1500,
    "start_time": "2021-07-16T22:51:51.896Z"
   },
   {
    "duration": 6783,
    "start_time": "2021-07-16T22:52:20.295Z"
   },
   {
    "duration": 5295,
    "start_time": "2021-07-16T22:53:01.752Z"
   },
   {
    "duration": 56,
    "start_time": "2021-07-16T22:53:40.942Z"
   },
   {
    "duration": 9,
    "start_time": "2021-07-16T22:53:41.000Z"
   },
   {
    "duration": 9,
    "start_time": "2021-07-16T22:53:41.011Z"
   },
   {
    "duration": 13,
    "start_time": "2021-07-16T22:53:41.026Z"
   },
   {
    "duration": 11,
    "start_time": "2021-07-16T22:53:41.055Z"
   },
   {
    "duration": 16,
    "start_time": "2021-07-16T22:53:41.078Z"
   },
   {
    "duration": 3,
    "start_time": "2021-07-16T22:53:41.096Z"
   },
   {
    "duration": 5,
    "start_time": "2021-07-16T22:53:41.101Z"
   },
   {
    "duration": 12,
    "start_time": "2021-07-16T22:53:41.167Z"
   },
   {
    "duration": 10,
    "start_time": "2021-07-16T22:53:41.276Z"
   },
   {
    "duration": 19,
    "start_time": "2021-07-16T22:53:41.321Z"
   },
   {
    "duration": 15,
    "start_time": "2021-07-16T22:53:41.367Z"
   },
   {
    "duration": 27,
    "start_time": "2021-07-16T22:53:41.406Z"
   },
   {
    "duration": 3322,
    "start_time": "2021-07-16T22:53:41.489Z"
   },
   {
    "duration": 9,
    "start_time": "2021-07-16T22:53:44.812Z"
   },
   {
    "duration": 6,
    "start_time": "2021-07-16T22:53:44.823Z"
   },
   {
    "duration": 68,
    "start_time": "2021-07-16T23:10:36.003Z"
   },
   {
    "duration": 171,
    "start_time": "2021-07-16T23:10:52.447Z"
   },
   {
    "duration": 178,
    "start_time": "2021-07-16T23:11:08.763Z"
   },
   {
    "duration": 4589,
    "start_time": "2021-07-16T23:16:11.277Z"
   },
   {
    "duration": 179,
    "start_time": "2021-07-16T23:17:23.242Z"
   },
   {
    "duration": 65,
    "start_time": "2021-07-16T23:21:38.422Z"
   },
   {
    "duration": 58,
    "start_time": "2021-07-16T23:22:14.155Z"
   },
   {
    "duration": 4357,
    "start_time": "2021-07-16T23:24:39.466Z"
   },
   {
    "duration": 4449,
    "start_time": "2021-07-16T23:24:54.268Z"
   },
   {
    "duration": 4373,
    "start_time": "2021-07-16T23:25:46.864Z"
   },
   {
    "duration": 60,
    "start_time": "2021-07-16T23:26:04.248Z"
   },
   {
    "duration": 10,
    "start_time": "2021-07-16T23:26:04.310Z"
   },
   {
    "duration": 8,
    "start_time": "2021-07-16T23:26:04.322Z"
   },
   {
    "duration": 14,
    "start_time": "2021-07-16T23:26:04.331Z"
   },
   {
    "duration": 11,
    "start_time": "2021-07-16T23:26:04.346Z"
   },
   {
    "duration": 14,
    "start_time": "2021-07-16T23:26:04.385Z"
   },
   {
    "duration": 3,
    "start_time": "2021-07-16T23:26:04.400Z"
   },
   {
    "duration": 5,
    "start_time": "2021-07-16T23:26:04.406Z"
   },
   {
    "duration": 11,
    "start_time": "2021-07-16T23:26:04.413Z"
   },
   {
    "duration": 9,
    "start_time": "2021-07-16T23:26:04.426Z"
   },
   {
    "duration": 49,
    "start_time": "2021-07-16T23:26:04.437Z"
   },
   {
    "duration": 24,
    "start_time": "2021-07-16T23:26:04.488Z"
   },
   {
    "duration": 31,
    "start_time": "2021-07-16T23:26:04.514Z"
   },
   {
    "duration": 3222,
    "start_time": "2021-07-16T23:26:04.547Z"
   },
   {
    "duration": 18,
    "start_time": "2021-07-16T23:26:07.772Z"
   },
   {
    "duration": 3735,
    "start_time": "2021-07-16T23:26:07.792Z"
   },
   {
    "duration": 3878,
    "start_time": "2021-07-16T23:27:01.853Z"
   },
   {
    "duration": 17708,
    "start_time": "2021-07-16T23:27:35.013Z"
   },
   {
    "duration": 65,
    "start_time": "2021-07-16T23:27:59.447Z"
   },
   {
    "duration": 10,
    "start_time": "2021-07-16T23:27:59.514Z"
   },
   {
    "duration": 9,
    "start_time": "2021-07-16T23:27:59.526Z"
   },
   {
    "duration": 13,
    "start_time": "2021-07-16T23:27:59.537Z"
   },
   {
    "duration": 39,
    "start_time": "2021-07-16T23:27:59.552Z"
   },
   {
    "duration": 13,
    "start_time": "2021-07-16T23:27:59.593Z"
   },
   {
    "duration": 3,
    "start_time": "2021-07-16T23:27:59.607Z"
   },
   {
    "duration": 4,
    "start_time": "2021-07-16T23:27:59.613Z"
   },
   {
    "duration": 11,
    "start_time": "2021-07-16T23:27:59.619Z"
   },
   {
    "duration": 10,
    "start_time": "2021-07-16T23:27:59.631Z"
   },
   {
    "duration": 54,
    "start_time": "2021-07-16T23:27:59.643Z"
   },
   {
    "duration": 16,
    "start_time": "2021-07-16T23:27:59.699Z"
   },
   {
    "duration": 28,
    "start_time": "2021-07-16T23:27:59.717Z"
   },
   {
    "duration": 3325,
    "start_time": "2021-07-16T23:27:59.746Z"
   },
   {
    "duration": 17,
    "start_time": "2021-07-16T23:28:03.072Z"
   },
   {
    "duration": 23676,
    "start_time": "2021-07-16T23:28:03.090Z"
   },
   {
    "duration": 99,
    "start_time": "2021-07-16T23:30:35.352Z"
   },
   {
    "duration": 82,
    "start_time": "2021-07-16T23:39:56.789Z"
   },
   {
    "duration": 201,
    "start_time": "2021-07-16T23:40:28.047Z"
   },
   {
    "duration": 234,
    "start_time": "2021-07-16T23:41:49.673Z"
   },
   {
    "duration": 199,
    "start_time": "2021-07-16T23:42:05.016Z"
   },
   {
    "duration": 218,
    "start_time": "2021-07-16T23:42:40.251Z"
   },
   {
    "duration": 4501,
    "start_time": "2021-07-16T23:42:56.370Z"
   },
   {
    "duration": 19772,
    "start_time": "2021-07-16T23:47:10.222Z"
   },
   {
    "duration": 63,
    "start_time": "2021-07-16T23:48:02.243Z"
   },
   {
    "duration": 10,
    "start_time": "2021-07-16T23:48:02.308Z"
   },
   {
    "duration": 9,
    "start_time": "2021-07-16T23:48:02.319Z"
   },
   {
    "duration": 14,
    "start_time": "2021-07-16T23:48:02.329Z"
   },
   {
    "duration": 41,
    "start_time": "2021-07-16T23:48:02.344Z"
   },
   {
    "duration": 13,
    "start_time": "2021-07-16T23:48:02.387Z"
   },
   {
    "duration": 3,
    "start_time": "2021-07-16T23:48:02.401Z"
   },
   {
    "duration": 6,
    "start_time": "2021-07-16T23:48:02.406Z"
   },
   {
    "duration": 13,
    "start_time": "2021-07-16T23:48:02.414Z"
   },
   {
    "duration": 9,
    "start_time": "2021-07-16T23:48:02.428Z"
   },
   {
    "duration": 47,
    "start_time": "2021-07-16T23:48:02.439Z"
   },
   {
    "duration": 16,
    "start_time": "2021-07-16T23:48:02.488Z"
   },
   {
    "duration": 26,
    "start_time": "2021-07-16T23:48:02.505Z"
   },
   {
    "duration": 3212,
    "start_time": "2021-07-16T23:48:02.532Z"
   },
   {
    "duration": 9,
    "start_time": "2021-07-16T23:48:05.746Z"
   },
   {
    "duration": 12500,
    "start_time": "2021-07-16T23:48:05.757Z"
   },
   {
    "duration": 11919,
    "start_time": "2021-07-16T23:48:41.064Z"
   },
   {
    "duration": 820,
    "start_time": "2021-07-17T19:32:14.431Z"
   },
   {
    "duration": 15,
    "start_time": "2021-07-17T19:32:15.253Z"
   },
   {
    "duration": 12,
    "start_time": "2021-07-17T19:32:15.271Z"
   },
   {
    "duration": 19,
    "start_time": "2021-07-17T19:32:15.286Z"
   },
   {
    "duration": 34,
    "start_time": "2021-07-17T19:32:15.308Z"
   },
   {
    "duration": 20,
    "start_time": "2021-07-17T19:32:15.344Z"
   },
   {
    "duration": 8,
    "start_time": "2021-07-17T19:32:15.366Z"
   },
   {
    "duration": 6,
    "start_time": "2021-07-17T19:32:15.377Z"
   },
   {
    "duration": 12,
    "start_time": "2021-07-17T19:32:15.386Z"
   },
   {
    "duration": 46,
    "start_time": "2021-07-17T19:32:15.400Z"
   },
   {
    "duration": 27,
    "start_time": "2021-07-17T19:32:15.448Z"
   },
   {
    "duration": 18,
    "start_time": "2021-07-17T19:32:15.477Z"
   },
   {
    "duration": 45,
    "start_time": "2021-07-17T19:32:15.496Z"
   },
   {
    "duration": 3415,
    "start_time": "2021-07-17T19:32:15.543Z"
   },
   {
    "duration": 11,
    "start_time": "2021-07-17T19:32:18.960Z"
   },
   {
    "duration": 12429,
    "start_time": "2021-07-17T19:32:18.973Z"
   },
   {
    "duration": 22,
    "start_time": "2021-07-17T20:18:16.133Z"
   },
   {
    "duration": 9,
    "start_time": "2021-07-17T20:22:38.857Z"
   },
   {
    "duration": 10,
    "start_time": "2021-07-17T20:22:52.463Z"
   },
   {
    "duration": 6,
    "start_time": "2021-07-17T20:24:35.531Z"
   },
   {
    "duration": 8,
    "start_time": "2021-07-17T20:24:44.357Z"
   },
   {
    "duration": 315,
    "start_time": "2021-07-17T20:25:35.580Z"
   },
   {
    "duration": 8,
    "start_time": "2021-07-17T20:25:56.170Z"
   },
   {
    "duration": 18,
    "start_time": "2021-07-17T20:26:05.605Z"
   },
   {
    "duration": 5,
    "start_time": "2021-07-17T20:28:48.164Z"
   },
   {
    "duration": 7,
    "start_time": "2021-07-17T20:28:54.567Z"
   },
   {
    "duration": 7,
    "start_time": "2021-07-17T20:30:01.332Z"
   },
   {
    "duration": 8,
    "start_time": "2021-07-17T20:30:10.891Z"
   },
   {
    "duration": 9,
    "start_time": "2021-07-17T20:31:18.241Z"
   },
   {
    "duration": 9,
    "start_time": "2021-07-17T20:31:50.356Z"
   },
   {
    "duration": 10,
    "start_time": "2021-07-17T20:32:21.606Z"
   },
   {
    "duration": 9,
    "start_time": "2021-07-17T20:34:31.869Z"
   },
   {
    "duration": 8,
    "start_time": "2021-07-17T20:34:41.862Z"
   },
   {
    "duration": 10,
    "start_time": "2021-07-17T20:44:57.944Z"
   },
   {
    "duration": 4,
    "start_time": "2021-07-17T20:46:47.359Z"
   },
   {
    "duration": 4,
    "start_time": "2021-07-17T20:47:00.375Z"
   },
   {
    "duration": 4,
    "start_time": "2021-07-17T20:47:04.869Z"
   },
   {
    "duration": 4,
    "start_time": "2021-07-17T20:47:14.165Z"
   },
   {
    "duration": 4,
    "start_time": "2021-07-17T20:47:19.645Z"
   },
   {
    "duration": 24,
    "start_time": "2021-07-17T20:50:41.458Z"
   },
   {
    "duration": 22572,
    "start_time": "2021-07-17T21:10:46.732Z"
   },
   {
    "duration": 17235,
    "start_time": "2021-07-17T21:11:35.157Z"
   },
   {
    "duration": 17989,
    "start_time": "2021-07-17T21:13:24.400Z"
   },
   {
    "duration": 17056,
    "start_time": "2021-07-17T21:17:20.588Z"
   },
   {
    "duration": 120,
    "start_time": "2021-07-17T21:19:24.567Z"
   },
   {
    "duration": 56,
    "start_time": "2021-07-17T21:20:07.352Z"
   },
   {
    "duration": 11,
    "start_time": "2021-07-17T21:20:07.411Z"
   },
   {
    "duration": 10,
    "start_time": "2021-07-17T21:20:07.424Z"
   },
   {
    "duration": 14,
    "start_time": "2021-07-17T21:20:07.441Z"
   },
   {
    "duration": 14,
    "start_time": "2021-07-17T21:20:07.457Z"
   },
   {
    "duration": 14,
    "start_time": "2021-07-17T21:20:07.473Z"
   },
   {
    "duration": 4,
    "start_time": "2021-07-17T21:20:07.489Z"
   },
   {
    "duration": 7,
    "start_time": "2021-07-17T21:20:07.495Z"
   },
   {
    "duration": 53,
    "start_time": "2021-07-17T21:20:07.503Z"
   },
   {
    "duration": 11,
    "start_time": "2021-07-17T21:20:07.557Z"
   },
   {
    "duration": 23,
    "start_time": "2021-07-17T21:20:07.570Z"
   },
   {
    "duration": 49,
    "start_time": "2021-07-17T21:20:07.595Z"
   },
   {
    "duration": 42,
    "start_time": "2021-07-17T21:20:07.646Z"
   },
   {
    "duration": 3611,
    "start_time": "2021-07-17T21:20:07.692Z"
   },
   {
    "duration": 14,
    "start_time": "2021-07-17T21:20:11.305Z"
   },
   {
    "duration": 50,
    "start_time": "2021-07-17T21:20:11.321Z"
   },
   {
    "duration": 9,
    "start_time": "2021-07-17T21:20:11.373Z"
   },
   {
    "duration": 97,
    "start_time": "2021-07-17T21:20:11.384Z"
   },
   {
    "duration": 26319,
    "start_time": "2021-07-17T21:20:23.753Z"
   },
   {
    "duration": 93,
    "start_time": "2021-07-17T21:22:09.780Z"
   },
   {
    "duration": 17515,
    "start_time": "2021-07-17T21:22:37.413Z"
   },
   {
    "duration": 17019,
    "start_time": "2021-07-17T21:23:16.248Z"
   },
   {
    "duration": 16954,
    "start_time": "2021-07-17T21:26:35.127Z"
   },
   {
    "duration": 4,
    "start_time": "2021-07-17T21:36:10.945Z"
   },
   {
    "duration": 10,
    "start_time": "2021-07-17T21:36:21.957Z"
   },
   {
    "duration": 6200,
    "start_time": "2021-07-17T21:36:38.575Z"
   },
   {
    "duration": 16,
    "start_time": "2021-07-17T21:37:36.658Z"
   },
   {
    "duration": 17711,
    "start_time": "2021-07-17T22:06:52.132Z"
   },
   {
    "duration": 279,
    "start_time": "2021-07-17T22:08:11.672Z"
   },
   {
    "duration": 21702,
    "start_time": "2021-07-17T22:08:34.000Z"
   },
   {
    "duration": 102,
    "start_time": "2021-07-17T22:10:10.965Z"
   },
   {
    "duration": 85,
    "start_time": "2021-07-17T22:10:56.185Z"
   },
   {
    "duration": 17886,
    "start_time": "2021-07-17T22:11:08.378Z"
   },
   {
    "duration": 17901,
    "start_time": "2021-07-17T22:11:37.824Z"
   },
   {
    "duration": 277,
    "start_time": "2021-07-17T22:13:46.912Z"
   },
   {
    "duration": 17069,
    "start_time": "2021-07-17T22:13:59.572Z"
   },
   {
    "duration": 18435,
    "start_time": "2021-07-17T22:14:34.683Z"
   },
   {
    "duration": 18195,
    "start_time": "2021-07-17T22:15:05.609Z"
   },
   {
    "duration": 17893,
    "start_time": "2021-07-17T22:15:50.642Z"
   },
   {
    "duration": 9,
    "start_time": "2021-07-17T22:16:08.537Z"
   },
   {
    "duration": 11,
    "start_time": "2021-07-17T22:16:28.337Z"
   },
   {
    "duration": 58,
    "start_time": "2021-07-17T22:25:50.775Z"
   },
   {
    "duration": 11,
    "start_time": "2021-07-17T22:25:50.835Z"
   },
   {
    "duration": 9,
    "start_time": "2021-07-17T22:25:50.849Z"
   },
   {
    "duration": 15,
    "start_time": "2021-07-17T22:25:50.860Z"
   },
   {
    "duration": 12,
    "start_time": "2021-07-17T22:25:50.876Z"
   },
   {
    "duration": 16,
    "start_time": "2021-07-17T22:25:50.890Z"
   },
   {
    "duration": 4,
    "start_time": "2021-07-17T22:25:50.941Z"
   },
   {
    "duration": 10,
    "start_time": "2021-07-17T22:25:50.947Z"
   },
   {
    "duration": 13,
    "start_time": "2021-07-17T22:25:50.959Z"
   },
   {
    "duration": 10,
    "start_time": "2021-07-17T22:25:50.974Z"
   },
   {
    "duration": 22,
    "start_time": "2021-07-17T22:25:50.985Z"
   },
   {
    "duration": 47,
    "start_time": "2021-07-17T22:25:51.009Z"
   },
   {
    "duration": 29,
    "start_time": "2021-07-17T22:25:51.058Z"
   },
   {
    "duration": 3715,
    "start_time": "2021-07-17T22:25:51.089Z"
   },
   {
    "duration": 9,
    "start_time": "2021-07-17T22:25:54.806Z"
   },
   {
    "duration": 38,
    "start_time": "2021-07-17T22:25:54.816Z"
   },
   {
    "duration": 13,
    "start_time": "2021-07-17T22:25:54.856Z"
   },
   {
    "duration": 476,
    "start_time": "2021-07-18T19:46:59.834Z"
   },
   {
    "duration": 746,
    "start_time": "2021-07-18T19:47:10.698Z"
   },
   {
    "duration": 14,
    "start_time": "2021-07-18T19:47:11.446Z"
   },
   {
    "duration": 11,
    "start_time": "2021-07-18T19:47:11.462Z"
   },
   {
    "duration": 26,
    "start_time": "2021-07-18T19:47:11.476Z"
   },
   {
    "duration": 17,
    "start_time": "2021-07-18T19:47:11.505Z"
   },
   {
    "duration": 47,
    "start_time": "2021-07-18T19:47:11.524Z"
   },
   {
    "duration": 4,
    "start_time": "2021-07-18T19:47:11.574Z"
   },
   {
    "duration": 6,
    "start_time": "2021-07-18T19:47:11.582Z"
   },
   {
    "duration": 16,
    "start_time": "2021-07-18T19:47:11.591Z"
   },
   {
    "duration": 53,
    "start_time": "2021-07-18T19:47:11.609Z"
   },
   {
    "duration": 28,
    "start_time": "2021-07-18T19:47:11.664Z"
   },
   {
    "duration": 23,
    "start_time": "2021-07-18T19:47:11.695Z"
   },
   {
    "duration": 73,
    "start_time": "2021-07-18T19:47:11.720Z"
   },
   {
    "duration": 4368,
    "start_time": "2021-07-18T19:47:11.796Z"
   },
   {
    "duration": 12,
    "start_time": "2021-07-18T19:47:16.167Z"
   },
   {
    "duration": 37,
    "start_time": "2021-07-18T19:47:16.182Z"
   },
   {
    "duration": 42,
    "start_time": "2021-07-18T19:47:16.221Z"
   },
   {
    "duration": 32573,
    "start_time": "2021-07-18T19:47:16.266Z"
   },
   {
    "duration": 28,
    "start_time": "2021-07-18T19:47:48.842Z"
   },
   {
    "duration": 7,
    "start_time": "2021-07-18T19:47:48.883Z"
   },
   {
    "duration": 4,
    "start_time": "2021-07-18T20:02:17.132Z"
   },
   {
    "duration": 6,
    "start_time": "2021-07-18T20:02:26.625Z"
   },
   {
    "duration": 6,
    "start_time": "2021-07-18T20:03:24.128Z"
   },
   {
    "duration": 13,
    "start_time": "2021-07-18T20:06:24.259Z"
   },
   {
    "duration": 14,
    "start_time": "2021-07-18T20:07:04.837Z"
   },
   {
    "duration": 12,
    "start_time": "2021-07-18T20:07:57.991Z"
   },
   {
    "duration": 12,
    "start_time": "2021-07-18T20:09:50.100Z"
   },
   {
    "duration": 13,
    "start_time": "2021-07-18T20:10:28.624Z"
   },
   {
    "duration": 13,
    "start_time": "2021-07-18T20:15:14.549Z"
   },
   {
    "duration": 19,
    "start_time": "2021-07-18T20:15:24.988Z"
   },
   {
    "duration": 13,
    "start_time": "2021-07-18T20:24:07.848Z"
   },
   {
    "duration": 15,
    "start_time": "2021-07-18T20:24:16.370Z"
   },
   {
    "duration": 10,
    "start_time": "2021-07-18T20:24:42.019Z"
   },
   {
    "duration": 9,
    "start_time": "2021-07-18T20:24:55.335Z"
   },
   {
    "duration": 6110,
    "start_time": "2021-07-18T20:27:15.763Z"
   },
   {
    "duration": 12,
    "start_time": "2021-07-18T20:28:08.219Z"
   },
   {
    "duration": 14,
    "start_time": "2021-07-18T20:28:16.560Z"
   },
   {
    "duration": 15,
    "start_time": "2021-07-18T20:29:20.723Z"
   },
   {
    "duration": 429,
    "start_time": "2021-07-18T20:35:32.182Z"
   },
   {
    "duration": 292,
    "start_time": "2021-07-18T20:35:46.115Z"
   },
   {
    "duration": 315,
    "start_time": "2021-07-18T20:36:34.433Z"
   },
   {
    "duration": 27,
    "start_time": "2021-07-18T20:40:36.685Z"
   },
   {
    "duration": 25,
    "start_time": "2021-07-18T20:41:33.936Z"
   },
   {
    "duration": 26,
    "start_time": "2021-07-18T20:42:55.300Z"
   },
   {
    "duration": 27,
    "start_time": "2021-07-18T20:44:54.751Z"
   },
   {
    "duration": 29,
    "start_time": "2021-07-18T20:46:45.330Z"
   },
   {
    "duration": 10,
    "start_time": "2021-07-18T21:06:19.437Z"
   },
   {
    "duration": 9,
    "start_time": "2021-07-18T21:07:59.347Z"
   },
   {
    "duration": 13,
    "start_time": "2021-07-18T21:12:45.605Z"
   },
   {
    "duration": 14,
    "start_time": "2021-07-18T21:14:30.937Z"
   },
   {
    "duration": 295,
    "start_time": "2021-07-18T21:29:36.224Z"
   },
   {
    "duration": 34,
    "start_time": "2021-07-18T21:33:44.053Z"
   },
   {
    "duration": 33,
    "start_time": "2021-07-18T21:34:55.624Z"
   },
   {
    "duration": 32,
    "start_time": "2021-07-18T21:35:15.107Z"
   },
   {
    "duration": 32,
    "start_time": "2021-07-18T21:35:40.415Z"
   },
   {
    "duration": 36,
    "start_time": "2021-07-18T21:36:30.956Z"
   },
   {
    "duration": 42,
    "start_time": "2021-07-18T21:38:23.655Z"
   },
   {
    "duration": 34,
    "start_time": "2021-07-18T21:38:39.364Z"
   },
   {
    "duration": 10,
    "start_time": "2021-07-18T21:45:09.454Z"
   },
   {
    "duration": 25,
    "start_time": "2021-07-18T21:48:05.623Z"
   },
   {
    "duration": 32,
    "start_time": "2021-07-18T21:49:38.848Z"
   },
   {
    "duration": 32,
    "start_time": "2021-07-18T21:49:50.413Z"
   },
   {
    "duration": 35,
    "start_time": "2021-07-18T21:50:12.589Z"
   },
   {
    "duration": 31,
    "start_time": "2021-07-18T21:54:08.578Z"
   },
   {
    "duration": 17,
    "start_time": "2021-07-18T22:06:24.084Z"
   },
   {
    "duration": 46,
    "start_time": "2021-07-18T22:06:40.768Z"
   },
   {
    "duration": 82,
    "start_time": "2021-07-18T22:06:50.660Z"
   },
   {
    "duration": 45,
    "start_time": "2021-07-18T22:06:59.457Z"
   },
   {
    "duration": 46,
    "start_time": "2021-07-18T22:07:03.454Z"
   },
   {
    "duration": 46,
    "start_time": "2021-07-18T22:07:10.967Z"
   },
   {
    "duration": 45,
    "start_time": "2021-07-18T22:07:15.872Z"
   },
   {
    "duration": 46,
    "start_time": "2021-07-18T22:07:25.978Z"
   },
   {
    "duration": 46,
    "start_time": "2021-07-18T22:07:32.266Z"
   },
   {
    "duration": 75,
    "start_time": "2021-07-18T22:08:13.103Z"
   },
   {
    "duration": 14,
    "start_time": "2021-07-18T22:08:13.181Z"
   },
   {
    "duration": 12,
    "start_time": "2021-07-18T22:08:13.198Z"
   },
   {
    "duration": 48,
    "start_time": "2021-07-18T22:08:13.213Z"
   },
   {
    "duration": 18,
    "start_time": "2021-07-18T22:08:13.264Z"
   },
   {
    "duration": 19,
    "start_time": "2021-07-18T22:08:13.284Z"
   },
   {
    "duration": 5,
    "start_time": "2021-07-18T22:08:13.305Z"
   },
   {
    "duration": 9,
    "start_time": "2021-07-18T22:08:13.356Z"
   },
   {
    "duration": 24,
    "start_time": "2021-07-18T22:08:13.369Z"
   },
   {
    "duration": 27,
    "start_time": "2021-07-18T22:08:13.396Z"
   },
   {
    "duration": 45,
    "start_time": "2021-07-18T22:08:13.457Z"
   },
   {
    "duration": 57,
    "start_time": "2021-07-18T22:08:13.505Z"
   },
   {
    "duration": 60,
    "start_time": "2021-07-18T22:08:13.565Z"
   },
   {
    "duration": 4650,
    "start_time": "2021-07-18T22:08:13.628Z"
   },
   {
    "duration": 13,
    "start_time": "2021-07-18T22:08:18.280Z"
   },
   {
    "duration": 66,
    "start_time": "2021-07-18T22:08:18.295Z"
   },
   {
    "duration": 13,
    "start_time": "2021-07-18T22:08:18.364Z"
   },
   {
    "duration": 33627,
    "start_time": "2021-07-18T22:08:18.379Z"
   },
   {
    "duration": 18,
    "start_time": "2021-07-18T22:08:52.009Z"
   },
   {
    "duration": 34,
    "start_time": "2021-07-18T22:08:52.030Z"
   },
   {
    "duration": 24,
    "start_time": "2021-07-18T22:08:52.067Z"
   },
   {
    "duration": 78,
    "start_time": "2021-07-18T22:08:52.096Z"
   },
   {
    "duration": 13,
    "start_time": "2021-07-18T22:08:52.178Z"
   },
   {
    "duration": 12,
    "start_time": "2021-07-18T22:08:52.194Z"
   },
   {
    "duration": 71,
    "start_time": "2021-07-18T22:08:52.209Z"
   },
   {
    "duration": 32,
    "start_time": "2021-07-18T22:08:52.283Z"
   },
   {
    "duration": 35,
    "start_time": "2021-07-18T22:10:30.984Z"
   },
   {
    "duration": 36,
    "start_time": "2021-07-18T22:10:35.905Z"
   },
   {
    "duration": 36,
    "start_time": "2021-07-18T22:10:54.491Z"
   },
   {
    "duration": 35,
    "start_time": "2021-07-18T22:10:57.354Z"
   },
   {
    "duration": 37,
    "start_time": "2021-07-18T22:11:01.441Z"
   },
   {
    "duration": 53,
    "start_time": "2021-07-18T22:11:13.189Z"
   },
   {
    "duration": 55,
    "start_time": "2021-07-18T22:11:17.277Z"
   },
   {
    "duration": 37,
    "start_time": "2021-07-18T22:11:21.035Z"
   },
   {
    "duration": 51,
    "start_time": "2021-07-18T22:11:26.955Z"
   },
   {
    "duration": 57,
    "start_time": "2021-07-18T22:11:30.140Z"
   },
   {
    "duration": 52,
    "start_time": "2021-07-18T22:11:42.851Z"
   },
   {
    "duration": 38,
    "start_time": "2021-07-18T22:12:41.870Z"
   },
   {
    "duration": 39,
    "start_time": "2021-07-18T22:13:21.188Z"
   },
   {
    "duration": 38,
    "start_time": "2021-07-18T22:13:27.430Z"
   },
   {
    "duration": 41,
    "start_time": "2021-07-18T22:13:33.051Z"
   },
   {
    "duration": 39,
    "start_time": "2021-07-18T22:13:35.413Z"
   },
   {
    "duration": 46,
    "start_time": "2021-07-18T22:13:47.239Z"
   },
   {
    "duration": 40,
    "start_time": "2021-07-18T22:16:11.035Z"
   },
   {
    "duration": 39,
    "start_time": "2021-07-18T22:16:19.109Z"
   },
   {
    "duration": 38,
    "start_time": "2021-07-18T22:16:51.521Z"
   },
   {
    "duration": 39,
    "start_time": "2021-07-18T22:16:57.812Z"
   },
   {
    "duration": 12,
    "start_time": "2021-07-18T22:18:40.662Z"
   },
   {
    "duration": 20,
    "start_time": "2021-07-18T22:19:00.433Z"
   },
   {
    "duration": 14,
    "start_time": "2021-07-18T22:19:52.856Z"
   },
   {
    "duration": 3315,
    "start_time": "2021-07-18T22:21:29.125Z"
   },
   {
    "duration": 17,
    "start_time": "2021-07-18T22:22:52.868Z"
   },
   {
    "duration": 29,
    "start_time": "2021-07-18T22:29:00.827Z"
   },
   {
    "duration": 40,
    "start_time": "2021-07-18T22:32:37.450Z"
   },
   {
    "duration": 39,
    "start_time": "2021-07-18T22:32:46.818Z"
   },
   {
    "duration": 51,
    "start_time": "2021-07-18T22:33:03.377Z"
   },
   {
    "duration": 284,
    "start_time": "2021-07-18T22:36:07.339Z"
   },
   {
    "duration": 10,
    "start_time": "2021-07-18T22:37:02.410Z"
   },
   {
    "duration": 17,
    "start_time": "2021-07-18T22:41:16.627Z"
   },
   {
    "duration": 37,
    "start_time": "2021-07-18T22:46:09.943Z"
   },
   {
    "duration": 40,
    "start_time": "2021-07-18T22:51:07.384Z"
   },
   {
    "duration": 77,
    "start_time": "2021-07-18T22:57:22.722Z"
   },
   {
    "duration": 14,
    "start_time": "2021-07-18T22:57:22.801Z"
   },
   {
    "duration": 46,
    "start_time": "2021-07-18T22:57:22.818Z"
   },
   {
    "duration": 22,
    "start_time": "2021-07-18T22:57:22.867Z"
   },
   {
    "duration": 19,
    "start_time": "2021-07-18T22:57:22.892Z"
   },
   {
    "duration": 52,
    "start_time": "2021-07-18T22:57:22.913Z"
   },
   {
    "duration": 6,
    "start_time": "2021-07-18T22:57:22.968Z"
   },
   {
    "duration": 11,
    "start_time": "2021-07-18T22:57:22.980Z"
   },
   {
    "duration": 20,
    "start_time": "2021-07-18T22:57:22.994Z"
   },
   {
    "duration": 52,
    "start_time": "2021-07-18T22:57:23.016Z"
   },
   {
    "duration": 26,
    "start_time": "2021-07-18T22:57:23.071Z"
   },
   {
    "duration": 31,
    "start_time": "2021-07-18T22:57:23.099Z"
   },
   {
    "duration": 57,
    "start_time": "2021-07-18T22:57:23.133Z"
   },
   {
    "duration": 4268,
    "start_time": "2021-07-18T22:57:23.192Z"
   },
   {
    "duration": 12,
    "start_time": "2021-07-18T22:57:27.463Z"
   },
   {
    "duration": 44,
    "start_time": "2021-07-18T22:57:27.477Z"
   },
   {
    "duration": 37,
    "start_time": "2021-07-18T22:57:27.524Z"
   },
   {
    "duration": 32182,
    "start_time": "2021-07-18T22:57:27.563Z"
   },
   {
    "duration": 17,
    "start_time": "2021-07-18T22:57:59.747Z"
   },
   {
    "duration": 7,
    "start_time": "2021-07-18T22:57:59.767Z"
   },
   {
    "duration": 17,
    "start_time": "2021-07-18T22:57:59.776Z"
   },
   {
    "duration": 65,
    "start_time": "2021-07-18T22:57:59.795Z"
   },
   {
    "duration": 9,
    "start_time": "2021-07-18T22:57:59.864Z"
   },
   {
    "duration": 10,
    "start_time": "2021-07-18T22:57:59.876Z"
   },
   {
    "duration": 35,
    "start_time": "2021-07-18T22:57:59.888Z"
   },
   {
    "duration": 38,
    "start_time": "2021-07-18T22:57:59.957Z"
   },
   {
    "duration": 9,
    "start_time": "2021-07-18T22:57:59.998Z"
   },
   {
    "duration": 70,
    "start_time": "2021-07-18T22:58:00.009Z"
   },
   {
    "duration": 75,
    "start_time": "2021-07-18T23:03:19.407Z"
   },
   {
    "duration": 15,
    "start_time": "2021-07-18T23:03:19.486Z"
   },
   {
    "duration": 12,
    "start_time": "2021-07-18T23:03:19.505Z"
   },
   {
    "duration": 21,
    "start_time": "2021-07-18T23:03:19.555Z"
   },
   {
    "duration": 16,
    "start_time": "2021-07-18T23:03:19.578Z"
   },
   {
    "duration": 22,
    "start_time": "2021-07-18T23:03:19.596Z"
   },
   {
    "duration": 38,
    "start_time": "2021-07-18T23:03:19.620Z"
   },
   {
    "duration": 8,
    "start_time": "2021-07-18T23:03:19.661Z"
   },
   {
    "duration": 22,
    "start_time": "2021-07-18T23:03:19.672Z"
   },
   {
    "duration": 15,
    "start_time": "2021-07-18T23:03:19.696Z"
   },
   {
    "duration": 54,
    "start_time": "2021-07-18T23:03:19.713Z"
   },
   {
    "duration": 30,
    "start_time": "2021-07-18T23:03:19.769Z"
   },
   {
    "duration": 56,
    "start_time": "2021-07-18T23:03:19.801Z"
   },
   {
    "duration": 4225,
    "start_time": "2021-07-18T23:03:19.859Z"
   },
   {
    "duration": 11,
    "start_time": "2021-07-18T23:03:24.087Z"
   },
   {
    "duration": 61,
    "start_time": "2021-07-18T23:03:24.101Z"
   },
   {
    "duration": 12,
    "start_time": "2021-07-18T23:03:24.164Z"
   },
   {
    "duration": 31913,
    "start_time": "2021-07-18T23:03:24.178Z"
   },
   {
    "duration": 14,
    "start_time": "2021-07-18T23:03:56.094Z"
   },
   {
    "duration": 7,
    "start_time": "2021-07-18T23:03:56.111Z"
   },
   {
    "duration": 48,
    "start_time": "2021-07-18T23:03:56.120Z"
   },
   {
    "duration": 27,
    "start_time": "2021-07-18T23:03:56.170Z"
   },
   {
    "duration": 8,
    "start_time": "2021-07-18T23:03:56.202Z"
   },
   {
    "duration": 44,
    "start_time": "2021-07-18T23:03:56.213Z"
   },
   {
    "duration": 39,
    "start_time": "2021-07-18T23:03:56.259Z"
   },
   {
    "duration": 60,
    "start_time": "2021-07-18T23:03:56.301Z"
   },
   {
    "duration": 9,
    "start_time": "2021-07-18T23:03:56.363Z"
   },
   {
    "duration": 39,
    "start_time": "2021-07-18T23:03:56.374Z"
   },
   {
    "duration": 42,
    "start_time": "2021-07-18T23:06:12.158Z"
   },
   {
    "duration": 54,
    "start_time": "2021-07-18T23:08:18.607Z"
   },
   {
    "duration": 44,
    "start_time": "2021-07-18T23:08:50.145Z"
   },
   {
    "duration": 666,
    "start_time": "2021-07-19T20:31:28.906Z"
   },
   {
    "duration": 10,
    "start_time": "2021-07-19T20:31:29.574Z"
   },
   {
    "duration": 8,
    "start_time": "2021-07-19T20:31:29.587Z"
   },
   {
    "duration": 14,
    "start_time": "2021-07-19T20:31:29.597Z"
   },
   {
    "duration": 37,
    "start_time": "2021-07-19T20:31:29.612Z"
   },
   {
    "duration": 20,
    "start_time": "2021-07-19T20:31:29.650Z"
   },
   {
    "duration": 4,
    "start_time": "2021-07-19T20:31:29.672Z"
   },
   {
    "duration": 7,
    "start_time": "2021-07-19T20:31:29.678Z"
   },
   {
    "duration": 20,
    "start_time": "2021-07-19T20:31:29.687Z"
   },
   {
    "duration": 34,
    "start_time": "2021-07-19T20:31:29.710Z"
   },
   {
    "duration": 18,
    "start_time": "2021-07-19T20:31:29.746Z"
   },
   {
    "duration": 18,
    "start_time": "2021-07-19T20:31:29.765Z"
   },
   {
    "duration": 27,
    "start_time": "2021-07-19T20:31:29.785Z"
   },
   {
    "duration": 3687,
    "start_time": "2021-07-19T20:31:29.813Z"
   },
   {
    "duration": 8,
    "start_time": "2021-07-19T20:31:33.502Z"
   },
   {
    "duration": 41,
    "start_time": "2021-07-19T20:31:33.512Z"
   },
   {
    "duration": 10,
    "start_time": "2021-07-19T20:31:33.554Z"
   },
   {
    "duration": 22449,
    "start_time": "2021-07-19T20:31:33.565Z"
   },
   {
    "duration": 10,
    "start_time": "2021-07-19T20:31:56.016Z"
   },
   {
    "duration": 17,
    "start_time": "2021-07-19T20:31:56.028Z"
   },
   {
    "duration": 18,
    "start_time": "2021-07-19T20:31:56.046Z"
   },
   {
    "duration": 17,
    "start_time": "2021-07-19T20:31:56.066Z"
   },
   {
    "duration": 20,
    "start_time": "2021-07-19T20:31:56.085Z"
   },
   {
    "duration": 19,
    "start_time": "2021-07-19T20:31:56.106Z"
   },
   {
    "duration": 30,
    "start_time": "2021-07-19T20:31:56.127Z"
   },
   {
    "duration": 26,
    "start_time": "2021-07-19T20:31:56.159Z"
   },
   {
    "duration": 7,
    "start_time": "2021-07-19T20:31:56.188Z"
   },
   {
    "duration": 44,
    "start_time": "2021-07-19T20:31:56.197Z"
   },
   {
    "duration": 9,
    "start_time": "2021-07-19T20:45:44.086Z"
   },
   {
    "duration": 24,
    "start_time": "2021-07-19T20:54:51.516Z"
   },
   {
    "duration": 43,
    "start_time": "2021-07-19T21:00:06.198Z"
   },
   {
    "duration": 8,
    "start_time": "2021-07-19T21:05:49.430Z"
   },
   {
    "duration": 10,
    "start_time": "2021-07-19T21:05:56.032Z"
   },
   {
    "duration": 56,
    "start_time": "2021-07-19T21:06:15.129Z"
   },
   {
    "duration": 9,
    "start_time": "2021-07-19T21:06:15.186Z"
   },
   {
    "duration": 10,
    "start_time": "2021-07-19T21:06:15.197Z"
   },
   {
    "duration": 13,
    "start_time": "2021-07-19T21:06:15.209Z"
   },
   {
    "duration": 11,
    "start_time": "2021-07-19T21:06:15.242Z"
   },
   {
    "duration": 19,
    "start_time": "2021-07-19T21:06:15.254Z"
   },
   {
    "duration": 3,
    "start_time": "2021-07-19T21:06:15.275Z"
   },
   {
    "duration": 7,
    "start_time": "2021-07-19T21:06:15.280Z"
   },
   {
    "duration": 14,
    "start_time": "2021-07-19T21:06:15.289Z"
   },
   {
    "duration": 9,
    "start_time": "2021-07-19T21:06:15.305Z"
   },
   {
    "duration": 48,
    "start_time": "2021-07-19T21:06:15.315Z"
   },
   {
    "duration": 22,
    "start_time": "2021-07-19T21:06:15.365Z"
   },
   {
    "duration": 28,
    "start_time": "2021-07-19T21:06:15.389Z"
   },
   {
    "duration": 3546,
    "start_time": "2021-07-19T21:06:15.419Z"
   },
   {
    "duration": 9,
    "start_time": "2021-07-19T21:06:18.967Z"
   },
   {
    "duration": 32,
    "start_time": "2021-07-19T21:06:18.978Z"
   },
   {
    "duration": 9,
    "start_time": "2021-07-19T21:06:19.012Z"
   },
   {
    "duration": 21930,
    "start_time": "2021-07-19T21:06:19.023Z"
   },
   {
    "duration": 11,
    "start_time": "2021-07-19T21:06:40.955Z"
   },
   {
    "duration": 5,
    "start_time": "2021-07-19T21:06:40.968Z"
   },
   {
    "duration": 16,
    "start_time": "2021-07-19T21:06:40.974Z"
   },
   {
    "duration": 18,
    "start_time": "2021-07-19T21:06:40.991Z"
   },
   {
    "duration": 7,
    "start_time": "2021-07-19T21:06:41.040Z"
   },
   {
    "duration": 12,
    "start_time": "2021-07-19T21:06:41.049Z"
   },
   {
    "duration": 23,
    "start_time": "2021-07-19T21:06:41.062Z"
   },
   {
    "duration": 26,
    "start_time": "2021-07-19T21:06:41.086Z"
   },
   {
    "duration": 30,
    "start_time": "2021-07-19T21:06:41.114Z"
   },
   {
    "duration": 31,
    "start_time": "2021-07-19T21:06:41.145Z"
   },
   {
    "duration": 11,
    "start_time": "2021-07-19T21:13:32.662Z"
   },
   {
    "duration": 13,
    "start_time": "2021-07-19T21:21:26.951Z"
   },
   {
    "duration": 17,
    "start_time": "2021-07-19T21:22:15.051Z"
   },
   {
    "duration": 19,
    "start_time": "2021-07-19T21:26:54.228Z"
   },
   {
    "duration": 18,
    "start_time": "2021-07-19T21:27:17.975Z"
   },
   {
    "duration": 23,
    "start_time": "2021-07-19T21:28:04.205Z"
   },
   {
    "duration": 27,
    "start_time": "2021-07-19T21:28:56.261Z"
   },
   {
    "duration": 32,
    "start_time": "2021-07-19T21:29:35.576Z"
   },
   {
    "duration": 30,
    "start_time": "2021-07-19T21:32:06.659Z"
   },
   {
    "duration": 24,
    "start_time": "2021-07-19T21:34:34.516Z"
   },
   {
    "duration": 56,
    "start_time": "2021-07-19T21:36:32.790Z"
   },
   {
    "duration": 10,
    "start_time": "2021-07-19T21:36:32.848Z"
   },
   {
    "duration": 8,
    "start_time": "2021-07-19T21:36:32.860Z"
   },
   {
    "duration": 12,
    "start_time": "2021-07-19T21:36:32.870Z"
   },
   {
    "duration": 11,
    "start_time": "2021-07-19T21:36:32.884Z"
   },
   {
    "duration": 45,
    "start_time": "2021-07-19T21:36:32.896Z"
   },
   {
    "duration": 3,
    "start_time": "2021-07-19T21:36:32.943Z"
   },
   {
    "duration": 6,
    "start_time": "2021-07-19T21:36:32.948Z"
   },
   {
    "duration": 12,
    "start_time": "2021-07-19T21:36:32.956Z"
   },
   {
    "duration": 10,
    "start_time": "2021-07-19T21:36:32.969Z"
   },
   {
    "duration": 20,
    "start_time": "2021-07-19T21:36:32.980Z"
   },
   {
    "duration": 49,
    "start_time": "2021-07-19T21:36:33.001Z"
   },
   {
    "duration": 28,
    "start_time": "2021-07-19T21:36:33.051Z"
   },
   {
    "duration": 3188,
    "start_time": "2021-07-19T21:36:33.081Z"
   },
   {
    "duration": 8,
    "start_time": "2021-07-19T21:36:36.271Z"
   },
   {
    "duration": 30,
    "start_time": "2021-07-19T21:36:36.281Z"
   },
   {
    "duration": 28,
    "start_time": "2021-07-19T21:36:36.313Z"
   },
   {
    "duration": 21454,
    "start_time": "2021-07-19T21:36:36.343Z"
   },
   {
    "duration": 10,
    "start_time": "2021-07-19T21:36:57.798Z"
   },
   {
    "duration": 5,
    "start_time": "2021-07-19T21:36:57.809Z"
   },
   {
    "duration": 33,
    "start_time": "2021-07-19T21:36:57.816Z"
   },
   {
    "duration": 17,
    "start_time": "2021-07-19T21:36:57.850Z"
   },
   {
    "duration": 6,
    "start_time": "2021-07-19T21:36:57.869Z"
   },
   {
    "duration": 7,
    "start_time": "2021-07-19T21:36:57.876Z"
   },
   {
    "duration": 22,
    "start_time": "2021-07-19T21:36:57.885Z"
   },
   {
    "duration": 52,
    "start_time": "2021-07-19T21:36:57.909Z"
   },
   {
    "duration": 6,
    "start_time": "2021-07-19T21:36:57.962Z"
   },
   {
    "duration": 25,
    "start_time": "2021-07-19T21:36:57.970Z"
   },
   {
    "duration": 27,
    "start_time": "2021-07-19T21:37:16.549Z"
   },
   {
    "duration": 32,
    "start_time": "2021-07-19T21:38:43.558Z"
   },
   {
    "duration": 22,
    "start_time": "2021-07-19T21:39:00.831Z"
   },
   {
    "duration": 20,
    "start_time": "2021-07-19T21:39:57.789Z"
   },
   {
    "duration": 16,
    "start_time": "2021-07-19T21:40:50.537Z"
   },
   {
    "duration": 31,
    "start_time": "2021-07-19T21:41:51.436Z"
   },
   {
    "duration": 26,
    "start_time": "2021-07-19T21:42:12.523Z"
   },
   {
    "duration": 29,
    "start_time": "2021-07-19T21:42:17.808Z"
   },
   {
    "duration": 28,
    "start_time": "2021-07-19T21:43:14.578Z"
   },
   {
    "duration": 345,
    "start_time": "2021-07-19T21:49:43.046Z"
   },
   {
    "duration": 8,
    "start_time": "2021-07-19T21:49:51.435Z"
   },
   {
    "duration": 18,
    "start_time": "2021-07-19T21:56:58.523Z"
   },
   {
    "duration": 57,
    "start_time": "2021-07-19T22:01:32.863Z"
   },
   {
    "duration": 10,
    "start_time": "2021-07-19T22:01:32.921Z"
   },
   {
    "duration": 9,
    "start_time": "2021-07-19T22:01:32.933Z"
   },
   {
    "duration": 12,
    "start_time": "2021-07-19T22:01:32.944Z"
   },
   {
    "duration": 11,
    "start_time": "2021-07-19T22:01:32.958Z"
   },
   {
    "duration": 13,
    "start_time": "2021-07-19T22:01:32.970Z"
   },
   {
    "duration": 3,
    "start_time": "2021-07-19T22:01:32.985Z"
   },
   {
    "duration": 5,
    "start_time": "2021-07-19T22:01:32.991Z"
   },
   {
    "duration": 48,
    "start_time": "2021-07-19T22:01:32.997Z"
   },
   {
    "duration": 10,
    "start_time": "2021-07-19T22:01:33.047Z"
   },
   {
    "duration": 19,
    "start_time": "2021-07-19T22:01:33.058Z"
   },
   {
    "duration": 16,
    "start_time": "2021-07-19T22:01:33.078Z"
   },
   {
    "duration": 61,
    "start_time": "2021-07-19T22:01:33.096Z"
   },
   {
    "duration": 3551,
    "start_time": "2021-07-19T22:01:33.159Z"
   },
   {
    "duration": 7,
    "start_time": "2021-07-19T22:01:36.711Z"
   },
   {
    "duration": 48,
    "start_time": "2021-07-19T22:01:36.720Z"
   },
   {
    "duration": 9,
    "start_time": "2021-07-19T22:01:36.770Z"
   },
   {
    "duration": 23619,
    "start_time": "2021-07-19T22:01:36.780Z"
   },
   {
    "duration": 12,
    "start_time": "2021-07-19T22:02:00.400Z"
   },
   {
    "duration": 6,
    "start_time": "2021-07-19T22:02:00.414Z"
   },
   {
    "duration": 14,
    "start_time": "2021-07-19T22:02:00.441Z"
   },
   {
    "duration": 20,
    "start_time": "2021-07-19T22:02:00.457Z"
   },
   {
    "duration": 7,
    "start_time": "2021-07-19T22:02:00.481Z"
   },
   {
    "duration": 9,
    "start_time": "2021-07-19T22:02:00.490Z"
   },
   {
    "duration": 58,
    "start_time": "2021-07-19T22:02:00.501Z"
   },
   {
    "duration": 28,
    "start_time": "2021-07-19T22:02:00.561Z"
   },
   {
    "duration": 7,
    "start_time": "2021-07-19T22:02:00.591Z"
   },
   {
    "duration": 53,
    "start_time": "2021-07-19T22:02:00.600Z"
   },
   {
    "duration": 779,
    "start_time": "2021-07-20T09:08:10.380Z"
   },
   {
    "duration": 14,
    "start_time": "2021-07-20T09:08:11.162Z"
   },
   {
    "duration": 11,
    "start_time": "2021-07-20T09:08:11.179Z"
   },
   {
    "duration": 20,
    "start_time": "2021-07-20T09:08:11.193Z"
   },
   {
    "duration": 51,
    "start_time": "2021-07-20T09:08:11.215Z"
   },
   {
    "duration": 20,
    "start_time": "2021-07-20T09:08:11.268Z"
   },
   {
    "duration": 4,
    "start_time": "2021-07-20T09:08:11.290Z"
   },
   {
    "duration": 6,
    "start_time": "2021-07-20T09:08:11.298Z"
   },
   {
    "duration": 56,
    "start_time": "2021-07-20T09:08:11.307Z"
   },
   {
    "duration": 16,
    "start_time": "2021-07-20T09:08:11.365Z"
   },
   {
    "duration": 37,
    "start_time": "2021-07-20T09:08:11.383Z"
   },
   {
    "duration": 44,
    "start_time": "2021-07-20T09:08:11.422Z"
   },
   {
    "duration": 40,
    "start_time": "2021-07-20T09:08:11.468Z"
   },
   {
    "duration": 4254,
    "start_time": "2021-07-20T09:08:11.510Z"
   },
   {
    "duration": 9,
    "start_time": "2021-07-20T09:08:15.766Z"
   },
   {
    "duration": 54,
    "start_time": "2021-07-20T09:08:15.777Z"
   },
   {
    "duration": 28,
    "start_time": "2021-07-20T09:08:15.834Z"
   },
   {
    "duration": 32114,
    "start_time": "2021-07-20T09:08:15.864Z"
   },
   {
    "duration": 15,
    "start_time": "2021-07-20T09:08:47.980Z"
   },
   {
    "duration": 8,
    "start_time": "2021-07-20T09:08:47.997Z"
   },
   {
    "duration": 50,
    "start_time": "2021-07-20T09:08:48.007Z"
   },
   {
    "duration": 30,
    "start_time": "2021-07-20T09:08:48.060Z"
   },
   {
    "duration": 9,
    "start_time": "2021-07-20T09:08:48.094Z"
   },
   {
    "duration": 16,
    "start_time": "2021-07-20T09:08:48.106Z"
   },
   {
    "duration": 62,
    "start_time": "2021-07-20T09:08:48.124Z"
   },
   {
    "duration": 38,
    "start_time": "2021-07-20T09:08:48.188Z"
   },
   {
    "duration": 34,
    "start_time": "2021-07-20T09:08:48.228Z"
   },
   {
    "duration": 39,
    "start_time": "2021-07-20T09:08:48.264Z"
   },
   {
    "duration": 24,
    "start_time": "2021-07-20T09:15:49.332Z"
   },
   {
    "duration": 23,
    "start_time": "2021-07-20T09:16:23.600Z"
   },
   {
    "duration": 18,
    "start_time": "2021-07-20T09:17:08.750Z"
   },
   {
    "duration": 19,
    "start_time": "2021-07-20T09:17:12.278Z"
   },
   {
    "duration": 25,
    "start_time": "2021-07-20T09:18:37.509Z"
   },
   {
    "duration": 25,
    "start_time": "2021-07-20T09:19:05.070Z"
   },
   {
    "duration": 22,
    "start_time": "2021-07-20T09:19:21.804Z"
   },
   {
    "duration": 9,
    "start_time": "2021-07-20T09:19:27.263Z"
   },
   {
    "duration": 798,
    "start_time": "2021-07-20T19:55:43.252Z"
   },
   {
    "duration": 14,
    "start_time": "2021-07-20T19:55:44.053Z"
   },
   {
    "duration": 11,
    "start_time": "2021-07-20T19:55:44.070Z"
   },
   {
    "duration": 21,
    "start_time": "2021-07-20T19:55:44.101Z"
   },
   {
    "duration": 18,
    "start_time": "2021-07-20T19:55:44.124Z"
   },
   {
    "duration": 20,
    "start_time": "2021-07-20T19:55:44.144Z"
   },
   {
    "duration": 4,
    "start_time": "2021-07-20T19:55:44.201Z"
   },
   {
    "duration": 8,
    "start_time": "2021-07-20T19:55:44.209Z"
   },
   {
    "duration": 21,
    "start_time": "2021-07-20T19:55:44.220Z"
   },
   {
    "duration": 15,
    "start_time": "2021-07-20T19:55:44.243Z"
   },
   {
    "duration": 59,
    "start_time": "2021-07-20T19:55:44.260Z"
   },
   {
    "duration": 28,
    "start_time": "2021-07-20T19:55:44.321Z"
   },
   {
    "duration": 63,
    "start_time": "2021-07-20T19:55:44.351Z"
   },
   {
    "duration": 4452,
    "start_time": "2021-07-20T19:55:44.416Z"
   },
   {
    "duration": 10,
    "start_time": "2021-07-20T19:55:48.871Z"
   },
   {
    "duration": 38,
    "start_time": "2021-07-20T19:55:48.883Z"
   },
   {
    "duration": 49,
    "start_time": "2021-07-20T19:55:48.923Z"
   },
   {
    "duration": 32,
    "start_time": "2021-07-20T19:55:48.975Z"
   },
   {
    "duration": 33978,
    "start_time": "2021-07-20T19:55:49.010Z"
   },
   {
    "duration": 16,
    "start_time": "2021-07-20T19:56:23.001Z"
   },
   {
    "duration": 7,
    "start_time": "2021-07-20T19:56:23.020Z"
   },
   {
    "duration": 17,
    "start_time": "2021-07-20T19:56:23.029Z"
   },
   {
    "duration": 60,
    "start_time": "2021-07-20T19:56:23.050Z"
   },
   {
    "duration": 9,
    "start_time": "2021-07-20T19:56:23.113Z"
   },
   {
    "duration": 11,
    "start_time": "2021-07-20T19:56:23.124Z"
   },
   {
    "duration": 68,
    "start_time": "2021-07-20T19:56:23.138Z"
   },
   {
    "duration": 42,
    "start_time": "2021-07-20T19:56:23.208Z"
   },
   {
    "duration": 10,
    "start_time": "2021-07-20T19:56:23.252Z"
   },
   {
    "duration": 70,
    "start_time": "2021-07-20T19:56:23.264Z"
   },
   {
    "duration": 13,
    "start_time": "2021-07-20T20:01:09.287Z"
   },
   {
    "duration": 22,
    "start_time": "2021-07-20T20:01:17.561Z"
   },
   {
    "duration": 26,
    "start_time": "2021-07-20T20:02:34.315Z"
   },
   {
    "duration": 9,
    "start_time": "2021-07-20T20:03:37.731Z"
   },
   {
    "duration": 30,
    "start_time": "2021-07-20T20:04:35.573Z"
   },
   {
    "duration": 32,
    "start_time": "2021-07-20T20:07:42.077Z"
   },
   {
    "duration": 11,
    "start_time": "2021-07-20T20:08:41.382Z"
   },
   {
    "duration": 11,
    "start_time": "2021-07-20T20:08:57.783Z"
   },
   {
    "duration": 18,
    "start_time": "2021-07-20T20:11:06.277Z"
   },
   {
    "duration": 116,
    "start_time": "2021-07-20T20:12:01.126Z"
   },
   {
    "duration": 11,
    "start_time": "2021-07-20T20:12:18.239Z"
   },
   {
    "duration": 82,
    "start_time": "2021-07-20T20:17:45.348Z"
   },
   {
    "duration": 10,
    "start_time": "2021-07-20T20:23:59.905Z"
   },
   {
    "duration": 10,
    "start_time": "2021-07-20T20:24:07.692Z"
   },
   {
    "duration": 4,
    "start_time": "2021-07-20T20:37:32.789Z"
   },
   {
    "duration": 86,
    "start_time": "2021-07-20T20:37:49.281Z"
   },
   {
    "duration": 28,
    "start_time": "2021-07-20T20:37:58.371Z"
   },
   {
    "duration": 76,
    "start_time": "2021-07-20T20:38:13.360Z"
   },
   {
    "duration": 17,
    "start_time": "2021-07-20T20:38:13.440Z"
   },
   {
    "duration": 44,
    "start_time": "2021-07-20T20:38:13.461Z"
   },
   {
    "duration": 20,
    "start_time": "2021-07-20T20:38:13.508Z"
   },
   {
    "duration": 19,
    "start_time": "2021-07-20T20:38:13.530Z"
   },
   {
    "duration": 61,
    "start_time": "2021-07-20T20:38:13.552Z"
   },
   {
    "duration": 4,
    "start_time": "2021-07-20T20:38:13.615Z"
   },
   {
    "duration": 10,
    "start_time": "2021-07-20T20:38:13.623Z"
   },
   {
    "duration": 15,
    "start_time": "2021-07-20T20:38:13.636Z"
   },
   {
    "duration": 49,
    "start_time": "2021-07-20T20:38:13.653Z"
   },
   {
    "duration": 27,
    "start_time": "2021-07-20T20:38:13.705Z"
   },
   {
    "duration": 29,
    "start_time": "2021-07-20T20:38:13.735Z"
   },
   {
    "duration": 75,
    "start_time": "2021-07-20T20:38:13.766Z"
   },
   {
    "duration": 4774,
    "start_time": "2021-07-20T20:38:13.843Z"
   },
   {
    "duration": 10,
    "start_time": "2021-07-20T20:38:18.619Z"
   },
   {
    "duration": 25,
    "start_time": "2021-07-20T20:38:18.631Z"
   },
   {
    "duration": 78,
    "start_time": "2021-07-20T20:38:18.658Z"
   },
   {
    "duration": 13,
    "start_time": "2021-07-20T20:38:18.739Z"
   },
   {
    "duration": 4,
    "start_time": "2021-07-20T20:38:18.755Z"
   },
   {
    "duration": 62,
    "start_time": "2021-07-20T20:38:18.761Z"
   },
   {
    "duration": 20,
    "start_time": "2021-07-20T20:38:18.825Z"
   },
   {
    "duration": 8,
    "start_time": "2021-07-20T20:38:18.847Z"
   },
   {
    "duration": 56,
    "start_time": "2021-07-20T20:38:18.860Z"
   },
   {
    "duration": 35,
    "start_time": "2021-07-20T20:38:18.919Z"
   },
   {
    "duration": 11,
    "start_time": "2021-07-20T20:38:18.956Z"
   },
   {
    "duration": 36,
    "start_time": "2021-07-20T20:38:18.969Z"
   },
   {
    "duration": 12,
    "start_time": "2021-07-20T20:38:19.007Z"
   },
   {
    "duration": 36,
    "start_time": "2021-07-20T20:38:19.022Z"
   },
   {
    "duration": 73,
    "start_time": "2021-07-20T20:38:19.060Z"
   },
   {
    "duration": 10,
    "start_time": "2021-07-20T20:38:19.135Z"
   },
   {
    "duration": 65,
    "start_time": "2021-07-20T20:38:19.147Z"
   },
   {
    "duration": 90,
    "start_time": "2021-07-20T20:48:43.102Z"
   },
   {
    "duration": 91,
    "start_time": "2021-07-20T20:51:36.613Z"
   },
   {
    "duration": 105,
    "start_time": "2021-07-20T20:52:11.168Z"
   },
   {
    "duration": 89,
    "start_time": "2021-07-20T20:52:19.650Z"
   },
   {
    "duration": 103,
    "start_time": "2021-07-20T20:53:40.488Z"
   },
   {
    "duration": 101,
    "start_time": "2021-07-20T20:54:44.726Z"
   },
   {
    "duration": 96,
    "start_time": "2021-07-20T20:54:51.451Z"
   },
   {
    "duration": 26,
    "start_time": "2021-07-20T20:56:14.855Z"
   },
   {
    "duration": 155,
    "start_time": "2021-07-20T20:59:17.131Z"
   },
   {
    "duration": 7,
    "start_time": "2021-07-20T21:02:42.047Z"
   },
   {
    "duration": 11,
    "start_time": "2021-07-20T21:03:44.075Z"
   },
   {
    "duration": 386,
    "start_time": "2021-07-20T21:24:40.852Z"
   },
   {
    "duration": 318,
    "start_time": "2021-07-20T21:24:47.146Z"
   },
   {
    "duration": 8335,
    "start_time": "2021-07-20T21:25:08.029Z"
   },
   {
    "duration": 8611,
    "start_time": "2021-07-20T21:25:22.586Z"
   },
   {
    "duration": 9,
    "start_time": "2021-07-20T21:25:37.555Z"
   },
   {
    "duration": 276,
    "start_time": "2021-07-20T21:37:00.930Z"
   },
   {
    "duration": 291,
    "start_time": "2021-07-20T21:37:33.393Z"
   },
   {
    "duration": 292,
    "start_time": "2021-07-20T21:37:53.875Z"
   },
   {
    "duration": 273,
    "start_time": "2021-07-20T21:38:16.861Z"
   },
   {
    "duration": 547,
    "start_time": "2021-07-20T21:38:28.184Z"
   },
   {
    "duration": 8194,
    "start_time": "2021-07-20T21:39:55.568Z"
   },
   {
    "duration": 286,
    "start_time": "2021-07-20T21:41:17.300Z"
   },
   {
    "duration": 278,
    "start_time": "2021-07-20T21:41:31.776Z"
   },
   {
    "duration": 272,
    "start_time": "2021-07-20T21:41:49.062Z"
   },
   {
    "duration": 286,
    "start_time": "2021-07-20T21:42:55.021Z"
   },
   {
    "duration": 10,
    "start_time": "2021-07-20T21:43:42.845Z"
   },
   {
    "duration": 21,
    "start_time": "2021-07-20T21:50:57.712Z"
   },
   {
    "duration": 78,
    "start_time": "2021-07-20T21:51:30.643Z"
   },
   {
    "duration": 15,
    "start_time": "2021-07-20T21:51:30.724Z"
   },
   {
    "duration": 12,
    "start_time": "2021-07-20T21:51:30.742Z"
   },
   {
    "duration": 59,
    "start_time": "2021-07-20T21:51:30.757Z"
   },
   {
    "duration": 20,
    "start_time": "2021-07-20T21:51:30.819Z"
   },
   {
    "duration": 38,
    "start_time": "2021-07-20T21:51:30.842Z"
   },
   {
    "duration": 33,
    "start_time": "2021-07-20T21:51:30.884Z"
   },
   {
    "duration": 8,
    "start_time": "2021-07-20T21:51:30.923Z"
   },
   {
    "duration": 14,
    "start_time": "2021-07-20T21:51:30.934Z"
   },
   {
    "duration": 18,
    "start_time": "2021-07-20T21:51:30.950Z"
   },
   {
    "duration": 18,
    "start_time": "2021-07-20T21:51:31.001Z"
   },
   {
    "duration": 39,
    "start_time": "2021-07-20T21:51:31.022Z"
   },
   {
    "duration": 45,
    "start_time": "2021-07-20T21:51:31.063Z"
   },
   {
    "duration": 41,
    "start_time": "2021-07-20T21:51:31.111Z"
   },
   {
    "duration": 4489,
    "start_time": "2021-07-20T21:51:31.155Z"
   },
   {
    "duration": 9,
    "start_time": "2021-07-20T21:51:35.647Z"
   },
   {
    "duration": 44,
    "start_time": "2021-07-20T21:51:35.658Z"
   },
   {
    "duration": 53,
    "start_time": "2021-07-20T21:51:35.705Z"
   },
   {
    "duration": 46,
    "start_time": "2021-07-20T21:51:35.761Z"
   },
   {
    "duration": 14,
    "start_time": "2021-07-20T21:51:35.809Z"
   },
   {
    "duration": 7,
    "start_time": "2021-07-20T21:51:35.825Z"
   },
   {
    "duration": 37,
    "start_time": "2021-07-20T21:51:35.835Z"
   },
   {
    "duration": 20,
    "start_time": "2021-07-20T21:51:35.903Z"
   },
   {
    "duration": 7,
    "start_time": "2021-07-20T21:51:35.926Z"
   },
   {
    "duration": 23,
    "start_time": "2021-07-20T21:51:35.935Z"
   },
   {
    "duration": 64,
    "start_time": "2021-07-20T21:51:35.961Z"
   },
   {
    "duration": 11,
    "start_time": "2021-07-20T21:51:36.027Z"
   },
   {
    "duration": 9,
    "start_time": "2021-07-20T21:51:36.040Z"
   },
   {
    "duration": 11,
    "start_time": "2021-07-20T21:51:36.052Z"
   },
   {
    "duration": 41,
    "start_time": "2021-07-20T21:51:36.101Z"
   },
   {
    "duration": 62,
    "start_time": "2021-07-20T21:51:36.145Z"
   },
   {
    "duration": 9,
    "start_time": "2021-07-20T21:51:36.210Z"
   },
   {
    "duration": 44,
    "start_time": "2021-07-20T21:51:36.222Z"
   },
   {
    "duration": 30,
    "start_time": "2021-07-20T21:53:32.916Z"
   },
   {
    "duration": 11,
    "start_time": "2021-07-20T21:58:27.145Z"
   },
   {
    "duration": 11,
    "start_time": "2021-07-20T22:01:01.712Z"
   },
   {
    "duration": 13,
    "start_time": "2021-07-20T22:01:21.959Z"
   },
   {
    "duration": 13,
    "start_time": "2021-07-20T22:02:10.665Z"
   },
   {
    "duration": 15,
    "start_time": "2021-07-20T22:03:33.969Z"
   },
   {
    "duration": 15,
    "start_time": "2021-07-20T22:05:23.060Z"
   },
   {
    "duration": 16,
    "start_time": "2021-07-20T22:05:48.610Z"
   },
   {
    "duration": 18,
    "start_time": "2021-07-20T22:06:57.730Z"
   },
   {
    "duration": 20,
    "start_time": "2021-07-20T22:08:25.820Z"
   },
   {
    "duration": 24,
    "start_time": "2021-07-20T22:14:49.852Z"
   },
   {
    "duration": 78,
    "start_time": "2021-07-20T22:15:08.444Z"
   },
   {
    "duration": 13,
    "start_time": "2021-07-20T22:15:08.525Z"
   },
   {
    "duration": 12,
    "start_time": "2021-07-20T22:15:08.541Z"
   },
   {
    "duration": 58,
    "start_time": "2021-07-20T22:15:08.556Z"
   },
   {
    "duration": 18,
    "start_time": "2021-07-20T22:15:08.616Z"
   },
   {
    "duration": 18,
    "start_time": "2021-07-20T22:15:08.636Z"
   },
   {
    "duration": 62,
    "start_time": "2021-07-20T22:15:08.657Z"
   },
   {
    "duration": 5,
    "start_time": "2021-07-20T22:15:08.723Z"
   },
   {
    "duration": 25,
    "start_time": "2021-07-20T22:15:08.731Z"
   },
   {
    "duration": 47,
    "start_time": "2021-07-20T22:15:08.758Z"
   },
   {
    "duration": 27,
    "start_time": "2021-07-20T22:15:08.808Z"
   },
   {
    "duration": 15,
    "start_time": "2021-07-20T22:15:08.837Z"
   },
   {
    "duration": 52,
    "start_time": "2021-07-20T22:15:08.855Z"
   },
   {
    "duration": 25,
    "start_time": "2021-07-20T22:15:08.909Z"
   },
   {
    "duration": 64,
    "start_time": "2021-07-20T22:15:08.937Z"
   },
   {
    "duration": 4482,
    "start_time": "2021-07-20T22:15:09.004Z"
   },
   {
    "duration": 17,
    "start_time": "2021-07-20T22:15:13.489Z"
   },
   {
    "duration": 23,
    "start_time": "2021-07-20T22:15:13.509Z"
   },
   {
    "duration": 74,
    "start_time": "2021-07-20T22:15:13.534Z"
   },
   {
    "duration": 26,
    "start_time": "2021-07-20T22:15:13.611Z"
   },
   {
    "duration": 12,
    "start_time": "2021-07-20T22:15:13.639Z"
   },
   {
    "duration": 4,
    "start_time": "2021-07-20T22:15:13.653Z"
   },
   {
    "duration": 64,
    "start_time": "2021-07-20T22:15:13.662Z"
   },
   {
    "duration": 20,
    "start_time": "2021-07-20T22:15:13.729Z"
   },
   {
    "duration": 8,
    "start_time": "2021-07-20T22:15:13.751Z"
   },
   {
    "duration": 50,
    "start_time": "2021-07-20T22:15:13.761Z"
   },
   {
    "duration": 31,
    "start_time": "2021-07-20T22:15:13.814Z"
   },
   {
    "duration": 11,
    "start_time": "2021-07-20T22:15:13.847Z"
   },
   {
    "duration": 9,
    "start_time": "2021-07-20T22:15:13.861Z"
   },
   {
    "duration": 9,
    "start_time": "2021-07-20T22:15:13.901Z"
   },
   {
    "duration": 38,
    "start_time": "2021-07-20T22:15:13.912Z"
   },
   {
    "duration": 77,
    "start_time": "2021-07-20T22:15:13.952Z"
   },
   {
    "duration": 10,
    "start_time": "2021-07-20T22:15:14.031Z"
   },
   {
    "duration": 64,
    "start_time": "2021-07-20T22:15:14.044Z"
   },
   {
    "duration": 31,
    "start_time": "2021-07-20T22:20:32.273Z"
   },
   {
    "duration": 49,
    "start_time": "2021-07-20T22:25:49.101Z"
   },
   {
    "duration": 46,
    "start_time": "2021-07-20T22:26:07.037Z"
   },
   {
    "duration": 32,
    "start_time": "2021-07-20T22:27:22.152Z"
   },
   {
    "duration": 78,
    "start_time": "2021-07-20T22:33:20.132Z"
   },
   {
    "duration": 15,
    "start_time": "2021-07-20T22:33:20.213Z"
   },
   {
    "duration": 13,
    "start_time": "2021-07-20T22:33:20.232Z"
   },
   {
    "duration": 62,
    "start_time": "2021-07-20T22:33:20.248Z"
   },
   {
    "duration": 22,
    "start_time": "2021-07-20T22:33:20.313Z"
   },
   {
    "duration": 20,
    "start_time": "2021-07-20T22:33:20.338Z"
   },
   {
    "duration": 54,
    "start_time": "2021-07-20T22:33:20.401Z"
   },
   {
    "duration": 5,
    "start_time": "2021-07-20T22:33:20.458Z"
   },
   {
    "duration": 51,
    "start_time": "2021-07-20T22:33:20.466Z"
   },
   {
    "duration": 6,
    "start_time": "2021-07-20T22:33:20.520Z"
   },
   {
    "duration": 21,
    "start_time": "2021-07-20T22:33:20.529Z"
   },
   {
    "duration": 16,
    "start_time": "2021-07-20T22:33:20.552Z"
   },
   {
    "duration": 57,
    "start_time": "2021-07-20T22:33:20.570Z"
   },
   {
    "duration": 26,
    "start_time": "2021-07-20T22:33:20.630Z"
   },
   {
    "duration": 74,
    "start_time": "2021-07-20T22:33:20.659Z"
   },
   {
    "duration": 4413,
    "start_time": "2021-07-20T22:33:20.735Z"
   },
   {
    "duration": 10,
    "start_time": "2021-07-20T22:33:25.151Z"
   },
   {
    "duration": 47,
    "start_time": "2021-07-20T22:33:25.164Z"
   },
   {
    "duration": 56,
    "start_time": "2021-07-20T22:33:25.214Z"
   },
   {
    "duration": 48,
    "start_time": "2021-07-20T22:33:25.273Z"
   },
   {
    "duration": 13,
    "start_time": "2021-07-20T22:33:25.324Z"
   },
   {
    "duration": 7,
    "start_time": "2021-07-20T22:33:25.341Z"
   },
   {
    "duration": 73,
    "start_time": "2021-07-20T22:33:25.355Z"
   },
   {
    "duration": 23,
    "start_time": "2021-07-20T22:33:25.432Z"
   },
   {
    "duration": 9,
    "start_time": "2021-07-20T22:33:25.458Z"
   },
   {
    "duration": 19,
    "start_time": "2021-07-20T22:33:25.501Z"
   },
   {
    "duration": 33,
    "start_time": "2021-07-20T22:33:25.522Z"
   },
   {
    "duration": 11,
    "start_time": "2021-07-20T22:33:25.557Z"
   },
   {
    "duration": 10,
    "start_time": "2021-07-20T22:33:25.601Z"
   },
   {
    "duration": 11,
    "start_time": "2021-07-20T22:33:25.613Z"
   },
   {
    "duration": 41,
    "start_time": "2021-07-20T22:33:25.626Z"
   },
   {
    "duration": 42,
    "start_time": "2021-07-20T22:33:25.702Z"
   },
   {
    "duration": 10,
    "start_time": "2021-07-20T22:33:25.747Z"
   },
   {
    "duration": 70,
    "start_time": "2021-07-20T22:33:25.759Z"
   },
   {
    "duration": 81,
    "start_time": "2021-07-20T22:33:44.323Z"
   },
   {
    "duration": 15,
    "start_time": "2021-07-20T22:33:44.407Z"
   },
   {
    "duration": 13,
    "start_time": "2021-07-20T22:33:44.425Z"
   },
   {
    "duration": 61,
    "start_time": "2021-07-20T22:33:44.442Z"
   },
   {
    "duration": 24,
    "start_time": "2021-07-20T22:33:44.506Z"
   },
   {
    "duration": 18,
    "start_time": "2021-07-20T22:33:44.533Z"
   },
   {
    "duration": 54,
    "start_time": "2021-07-20T22:33:44.601Z"
   },
   {
    "duration": 4,
    "start_time": "2021-07-20T22:33:44.659Z"
   },
   {
    "duration": 52,
    "start_time": "2021-07-20T22:33:44.670Z"
   },
   {
    "duration": 396,
    "start_time": "2021-07-20T22:33:44.726Z"
   },
   {
    "duration": 5525,
    "start_time": "2021-07-20T22:33:39.600Z"
   },
   {
    "duration": 5521,
    "start_time": "2021-07-20T22:33:39.605Z"
   },
   {
    "duration": 5517,
    "start_time": "2021-07-20T22:33:39.610Z"
   },
   {
    "duration": 5512,
    "start_time": "2021-07-20T22:33:39.617Z"
   },
   {
    "duration": 5507,
    "start_time": "2021-07-20T22:33:39.623Z"
   },
   {
    "duration": 5504,
    "start_time": "2021-07-20T22:33:39.628Z"
   },
   {
    "duration": 5498,
    "start_time": "2021-07-20T22:33:39.635Z"
   },
   {
    "duration": 5495,
    "start_time": "2021-07-20T22:33:39.640Z"
   },
   {
    "duration": 5490,
    "start_time": "2021-07-20T22:33:39.646Z"
   },
   {
    "duration": 5486,
    "start_time": "2021-07-20T22:33:39.652Z"
   },
   {
    "duration": 5481,
    "start_time": "2021-07-20T22:33:39.658Z"
   },
   {
    "duration": 5468,
    "start_time": "2021-07-20T22:33:39.673Z"
   },
   {
    "duration": 5461,
    "start_time": "2021-07-20T22:33:39.681Z"
   },
   {
    "duration": 5458,
    "start_time": "2021-07-20T22:33:39.686Z"
   },
   {
    "duration": 5454,
    "start_time": "2021-07-20T22:33:39.691Z"
   },
   {
    "duration": 5450,
    "start_time": "2021-07-20T22:33:39.697Z"
   },
   {
    "duration": 5445,
    "start_time": "2021-07-20T22:33:39.703Z"
   },
   {
    "duration": 5442,
    "start_time": "2021-07-20T22:33:39.708Z"
   },
   {
    "duration": 5436,
    "start_time": "2021-07-20T22:33:39.715Z"
   },
   {
    "duration": 5433,
    "start_time": "2021-07-20T22:33:39.720Z"
   },
   {
    "duration": 5428,
    "start_time": "2021-07-20T22:33:39.726Z"
   },
   {
    "duration": 5424,
    "start_time": "2021-07-20T22:33:39.732Z"
   },
   {
    "duration": 5419,
    "start_time": "2021-07-20T22:33:39.738Z"
   },
   {
    "duration": 5417,
    "start_time": "2021-07-20T22:33:39.742Z"
   },
   {
    "duration": 84,
    "start_time": "2021-07-20T22:36:02.385Z"
   },
   {
    "duration": 37,
    "start_time": "2021-07-20T22:36:02.472Z"
   },
   {
    "duration": 13,
    "start_time": "2021-07-20T22:36:02.513Z"
   },
   {
    "duration": 23,
    "start_time": "2021-07-20T22:36:02.529Z"
   },
   {
    "duration": 61,
    "start_time": "2021-07-20T22:36:02.555Z"
   },
   {
    "duration": 16,
    "start_time": "2021-07-20T22:36:02.619Z"
   },
   {
    "duration": 80,
    "start_time": "2021-07-20T22:36:02.637Z"
   },
   {
    "duration": 5,
    "start_time": "2021-07-20T22:36:02.721Z"
   },
   {
    "duration": 30,
    "start_time": "2021-07-20T22:36:02.729Z"
   },
   {
    "duration": 7,
    "start_time": "2021-07-20T22:36:02.761Z"
   },
   {
    "duration": 41,
    "start_time": "2021-07-20T22:36:02.771Z"
   },
   {
    "duration": 17,
    "start_time": "2021-07-20T22:36:02.815Z"
   },
   {
    "duration": 32,
    "start_time": "2021-07-20T22:36:02.834Z"
   },
   {
    "duration": 57,
    "start_time": "2021-07-20T22:36:02.868Z"
   },
   {
    "duration": 48,
    "start_time": "2021-07-20T22:36:02.927Z"
   },
   {
    "duration": 4543,
    "start_time": "2021-07-20T22:36:03.001Z"
   },
   {
    "duration": 9,
    "start_time": "2021-07-20T22:36:07.547Z"
   },
   {
    "duration": 43,
    "start_time": "2021-07-20T22:36:07.558Z"
   },
   {
    "duration": 52,
    "start_time": "2021-07-20T22:36:07.603Z"
   },
   {
    "duration": 47,
    "start_time": "2021-07-20T22:36:07.657Z"
   },
   {
    "duration": 12,
    "start_time": "2021-07-20T22:36:07.707Z"
   },
   {
    "duration": 5,
    "start_time": "2021-07-20T22:36:07.722Z"
   },
   {
    "duration": 68,
    "start_time": "2021-07-20T22:36:07.732Z"
   },
   {
    "duration": 20,
    "start_time": "2021-07-20T22:36:07.803Z"
   },
   {
    "duration": 8,
    "start_time": "2021-07-20T22:36:07.825Z"
   },
   {
    "duration": 20,
    "start_time": "2021-07-20T22:36:07.835Z"
   },
   {
    "duration": 66,
    "start_time": "2021-07-20T22:36:07.858Z"
   },
   {
    "duration": 10,
    "start_time": "2021-07-20T22:36:07.926Z"
   },
   {
    "duration": 36,
    "start_time": "2021-07-20T22:36:07.939Z"
   },
   {
    "duration": 15,
    "start_time": "2021-07-20T22:36:07.977Z"
   },
   {
    "duration": 40,
    "start_time": "2021-07-20T22:36:07.994Z"
   },
   {
    "duration": 64,
    "start_time": "2021-07-20T22:36:08.036Z"
   },
   {
    "duration": 9,
    "start_time": "2021-07-20T22:36:08.103Z"
   },
   {
    "duration": 47,
    "start_time": "2021-07-20T22:36:08.114Z"
   },
   {
    "duration": 86,
    "start_time": "2021-07-20T22:43:21.284Z"
   },
   {
    "duration": 43,
    "start_time": "2021-07-20T22:43:21.373Z"
   },
   {
    "duration": 15,
    "start_time": "2021-07-20T22:43:21.421Z"
   },
   {
    "duration": 73,
    "start_time": "2021-07-20T22:43:21.440Z"
   },
   {
    "duration": 20,
    "start_time": "2021-07-20T22:43:21.516Z"
   },
   {
    "duration": 18,
    "start_time": "2021-07-20T22:43:21.540Z"
   },
   {
    "duration": 97,
    "start_time": "2021-07-20T22:43:21.561Z"
   },
   {
    "duration": 5,
    "start_time": "2021-07-20T22:43:21.663Z"
   },
   {
    "duration": 19,
    "start_time": "2021-07-20T22:43:21.700Z"
   },
   {
    "duration": 17,
    "start_time": "2021-07-20T22:43:21.721Z"
   },
   {
    "duration": 22,
    "start_time": "2021-07-20T22:43:21.740Z"
   },
   {
    "duration": 17,
    "start_time": "2021-07-20T22:43:21.764Z"
   },
   {
    "duration": 49,
    "start_time": "2021-07-20T22:43:21.783Z"
   },
   {
    "duration": 32,
    "start_time": "2021-07-20T22:43:21.835Z"
   },
   {
    "duration": 76,
    "start_time": "2021-07-20T22:43:21.869Z"
   },
   {
    "duration": 4606,
    "start_time": "2021-07-20T22:43:21.948Z"
   },
   {
    "duration": 9,
    "start_time": "2021-07-20T22:43:26.557Z"
   },
   {
    "duration": 43,
    "start_time": "2021-07-20T22:43:26.568Z"
   },
   {
    "duration": 53,
    "start_time": "2021-07-20T22:43:26.614Z"
   },
   {
    "duration": 49,
    "start_time": "2021-07-20T22:43:26.670Z"
   },
   {
    "duration": 12,
    "start_time": "2021-07-20T22:43:26.721Z"
   },
   {
    "duration": 10,
    "start_time": "2021-07-20T22:43:26.736Z"
   },
   {
    "duration": 51,
    "start_time": "2021-07-20T22:43:26.751Z"
   },
   {
    "duration": 19,
    "start_time": "2021-07-20T22:43:26.805Z"
   },
   {
    "duration": 8,
    "start_time": "2021-07-20T22:43:26.826Z"
   },
   {
    "duration": 19,
    "start_time": "2021-07-20T22:43:26.836Z"
   },
   {
    "duration": 63,
    "start_time": "2021-07-20T22:43:26.857Z"
   },
   {
    "duration": 11,
    "start_time": "2021-07-20T22:43:26.922Z"
   },
   {
    "duration": 18,
    "start_time": "2021-07-20T22:43:26.935Z"
   },
   {
    "duration": 18,
    "start_time": "2021-07-20T22:43:26.956Z"
   },
   {
    "duration": 58,
    "start_time": "2021-07-20T22:43:26.977Z"
   },
   {
    "duration": 68,
    "start_time": "2021-07-20T22:43:27.038Z"
   },
   {
    "duration": 10,
    "start_time": "2021-07-20T22:43:27.109Z"
   },
   {
    "duration": 78,
    "start_time": "2021-07-20T22:43:27.122Z"
   },
   {
    "duration": 10,
    "start_time": "2021-07-20T22:48:43.455Z"
   },
   {
    "duration": 7,
    "start_time": "2021-07-20T22:49:37.199Z"
   },
   {
    "duration": 9,
    "start_time": "2021-07-20T22:49:45.478Z"
   },
   {
    "duration": 14,
    "start_time": "2021-07-20T22:51:14.146Z"
   },
   {
    "duration": 83,
    "start_time": "2021-07-20T22:55:21.536Z"
   },
   {
    "duration": 85,
    "start_time": "2021-07-20T23:02:06.056Z"
   },
   {
    "duration": 19,
    "start_time": "2021-07-20T23:02:06.144Z"
   },
   {
    "duration": 39,
    "start_time": "2021-07-20T23:02:06.167Z"
   },
   {
    "duration": 24,
    "start_time": "2021-07-20T23:02:06.210Z"
   },
   {
    "duration": 66,
    "start_time": "2021-07-20T23:02:06.237Z"
   },
   {
    "duration": 21,
    "start_time": "2021-07-20T23:02:06.306Z"
   },
   {
    "duration": 98,
    "start_time": "2021-07-20T23:02:06.330Z"
   },
   {
    "duration": 5,
    "start_time": "2021-07-20T23:02:06.434Z"
   },
   {
    "duration": 22,
    "start_time": "2021-07-20T23:02:06.443Z"
   },
   {
    "duration": 37,
    "start_time": "2021-07-20T23:02:06.468Z"
   },
   {
    "duration": 27,
    "start_time": "2021-07-20T23:02:06.508Z"
   },
   {
    "duration": 18,
    "start_time": "2021-07-20T23:02:06.538Z"
   },
   {
    "duration": 67,
    "start_time": "2021-07-20T23:02:06.559Z"
   },
   {
    "duration": 28,
    "start_time": "2021-07-20T23:02:06.630Z"
   },
   {
    "duration": 81,
    "start_time": "2021-07-20T23:02:06.661Z"
   },
   {
    "duration": 4503,
    "start_time": "2021-07-20T23:02:06.745Z"
   },
   {
    "duration": 11,
    "start_time": "2021-07-20T23:02:11.251Z"
   },
   {
    "duration": 44,
    "start_time": "2021-07-20T23:02:11.265Z"
   },
   {
    "duration": 54,
    "start_time": "2021-07-20T23:02:11.311Z"
   },
   {
    "duration": 56,
    "start_time": "2021-07-20T23:02:11.368Z"
   },
   {
    "duration": 18,
    "start_time": "2021-07-20T23:02:11.428Z"
   },
   {
    "duration": 6,
    "start_time": "2021-07-20T23:02:11.450Z"
   },
   {
    "duration": 75,
    "start_time": "2021-07-20T23:02:11.463Z"
   },
   {
    "duration": 28,
    "start_time": "2021-07-20T23:02:11.541Z"
   },
   {
    "duration": 36,
    "start_time": "2021-07-20T23:02:11.572Z"
   },
   {
    "duration": 24,
    "start_time": "2021-07-20T23:02:11.611Z"
   },
   {
    "duration": 33,
    "start_time": "2021-07-20T23:02:11.637Z"
   },
   {
    "duration": 11,
    "start_time": "2021-07-20T23:02:11.701Z"
   },
   {
    "duration": 15,
    "start_time": "2021-07-20T23:02:11.714Z"
   },
   {
    "duration": 16,
    "start_time": "2021-07-20T23:02:11.731Z"
   },
   {
    "duration": 69,
    "start_time": "2021-07-20T23:02:11.749Z"
   },
   {
    "duration": 40,
    "start_time": "2021-07-20T23:02:11.821Z"
   },
   {
    "duration": 9,
    "start_time": "2021-07-20T23:02:11.864Z"
   },
   {
    "duration": 62,
    "start_time": "2021-07-20T23:02:11.876Z"
   },
   {
    "duration": 12,
    "start_time": "2021-07-20T23:02:11.941Z"
   },
   {
    "duration": 812,
    "start_time": "2021-07-21T18:42:11.973Z"
   },
   {
    "duration": 16,
    "start_time": "2021-07-21T18:42:12.788Z"
   },
   {
    "duration": 13,
    "start_time": "2021-07-21T18:42:12.807Z"
   },
   {
    "duration": 49,
    "start_time": "2021-07-21T18:42:12.823Z"
   },
   {
    "duration": 18,
    "start_time": "2021-07-21T18:42:12.875Z"
   },
   {
    "duration": 18,
    "start_time": "2021-07-21T18:42:12.896Z"
   },
   {
    "duration": 87,
    "start_time": "2021-07-21T18:42:12.916Z"
   },
   {
    "duration": 6,
    "start_time": "2021-07-21T18:42:13.008Z"
   },
   {
    "duration": 47,
    "start_time": "2021-07-21T18:42:13.018Z"
   },
   {
    "duration": 452,
    "start_time": "2021-07-21T18:42:13.068Z"
   },
   {
    "duration": -826,
    "start_time": "2021-07-21T18:42:14.349Z"
   },
   {
    "duration": -833,
    "start_time": "2021-07-21T18:42:14.357Z"
   },
   {
    "duration": -841,
    "start_time": "2021-07-21T18:42:14.367Z"
   },
   {
    "duration": -849,
    "start_time": "2021-07-21T18:42:14.376Z"
   },
   {
    "duration": -858,
    "start_time": "2021-07-21T18:42:14.386Z"
   },
   {
    "duration": -869,
    "start_time": "2021-07-21T18:42:14.398Z"
   },
   {
    "duration": -878,
    "start_time": "2021-07-21T18:42:14.409Z"
   },
   {
    "duration": -886,
    "start_time": "2021-07-21T18:42:14.418Z"
   },
   {
    "duration": -894,
    "start_time": "2021-07-21T18:42:14.428Z"
   },
   {
    "duration": -903,
    "start_time": "2021-07-21T18:42:14.438Z"
   },
   {
    "duration": -912,
    "start_time": "2021-07-21T18:42:14.449Z"
   },
   {
    "duration": -920,
    "start_time": "2021-07-21T18:42:14.458Z"
   },
   {
    "duration": -928,
    "start_time": "2021-07-21T18:42:14.468Z"
   },
   {
    "duration": -935,
    "start_time": "2021-07-21T18:42:14.477Z"
   },
   {
    "duration": -944,
    "start_time": "2021-07-21T18:42:14.488Z"
   },
   {
    "duration": -952,
    "start_time": "2021-07-21T18:42:14.497Z"
   },
   {
    "duration": -960,
    "start_time": "2021-07-21T18:42:14.507Z"
   },
   {
    "duration": -968,
    "start_time": "2021-07-21T18:42:14.517Z"
   },
   {
    "duration": -976,
    "start_time": "2021-07-21T18:42:14.527Z"
   },
   {
    "duration": -984,
    "start_time": "2021-07-21T18:42:14.536Z"
   },
   {
    "duration": -993,
    "start_time": "2021-07-21T18:42:14.547Z"
   },
   {
    "duration": -1001,
    "start_time": "2021-07-21T18:42:14.556Z"
   },
   {
    "duration": -1011,
    "start_time": "2021-07-21T18:42:14.567Z"
   },
   {
    "duration": -1018,
    "start_time": "2021-07-21T18:42:14.576Z"
   },
   {
    "duration": -1027,
    "start_time": "2021-07-21T18:42:14.586Z"
   },
   {
    "duration": -1035,
    "start_time": "2021-07-21T18:42:14.595Z"
   },
   {
    "duration": 25,
    "start_time": "2021-07-21T18:43:42.221Z"
   },
   {
    "duration": 25,
    "start_time": "2021-07-21T18:43:53.270Z"
   },
   {
    "duration": 860,
    "start_time": "2021-07-21T18:45:47.590Z"
   },
   {
    "duration": 22,
    "start_time": "2021-07-21T18:45:48.453Z"
   },
   {
    "duration": 12,
    "start_time": "2021-07-21T18:45:48.478Z"
   },
   {
    "duration": 22,
    "start_time": "2021-07-21T18:45:48.492Z"
   },
   {
    "duration": 57,
    "start_time": "2021-07-21T18:45:48.517Z"
   },
   {
    "duration": 19,
    "start_time": "2021-07-21T18:45:48.577Z"
   },
   {
    "duration": 89,
    "start_time": "2021-07-21T18:45:48.598Z"
   },
   {
    "duration": 6,
    "start_time": "2021-07-21T18:45:48.693Z"
   },
   {
    "duration": 56,
    "start_time": "2021-07-21T18:45:48.704Z"
   },
   {
    "duration": 38,
    "start_time": "2021-07-21T18:45:48.763Z"
   },
   {
    "duration": 8,
    "start_time": "2021-07-21T18:45:48.804Z"
   },
   {
    "duration": 58,
    "start_time": "2021-07-21T18:45:48.815Z"
   },
   {
    "duration": 17,
    "start_time": "2021-07-21T18:45:48.875Z"
   },
   {
    "duration": 48,
    "start_time": "2021-07-21T18:45:48.895Z"
   },
   {
    "duration": 47,
    "start_time": "2021-07-21T18:45:48.946Z"
   },
   {
    "duration": 62,
    "start_time": "2021-07-21T18:45:48.995Z"
   },
   {
    "duration": 5205,
    "start_time": "2021-07-21T18:45:49.060Z"
   },
   {
    "duration": 11,
    "start_time": "2021-07-21T18:45:54.269Z"
   },
   {
    "duration": 22,
    "start_time": "2021-07-21T18:45:54.283Z"
   },
   {
    "duration": 97,
    "start_time": "2021-07-21T18:45:54.308Z"
   },
   {
    "duration": 53,
    "start_time": "2021-07-21T18:45:54.408Z"
   },
   {
    "duration": 18,
    "start_time": "2021-07-21T18:45:54.464Z"
   },
   {
    "duration": 7,
    "start_time": "2021-07-21T18:45:54.487Z"
   },
   {
    "duration": 62,
    "start_time": "2021-07-21T18:45:54.496Z"
   },
   {
    "duration": 27,
    "start_time": "2021-07-21T18:45:54.561Z"
   },
   {
    "duration": 10,
    "start_time": "2021-07-21T18:45:54.591Z"
   },
   {
    "duration": 55,
    "start_time": "2021-07-21T18:45:54.604Z"
   },
   {
    "duration": 39,
    "start_time": "2021-07-21T18:45:54.663Z"
   },
   {
    "duration": 51,
    "start_time": "2021-07-21T18:45:54.705Z"
   },
   {
    "duration": 15,
    "start_time": "2021-07-21T18:45:54.759Z"
   },
   {
    "duration": 13,
    "start_time": "2021-07-21T18:45:54.778Z"
   },
   {
    "duration": 99,
    "start_time": "2021-07-21T18:45:54.794Z"
   },
   {
    "duration": 67,
    "start_time": "2021-07-21T18:45:54.895Z"
   },
   {
    "duration": 11,
    "start_time": "2021-07-21T18:45:54.966Z"
   },
   {
    "duration": 46,
    "start_time": "2021-07-21T18:45:54.980Z"
   },
   {
    "duration": 18,
    "start_time": "2021-07-21T18:45:55.054Z"
   },
   {
    "duration": 16,
    "start_time": "2021-07-21T18:47:47.350Z"
   },
   {
    "duration": 1085,
    "start_time": "2021-07-21T18:48:26.951Z"
   }
  ],
  "kernelspec": {
   "display_name": "Python 3",
   "language": "python",
   "name": "python3"
  },
  "language_info": {
   "codemirror_mode": {
    "name": "ipython",
    "version": 3
   },
   "file_extension": ".py",
   "mimetype": "text/x-python",
   "name": "python",
   "nbconvert_exporter": "python",
   "pygments_lexer": "ipython3",
   "version": "3.7.8"
  },
  "toc": {
   "base_numbering": 1,
   "nav_menu": {
    "height": "237px",
    "width": "310px"
   },
   "number_sections": false,
   "sideBar": true,
   "skip_h1_title": true,
   "title_cell": "Table of Contents",
   "title_sidebar": "Contents",
   "toc_cell": false,
   "toc_position": {},
   "toc_section_display": true,
   "toc_window_display": true
  }
 },
 "nbformat": 4,
 "nbformat_minor": 2
}
